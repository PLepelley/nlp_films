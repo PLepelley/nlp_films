{
 "cells": [
  {
   "cell_type": "markdown",
   "id": "ca6e838d",
   "metadata": {},
   "source": [
    "### Librairies"
   ]
  },
  {
   "cell_type": "code",
   "execution_count": 1,
   "id": "22ce5d91",
   "metadata": {},
   "outputs": [
    {
     "name": "stdout",
     "output_type": "stream",
     "text": [
      "Traceback (most recent call last):\r\n",
      "  File \"/usr/bin/conda\", line 33, in <module>\r\n",
      "    sys.exit(load_entry_point('conda==4.1.6', 'console_scripts', 'conda')())\r\n",
      "  File \"/usr/lib/python3.10/site-packages/conda/cli/main.py\", line 94, in main\r\n",
      "    imported = importlib.import_module(module)\r\n",
      "  File \"/usr/lib/python3.10/importlib/__init__.py\", line 126, in import_module\r\n",
      "    return _bootstrap._gcd_import(name[level:], package, level)\r\n",
      "  File \"<frozen importlib._bootstrap>\", line 1050, in _gcd_import\r\n",
      "  File \"<frozen importlib._bootstrap>\", line 1027, in _find_and_load\r\n",
      "  File \"<frozen importlib._bootstrap>\", line 1006, in _find_and_load_unlocked\r\n",
      "  File \"<frozen importlib._bootstrap>\", line 688, in _load_unlocked\r\n",
      "  File \"<frozen importlib._bootstrap_external>\", line 883, in exec_module\r\n",
      "  File \"<frozen importlib._bootstrap>\", line 241, in _call_with_frames_removed\r\n",
      "  File \"/usr/lib/python3.10/site-packages/conda/cli/main_list.py\", line 18, in <module>\r\n",
      "    from ..egg_info import get_egg_info\r\n",
      "  File \"/usr/lib/python3.10/site-packages/conda/egg_info.py\", line 15, in <module>\r\n",
      "    from .misc import rel_path\r\n",
      "  File \"/usr/lib/python3.10/site-packages/conda/misc.py\", line 18, in <module>\r\n",
      "    from .instructions import RM_FETCHED, FETCH, RM_EXTRACTED, EXTRACT, UNLINK, LINK, SYMLINK_CONDA\r\n",
      "  File \"/usr/lib/python3.10/site-packages/conda/instructions.py\", line 7, in <module>\r\n",
      "    from .fetch import fetch_pkg\r\n",
      "  File \"/usr/lib/python3.10/site-packages/conda/fetch.py\", line 26, in <module>\r\n",
      "    from .connection import CondaSession, unparse_url, RETRIES\r\n",
      "  File \"/usr/lib/python3.10/site-packages/conda/connection.py\", line 40, in <module>\r\n",
      "    distinfo = platform.linux_distribution()\r\n",
      "AttributeError: module 'platform' has no attribute 'linux_distribution'\r\n"
     ]
    }
   ],
   "source": [
    "!conda info"
   ]
  },
  {
   "cell_type": "markdown",
   "id": "09ddb973",
   "metadata": {},
   "source": [
    "### Librairies\n",
    "-----------------------------"
   ]
  },
  {
   "cell_type": "code",
   "execution_count": 57,
   "id": "e95893c5",
   "metadata": {},
   "outputs": [
    {
     "name": "stderr",
     "output_type": "stream",
     "text": [
      "[nltk_data] Downloading package averaged_perceptron_tagger to\n",
      "[nltk_data]     /home/perrine/nltk_data...\n",
      "[nltk_data]   Unzipping taggers/averaged_perceptron_tagger.zip.\n"
     ]
    }
   ],
   "source": [
    "import requests\n",
    "import lxml.html as lh\n",
    "import pandas as pd\n",
    "from wordcloud import WordCloud\n",
    "import nltk\n",
    "nltk.download('averaged_perceptron_tagger')\n",
    "from nltk.corpus import stopwords\n",
    "import matplotlib.pyplot as plt\n",
    "from nltk.stem.snowball import SnowballStemmer\n",
    "from nltk.stem import WordNetLemmatizer\n",
    "import pandas as pd\n",
    "from sklearn.feature_extraction.text import CountVectorizer\n",
    "from sklearn.model_selection import train_test_split\n",
    "from sklearn.linear_model import LogisticRegression\n",
    "from sklearn.metrics import confusion_matrix"
   ]
  },
  {
   "cell_type": "markdown",
   "id": "812a8b03",
   "metadata": {},
   "source": [
    "### Récupération des données : webscrapping\n",
    "------------------------"
   ]
  },
  {
   "cell_type": "code",
   "execution_count": 3,
   "id": "6c2d6b2c",
   "metadata": {},
   "outputs": [],
   "source": [
    "# URL\n",
    "url_inception = 'https://www.allocine.fr/film/fichefilm-143692/critiques/spectateurs/'\n",
    "url_sonic = 'https://www.allocine.fr/film/fichefilm-281203/critiques/spectateurs/'\n",
    "# URI-SUFFIX\n",
    "uri_pages = '?page='\n",
    "# Number of pages to read\n",
    "nbPages = 100\n",
    "\n",
    "tags = ['//span[@class=\"stareval-note\"]', \\\n",
    "       '//div[@class=\"content-txt review-card-content\"]']\n",
    "cols = ['Note', \\\n",
    "        'Commentaire']"
   ]
  },
  {
   "cell_type": "code",
   "execution_count": 4,
   "id": "f0eec947",
   "metadata": {},
   "outputs": [],
   "source": [
    "def get_page(url):\n",
    "    page = requests.get(url)\n",
    "    doc = lh.fromstring(page.content)\n",
    "    \n",
    "    #Get the web data via xpath\n",
    "    content = []\n",
    "    for i in range(len(tags)):\n",
    "        content.append(doc.xpath(tags[i]))\n",
    "    \n",
    "    # Gather the data into a Pandas DataFrame array\n",
    "    df_liste = []\n",
    "    for j in range(len(tags)):\n",
    "        tmp = pd.DataFrame([content[j][i].text_content().strip() for i in range(len(content[i]))], columns=[cols[j]])\n",
    "        tmp['key'] = tmp.index\n",
    "        df_liste.append(tmp)\n",
    " \n",
    "    # Build the unique Dataframe with one tag (xpath) content per column\n",
    "    liste = df_liste[0]\n",
    "    for j in range(len(tags)-1):\n",
    "        liste = liste.join(df_liste[j+1], on='key', how='left', lsuffix='_l', rsuffix='_r')\n",
    "        liste['key'] = liste.index\n",
    "        del liste['key_l']\n",
    "        del liste['key_r']\n",
    " \n",
    "    return liste        "
   ]
  },
  {
   "cell_type": "code",
   "execution_count": 5,
   "id": "8fef659a",
   "metadata": {},
   "outputs": [],
   "source": [
    "def getPages(_nbPages, _url):\n",
    "    liste_finale = pd.DataFrame()\n",
    "    for i in range (_nbPages):\n",
    "        liste = get_page(_url + uri_pages + str(i+1))\n",
    "        liste_finale = pd.concat([liste_finale, liste], ignore_index=True)\n",
    "    return liste_finale\n",
    " \n",
    "df_inception = getPages(nbPages, url_inception)"
   ]
  },
  {
   "cell_type": "code",
   "execution_count": 6,
   "id": "f033fa23",
   "metadata": {},
   "outputs": [
    {
     "data": {
      "text/html": [
       "<div>\n",
       "<style scoped>\n",
       "    .dataframe tbody tr th:only-of-type {\n",
       "        vertical-align: middle;\n",
       "    }\n",
       "\n",
       "    .dataframe tbody tr th {\n",
       "        vertical-align: top;\n",
       "    }\n",
       "\n",
       "    .dataframe thead th {\n",
       "        text-align: right;\n",
       "    }\n",
       "</style>\n",
       "<table border=\"1\" class=\"dataframe\">\n",
       "  <thead>\n",
       "    <tr style=\"text-align: right;\">\n",
       "      <th></th>\n",
       "      <th>Note</th>\n",
       "      <th>Commentaire</th>\n",
       "      <th>key</th>\n",
       "    </tr>\n",
       "  </thead>\n",
       "  <tbody>\n",
       "    <tr>\n",
       "      <th>0</th>\n",
       "      <td>5,0</td>\n",
       "      <td>Après le chef d'oeuvre super-héroïque The Dark...</td>\n",
       "      <td>0</td>\n",
       "    </tr>\n",
       "    <tr>\n",
       "      <th>1</th>\n",
       "      <td>5,0</td>\n",
       "      <td>C’est fou ce qu’on aime détester Christopher N...</td>\n",
       "      <td>1</td>\n",
       "    </tr>\n",
       "    <tr>\n",
       "      <th>2</th>\n",
       "      <td>5,0</td>\n",
       "      <td>CHEF D’ŒUVRE ! Le film est absolument parfait ...</td>\n",
       "      <td>2</td>\n",
       "    </tr>\n",
       "    <tr>\n",
       "      <th>3</th>\n",
       "      <td>5,0</td>\n",
       "      <td>Un film aussi novateur que complexe, dont la m...</td>\n",
       "      <td>3</td>\n",
       "    </tr>\n",
       "    <tr>\n",
       "      <th>4</th>\n",
       "      <td>3,5</td>\n",
       "      <td>Le meilleur blockbuster de 2010 a pour thème l...</td>\n",
       "      <td>4</td>\n",
       "    </tr>\n",
       "  </tbody>\n",
       "</table>\n",
       "</div>"
      ],
      "text/plain": [
       "  Note                                        Commentaire  key\n",
       "0  5,0  Après le chef d'oeuvre super-héroïque The Dark...    0\n",
       "1  5,0  C’est fou ce qu’on aime détester Christopher N...    1\n",
       "2  5,0  CHEF D’ŒUVRE ! Le film est absolument parfait ...    2\n",
       "3  5,0  Un film aussi novateur que complexe, dont la m...    3\n",
       "4  3,5  Le meilleur blockbuster de 2010 a pour thème l...    4"
      ]
     },
     "execution_count": 6,
     "metadata": {},
     "output_type": "execute_result"
    }
   ],
   "source": [
    "df_inception.head()"
   ]
  },
  {
   "cell_type": "code",
   "execution_count": 7,
   "id": "f17e5ee8",
   "metadata": {
    "scrolled": true
   },
   "outputs": [
    {
     "data": {
      "text/html": [
       "<div>\n",
       "<style scoped>\n",
       "    .dataframe tbody tr th:only-of-type {\n",
       "        vertical-align: middle;\n",
       "    }\n",
       "\n",
       "    .dataframe tbody tr th {\n",
       "        vertical-align: top;\n",
       "    }\n",
       "\n",
       "    .dataframe thead th {\n",
       "        text-align: right;\n",
       "    }\n",
       "</style>\n",
       "<table border=\"1\" class=\"dataframe\">\n",
       "  <thead>\n",
       "    <tr style=\"text-align: right;\">\n",
       "      <th></th>\n",
       "      <th>Note</th>\n",
       "      <th>Commentaire</th>\n",
       "      <th>key</th>\n",
       "    </tr>\n",
       "  </thead>\n",
       "  <tbody>\n",
       "    <tr>\n",
       "      <th>0</th>\n",
       "      <td>5,0</td>\n",
       "      <td>Cette suite de sonic est incroyable !Le fan qu...</td>\n",
       "      <td>0</td>\n",
       "    </tr>\n",
       "    <tr>\n",
       "      <th>1</th>\n",
       "      <td>4,0</td>\n",
       "      <td>une bonne suite pour les aventures de sonic au...</td>\n",
       "      <td>1</td>\n",
       "    </tr>\n",
       "    <tr>\n",
       "      <th>2</th>\n",
       "      <td>3,0</td>\n",
       "      <td>Malgré deux nouveaux personnages de l'univers ...</td>\n",
       "      <td>2</td>\n",
       "    </tr>\n",
       "    <tr>\n",
       "      <th>3</th>\n",
       "      <td>4,0</td>\n",
       "      <td>Très bon film ont retrouve ce qui fait l’espri...</td>\n",
       "      <td>3</td>\n",
       "    </tr>\n",
       "    <tr>\n",
       "      <th>4</th>\n",
       "      <td>4,0</td>\n",
       "      <td>Super film de ouf, le fait que Knuckles soit d...</td>\n",
       "      <td>4</td>\n",
       "    </tr>\n",
       "  </tbody>\n",
       "</table>\n",
       "</div>"
      ],
      "text/plain": [
       "  Note                                        Commentaire  key\n",
       "0  5,0  Cette suite de sonic est incroyable !Le fan qu...    0\n",
       "1  4,0  une bonne suite pour les aventures de sonic au...    1\n",
       "2  3,0  Malgré deux nouveaux personnages de l'univers ...    2\n",
       "3  4,0  Très bon film ont retrouve ce qui fait l’espri...    3\n",
       "4  4,0  Super film de ouf, le fait que Knuckles soit d...    4"
      ]
     },
     "execution_count": 7,
     "metadata": {},
     "output_type": "execute_result"
    }
   ],
   "source": [
    "df_sonic = getPages(nbPages, url_sonic)\n",
    "df_sonic.head()"
   ]
  },
  {
   "cell_type": "markdown",
   "id": "6a4f9c12",
   "metadata": {},
   "source": [
    "### Concaténation des dataframes"
   ]
  },
  {
   "cell_type": "code",
   "execution_count": 8,
   "id": "998fa06f",
   "metadata": {},
   "outputs": [
    {
     "data": {
      "text/plain": [
       "(1045, 3)"
      ]
     },
     "execution_count": 8,
     "metadata": {},
     "output_type": "execute_result"
    }
   ],
   "source": [
    "df_sonic.shape"
   ]
  },
  {
   "cell_type": "code",
   "execution_count": 9,
   "id": "74816077",
   "metadata": {},
   "outputs": [
    {
     "data": {
      "text/plain": [
       "(1500, 3)"
      ]
     },
     "execution_count": 9,
     "metadata": {},
     "output_type": "execute_result"
    }
   ],
   "source": [
    "df_inception.shape"
   ]
  },
  {
   "cell_type": "code",
   "execution_count": 10,
   "id": "52dea49f",
   "metadata": {},
   "outputs": [],
   "source": [
    "df_films = pd.concat([df_sonic, df_inception])"
   ]
  },
  {
   "cell_type": "code",
   "execution_count": 11,
   "id": "c94e798b",
   "metadata": {},
   "outputs": [],
   "source": [
    "df_films.reset_index(inplace=True)"
   ]
  },
  {
   "cell_type": "code",
   "execution_count": 13,
   "id": "a003df90",
   "metadata": {},
   "outputs": [
    {
     "data": {
      "text/html": [
       "<div>\n",
       "<style scoped>\n",
       "    .dataframe tbody tr th:only-of-type {\n",
       "        vertical-align: middle;\n",
       "    }\n",
       "\n",
       "    .dataframe tbody tr th {\n",
       "        vertical-align: top;\n",
       "    }\n",
       "\n",
       "    .dataframe thead th {\n",
       "        text-align: right;\n",
       "    }\n",
       "</style>\n",
       "<table border=\"1\" class=\"dataframe\">\n",
       "  <thead>\n",
       "    <tr style=\"text-align: right;\">\n",
       "      <th></th>\n",
       "      <th>index</th>\n",
       "      <th>Note</th>\n",
       "      <th>Commentaire</th>\n",
       "      <th>key</th>\n",
       "    </tr>\n",
       "  </thead>\n",
       "  <tbody>\n",
       "    <tr>\n",
       "      <th>2540</th>\n",
       "      <td>1495</td>\n",
       "      <td>4,0</td>\n",
       "      <td>Un film dans le monde des rêves avec un soupço...</td>\n",
       "      <td>10</td>\n",
       "    </tr>\n",
       "    <tr>\n",
       "      <th>2541</th>\n",
       "      <td>1496</td>\n",
       "      <td>0,5</td>\n",
       "      <td>scénario sans consistance et acteur principal ...</td>\n",
       "      <td>11</td>\n",
       "    </tr>\n",
       "    <tr>\n",
       "      <th>2542</th>\n",
       "      <td>1497</td>\n",
       "      <td>5,0</td>\n",
       "      <td>tout bonnement fabuleux ! ce film est une pure...</td>\n",
       "      <td>12</td>\n",
       "    </tr>\n",
       "    <tr>\n",
       "      <th>2543</th>\n",
       "      <td>1498</td>\n",
       "      <td>4,5</td>\n",
       "      <td>Ce film est d'une réflexion et d'une Originali...</td>\n",
       "      <td>13</td>\n",
       "    </tr>\n",
       "    <tr>\n",
       "      <th>2544</th>\n",
       "      <td>1499</td>\n",
       "      <td>2,5</td>\n",
       "      <td>Agréablement surpris! Des effets spéciaux impr...</td>\n",
       "      <td>14</td>\n",
       "    </tr>\n",
       "  </tbody>\n",
       "</table>\n",
       "</div>"
      ],
      "text/plain": [
       "      index Note                                        Commentaire  key\n",
       "2540   1495  4,0  Un film dans le monde des rêves avec un soupço...   10\n",
       "2541   1496  0,5  scénario sans consistance et acteur principal ...   11\n",
       "2542   1497  5,0  tout bonnement fabuleux ! ce film est une pure...   12\n",
       "2543   1498  4,5  Ce film est d'une réflexion et d'une Originali...   13\n",
       "2544   1499  2,5  Agréablement surpris! Des effets spéciaux impr...   14"
      ]
     },
     "execution_count": 13,
     "metadata": {},
     "output_type": "execute_result"
    }
   ],
   "source": [
    "df_films.tail()"
   ]
  },
  {
   "cell_type": "code",
   "execution_count": 14,
   "id": "7c057cb8",
   "metadata": {},
   "outputs": [
    {
     "data": {
      "text/plain": [
       "(2545, 4)"
      ]
     },
     "execution_count": 14,
     "metadata": {},
     "output_type": "execute_result"
    }
   ],
   "source": [
    "df_films.shape"
   ]
  },
  {
   "cell_type": "markdown",
   "id": "1af72857",
   "metadata": {},
   "source": [
    "### Pre-processing : nettoyage des commentaires\n",
    "---------------------"
   ]
  },
  {
   "cell_type": "markdown",
   "id": "6b552f52",
   "metadata": {},
   "source": [
    "#### Elimination de la ponctuation (regex) et transformation en minuscule"
   ]
  },
  {
   "cell_type": "code",
   "execution_count": 15,
   "id": "1bc7590b",
   "metadata": {},
   "outputs": [],
   "source": [
    "df_films['Commentaire'] = df_films['Commentaire'].replace(\"[^\\w\\s]\", \" \", regex = True).str.replace(\"\\d+\", '', regex=True).str.lower()"
   ]
  },
  {
   "cell_type": "code",
   "execution_count": 16,
   "id": "9aafb553",
   "metadata": {
    "scrolled": true
   },
   "outputs": [
    {
     "data": {
      "text/html": [
       "<div>\n",
       "<style scoped>\n",
       "    .dataframe tbody tr th:only-of-type {\n",
       "        vertical-align: middle;\n",
       "    }\n",
       "\n",
       "    .dataframe tbody tr th {\n",
       "        vertical-align: top;\n",
       "    }\n",
       "\n",
       "    .dataframe thead th {\n",
       "        text-align: right;\n",
       "    }\n",
       "</style>\n",
       "<table border=\"1\" class=\"dataframe\">\n",
       "  <thead>\n",
       "    <tr style=\"text-align: right;\">\n",
       "      <th></th>\n",
       "      <th>index</th>\n",
       "      <th>Note</th>\n",
       "      <th>Commentaire</th>\n",
       "      <th>key</th>\n",
       "    </tr>\n",
       "  </thead>\n",
       "  <tbody>\n",
       "    <tr>\n",
       "      <th>0</th>\n",
       "      <td>0</td>\n",
       "      <td>5,0</td>\n",
       "      <td>cette suite de sonic est incroyable  le fan qu...</td>\n",
       "      <td>0</td>\n",
       "    </tr>\n",
       "    <tr>\n",
       "      <th>1</th>\n",
       "      <td>1</td>\n",
       "      <td>4,0</td>\n",
       "      <td>une bonne suite pour les aventures de sonic au...</td>\n",
       "      <td>1</td>\n",
       "    </tr>\n",
       "    <tr>\n",
       "      <th>2</th>\n",
       "      <td>2</td>\n",
       "      <td>3,0</td>\n",
       "      <td>malgré deux nouveaux personnages de l univers ...</td>\n",
       "      <td>2</td>\n",
       "    </tr>\n",
       "    <tr>\n",
       "      <th>3</th>\n",
       "      <td>3</td>\n",
       "      <td>4,0</td>\n",
       "      <td>très bon film ont retrouve ce qui fait l espri...</td>\n",
       "      <td>3</td>\n",
       "    </tr>\n",
       "    <tr>\n",
       "      <th>4</th>\n",
       "      <td>4</td>\n",
       "      <td>4,0</td>\n",
       "      <td>super film de ouf  le fait que knuckles soit d...</td>\n",
       "      <td>4</td>\n",
       "    </tr>\n",
       "  </tbody>\n",
       "</table>\n",
       "</div>"
      ],
      "text/plain": [
       "   index Note                                        Commentaire  key\n",
       "0      0  5,0  cette suite de sonic est incroyable  le fan qu...    0\n",
       "1      1  4,0  une bonne suite pour les aventures de sonic au...    1\n",
       "2      2  3,0  malgré deux nouveaux personnages de l univers ...    2\n",
       "3      3  4,0  très bon film ont retrouve ce qui fait l espri...    3\n",
       "4      4  4,0  super film de ouf  le fait que knuckles soit d...    4"
      ]
     },
     "execution_count": 16,
     "metadata": {},
     "output_type": "execute_result"
    }
   ],
   "source": [
    "df_films.head()"
   ]
  },
  {
   "cell_type": "markdown",
   "id": "d5cb3677",
   "metadata": {},
   "source": [
    "#### Suppression des stop words"
   ]
  },
  {
   "cell_type": "code",
   "execution_count": 17,
   "id": "cd8623d1",
   "metadata": {},
   "outputs": [],
   "source": [
    "SW = stopwords.words('french')\n",
    "df_films['Commentaire_sans_SW'] = df_films['Commentaire'].apply(lambda x:' '.join([word for word in x.split() if word not in SW]))\n"
   ]
  },
  {
   "cell_type": "code",
   "execution_count": 18,
   "id": "b4731091",
   "metadata": {},
   "outputs": [
    {
     "data": {
      "text/html": [
       "<div>\n",
       "<style scoped>\n",
       "    .dataframe tbody tr th:only-of-type {\n",
       "        vertical-align: middle;\n",
       "    }\n",
       "\n",
       "    .dataframe tbody tr th {\n",
       "        vertical-align: top;\n",
       "    }\n",
       "\n",
       "    .dataframe thead th {\n",
       "        text-align: right;\n",
       "    }\n",
       "</style>\n",
       "<table border=\"1\" class=\"dataframe\">\n",
       "  <thead>\n",
       "    <tr style=\"text-align: right;\">\n",
       "      <th></th>\n",
       "      <th>index</th>\n",
       "      <th>Note</th>\n",
       "      <th>Commentaire</th>\n",
       "      <th>key</th>\n",
       "      <th>Commentaire_sans_SW</th>\n",
       "    </tr>\n",
       "  </thead>\n",
       "  <tbody>\n",
       "    <tr>\n",
       "      <th>0</th>\n",
       "      <td>0</td>\n",
       "      <td>5,0</td>\n",
       "      <td>cette suite de sonic est incroyable  le fan qu...</td>\n",
       "      <td>0</td>\n",
       "      <td>cette suite sonic incroyable fan ravi quand jo...</td>\n",
       "    </tr>\n",
       "    <tr>\n",
       "      <th>1</th>\n",
       "      <td>1</td>\n",
       "      <td>4,0</td>\n",
       "      <td>une bonne suite pour les aventures de sonic au...</td>\n",
       "      <td>1</td>\n",
       "      <td>bonne suite aventures sonic cinéma deja premie...</td>\n",
       "    </tr>\n",
       "    <tr>\n",
       "      <th>2</th>\n",
       "      <td>2</td>\n",
       "      <td>3,0</td>\n",
       "      <td>malgré deux nouveaux personnages de l univers ...</td>\n",
       "      <td>2</td>\n",
       "      <td>malgré deux nouveaux personnages univers jeu v...</td>\n",
       "    </tr>\n",
       "    <tr>\n",
       "      <th>3</th>\n",
       "      <td>3</td>\n",
       "      <td>4,0</td>\n",
       "      <td>très bon film ont retrouve ce qui fait l espri...</td>\n",
       "      <td>3</td>\n",
       "      <td>très bon film retrouve fait esprit sonic film ...</td>\n",
       "    </tr>\n",
       "    <tr>\n",
       "      <th>4</th>\n",
       "      <td>4</td>\n",
       "      <td>4,0</td>\n",
       "      <td>super film de ouf  le fait que knuckles soit d...</td>\n",
       "      <td>4</td>\n",
       "      <td>super film ouf fait knuckles côté eggman début...</td>\n",
       "    </tr>\n",
       "    <tr>\n",
       "      <th>...</th>\n",
       "      <td>...</td>\n",
       "      <td>...</td>\n",
       "      <td>...</td>\n",
       "      <td>...</td>\n",
       "      <td>...</td>\n",
       "    </tr>\n",
       "    <tr>\n",
       "      <th>2540</th>\n",
       "      <td>1495</td>\n",
       "      <td>4,0</td>\n",
       "      <td>un film dans le monde des rêves avec un soupço...</td>\n",
       "      <td>10</td>\n",
       "      <td>film monde rêves soupçon film action apocalypt...</td>\n",
       "    </tr>\n",
       "    <tr>\n",
       "      <th>2541</th>\n",
       "      <td>1496</td>\n",
       "      <td>0,5</td>\n",
       "      <td>scénario sans consistance et acteur principal ...</td>\n",
       "      <td>11</td>\n",
       "      <td>scénario sans consistance acteur principal peu...</td>\n",
       "    </tr>\n",
       "    <tr>\n",
       "      <th>2542</th>\n",
       "      <td>1497</td>\n",
       "      <td>5,0</td>\n",
       "      <td>tout bonnement fabuleux   ce film est une pure...</td>\n",
       "      <td>12</td>\n",
       "      <td>tout bonnement fabuleux film pure merveille al...</td>\n",
       "    </tr>\n",
       "    <tr>\n",
       "      <th>2543</th>\n",
       "      <td>1498</td>\n",
       "      <td>4,5</td>\n",
       "      <td>ce film est d une réflexion et d une originali...</td>\n",
       "      <td>13</td>\n",
       "      <td>film réflexion originalité inégalable si film ...</td>\n",
       "    </tr>\n",
       "    <tr>\n",
       "      <th>2544</th>\n",
       "      <td>1499</td>\n",
       "      <td>2,5</td>\n",
       "      <td>agréablement surpris  des effets spéciaux impr...</td>\n",
       "      <td>14</td>\n",
       "      <td>agréablement surpris effets spéciaux impressio...</td>\n",
       "    </tr>\n",
       "  </tbody>\n",
       "</table>\n",
       "<p>2545 rows × 5 columns</p>\n",
       "</div>"
      ],
      "text/plain": [
       "      index Note                                        Commentaire  key  \\\n",
       "0         0  5,0  cette suite de sonic est incroyable  le fan qu...    0   \n",
       "1         1  4,0  une bonne suite pour les aventures de sonic au...    1   \n",
       "2         2  3,0  malgré deux nouveaux personnages de l univers ...    2   \n",
       "3         3  4,0  très bon film ont retrouve ce qui fait l espri...    3   \n",
       "4         4  4,0  super film de ouf  le fait que knuckles soit d...    4   \n",
       "...     ...  ...                                                ...  ...   \n",
       "2540   1495  4,0  un film dans le monde des rêves avec un soupço...   10   \n",
       "2541   1496  0,5  scénario sans consistance et acteur principal ...   11   \n",
       "2542   1497  5,0  tout bonnement fabuleux   ce film est une pure...   12   \n",
       "2543   1498  4,5  ce film est d une réflexion et d une originali...   13   \n",
       "2544   1499  2,5  agréablement surpris  des effets spéciaux impr...   14   \n",
       "\n",
       "                                    Commentaire_sans_SW  \n",
       "0     cette suite sonic incroyable fan ravi quand jo...  \n",
       "1     bonne suite aventures sonic cinéma deja premie...  \n",
       "2     malgré deux nouveaux personnages univers jeu v...  \n",
       "3     très bon film retrouve fait esprit sonic film ...  \n",
       "4     super film ouf fait knuckles côté eggman début...  \n",
       "...                                                 ...  \n",
       "2540  film monde rêves soupçon film action apocalypt...  \n",
       "2541  scénario sans consistance acteur principal peu...  \n",
       "2542  tout bonnement fabuleux film pure merveille al...  \n",
       "2543  film réflexion originalité inégalable si film ...  \n",
       "2544  agréablement surpris effets spéciaux impressio...  \n",
       "\n",
       "[2545 rows x 5 columns]"
      ]
     },
     "execution_count": 18,
     "metadata": {},
     "output_type": "execute_result"
    }
   ],
   "source": [
    "df_films"
   ]
  },
  {
   "cell_type": "markdown",
   "id": "d98fe543",
   "metadata": {},
   "source": [
    "#### Lemmentiser"
   ]
  },
  {
   "cell_type": "code",
   "execution_count": 19,
   "id": "38130a41",
   "metadata": {},
   "outputs": [
    {
     "name": "stderr",
     "output_type": "stream",
     "text": [
      "2022-06-07 15:09:23.300278: W tensorflow/stream_executor/platform/default/dso_loader.cc:64] Could not load dynamic library 'libcudart.so.11.0'; dlerror: libcudart.so.11.0: cannot open shared object file: No such file or directory\n",
      "2022-06-07 15:09:23.300427: I tensorflow/stream_executor/cuda/cudart_stub.cc:29] Ignore above cudart dlerror if you do not have a GPU set up on your machine.\n"
     ]
    }
   ],
   "source": [
    "import spacy\n",
    "nlp = spacy.load('fr_core_news_md')"
   ]
  },
  {
   "cell_type": "code",
   "execution_count": 20,
   "id": "cd7defbf",
   "metadata": {},
   "outputs": [],
   "source": [
    "df_films['lemmatizer'] = df_films['Commentaire_sans_SW'].apply(lambda x: [y.lemma_ for y in nlp(x)])"
   ]
  },
  {
   "cell_type": "code",
   "execution_count": 21,
   "id": "3f9e2b68",
   "metadata": {},
   "outputs": [
    {
     "data": {
      "text/html": [
       "<div>\n",
       "<style scoped>\n",
       "    .dataframe tbody tr th:only-of-type {\n",
       "        vertical-align: middle;\n",
       "    }\n",
       "\n",
       "    .dataframe tbody tr th {\n",
       "        vertical-align: top;\n",
       "    }\n",
       "\n",
       "    .dataframe thead th {\n",
       "        text-align: right;\n",
       "    }\n",
       "</style>\n",
       "<table border=\"1\" class=\"dataframe\">\n",
       "  <thead>\n",
       "    <tr style=\"text-align: right;\">\n",
       "      <th></th>\n",
       "      <th>index</th>\n",
       "      <th>Note</th>\n",
       "      <th>Commentaire</th>\n",
       "      <th>key</th>\n",
       "      <th>Commentaire_sans_SW</th>\n",
       "      <th>lemmatizer</th>\n",
       "    </tr>\n",
       "  </thead>\n",
       "  <tbody>\n",
       "    <tr>\n",
       "      <th>0</th>\n",
       "      <td>0</td>\n",
       "      <td>5,0</td>\n",
       "      <td>cette suite de sonic est incroyable  le fan qu...</td>\n",
       "      <td>0</td>\n",
       "      <td>cette suite sonic incroyable fan ravi quand jo...</td>\n",
       "      <td>[ce, suite, sonic, incroyable, fan, ravir, qua...</td>\n",
       "    </tr>\n",
       "    <tr>\n",
       "      <th>1</th>\n",
       "      <td>1</td>\n",
       "      <td>4,0</td>\n",
       "      <td>une bonne suite pour les aventures de sonic au...</td>\n",
       "      <td>1</td>\n",
       "      <td>bonne suite aventures sonic cinéma deja premie...</td>\n",
       "      <td>[bon, suite, aventure, sonic, cinéma, deja, pr...</td>\n",
       "    </tr>\n",
       "    <tr>\n",
       "      <th>2</th>\n",
       "      <td>2</td>\n",
       "      <td>3,0</td>\n",
       "      <td>malgré deux nouveaux personnages de l univers ...</td>\n",
       "      <td>2</td>\n",
       "      <td>malgré deux nouveaux personnages univers jeu v...</td>\n",
       "      <td>[malgré, deux, nouveau, personnage, univer, je...</td>\n",
       "    </tr>\n",
       "    <tr>\n",
       "      <th>3</th>\n",
       "      <td>3</td>\n",
       "      <td>4,0</td>\n",
       "      <td>très bon film ont retrouve ce qui fait l espri...</td>\n",
       "      <td>3</td>\n",
       "      <td>très bon film retrouve fait esprit sonic film ...</td>\n",
       "      <td>[très, bon, film, retrouve, faire, esprit, son...</td>\n",
       "    </tr>\n",
       "    <tr>\n",
       "      <th>4</th>\n",
       "      <td>4</td>\n",
       "      <td>4,0</td>\n",
       "      <td>super film de ouf  le fait que knuckles soit d...</td>\n",
       "      <td>4</td>\n",
       "      <td>super film ouf fait knuckles côté eggman début...</td>\n",
       "      <td>[super, film, ouf, faire, knuckles, côté, eggm...</td>\n",
       "    </tr>\n",
       "  </tbody>\n",
       "</table>\n",
       "</div>"
      ],
      "text/plain": [
       "   index Note                                        Commentaire  key  \\\n",
       "0      0  5,0  cette suite de sonic est incroyable  le fan qu...    0   \n",
       "1      1  4,0  une bonne suite pour les aventures de sonic au...    1   \n",
       "2      2  3,0  malgré deux nouveaux personnages de l univers ...    2   \n",
       "3      3  4,0  très bon film ont retrouve ce qui fait l espri...    3   \n",
       "4      4  4,0  super film de ouf  le fait que knuckles soit d...    4   \n",
       "\n",
       "                                 Commentaire_sans_SW  \\\n",
       "0  cette suite sonic incroyable fan ravi quand jo...   \n",
       "1  bonne suite aventures sonic cinéma deja premie...   \n",
       "2  malgré deux nouveaux personnages univers jeu v...   \n",
       "3  très bon film retrouve fait esprit sonic film ...   \n",
       "4  super film ouf fait knuckles côté eggman début...   \n",
       "\n",
       "                                          lemmatizer  \n",
       "0  [ce, suite, sonic, incroyable, fan, ravir, qua...  \n",
       "1  [bon, suite, aventure, sonic, cinéma, deja, pr...  \n",
       "2  [malgré, deux, nouveau, personnage, univer, je...  \n",
       "3  [très, bon, film, retrouve, faire, esprit, son...  \n",
       "4  [super, film, ouf, faire, knuckles, côté, eggm...  "
      ]
     },
     "execution_count": 21,
     "metadata": {},
     "output_type": "execute_result"
    }
   ],
   "source": [
    "df_films.head()"
   ]
  },
  {
   "cell_type": "markdown",
   "id": "88257315",
   "metadata": {},
   "source": [
    "##### Transformation des listes dans la colonne \"lemmatizer\" en chaine de caractères"
   ]
  },
  {
   "cell_type": "code",
   "execution_count": 22,
   "id": "45dc32e6",
   "metadata": {},
   "outputs": [
    {
     "data": {
      "text/html": [
       "<div>\n",
       "<style scoped>\n",
       "    .dataframe tbody tr th:only-of-type {\n",
       "        vertical-align: middle;\n",
       "    }\n",
       "\n",
       "    .dataframe tbody tr th {\n",
       "        vertical-align: top;\n",
       "    }\n",
       "\n",
       "    .dataframe thead th {\n",
       "        text-align: right;\n",
       "    }\n",
       "</style>\n",
       "<table border=\"1\" class=\"dataframe\">\n",
       "  <thead>\n",
       "    <tr style=\"text-align: right;\">\n",
       "      <th></th>\n",
       "      <th>index</th>\n",
       "      <th>Note</th>\n",
       "      <th>Commentaire</th>\n",
       "      <th>key</th>\n",
       "      <th>Commentaire_sans_SW</th>\n",
       "      <th>lemmatizer</th>\n",
       "    </tr>\n",
       "  </thead>\n",
       "  <tbody>\n",
       "    <tr>\n",
       "      <th>0</th>\n",
       "      <td>0</td>\n",
       "      <td>5,0</td>\n",
       "      <td>cette suite de sonic est incroyable  le fan qu...</td>\n",
       "      <td>0</td>\n",
       "      <td>cette suite sonic incroyable fan ravi quand jo...</td>\n",
       "      <td>ce suite sonic incroyable fan ravir quand joue...</td>\n",
       "    </tr>\n",
       "    <tr>\n",
       "      <th>1</th>\n",
       "      <td>1</td>\n",
       "      <td>4,0</td>\n",
       "      <td>une bonne suite pour les aventures de sonic au...</td>\n",
       "      <td>1</td>\n",
       "      <td>bonne suite aventures sonic cinéma deja premie...</td>\n",
       "      <td>bon suite aventure sonic cinéma deja premier f...</td>\n",
       "    </tr>\n",
       "    <tr>\n",
       "      <th>2</th>\n",
       "      <td>2</td>\n",
       "      <td>3,0</td>\n",
       "      <td>malgré deux nouveaux personnages de l univers ...</td>\n",
       "      <td>2</td>\n",
       "      <td>malgré deux nouveaux personnages univers jeu v...</td>\n",
       "      <td>malgré deux nouveau personnage univer jeu vidé...</td>\n",
       "    </tr>\n",
       "    <tr>\n",
       "      <th>3</th>\n",
       "      <td>3</td>\n",
       "      <td>4,0</td>\n",
       "      <td>très bon film ont retrouve ce qui fait l espri...</td>\n",
       "      <td>3</td>\n",
       "      <td>très bon film retrouve fait esprit sonic film ...</td>\n",
       "      <td>très bon film retrouve faire esprit sonic film...</td>\n",
       "    </tr>\n",
       "    <tr>\n",
       "      <th>4</th>\n",
       "      <td>4</td>\n",
       "      <td>4,0</td>\n",
       "      <td>super film de ouf  le fait que knuckles soit d...</td>\n",
       "      <td>4</td>\n",
       "      <td>super film ouf fait knuckles côté eggman début...</td>\n",
       "      <td>super film ouf faire knuckles côté eggman débu...</td>\n",
       "    </tr>\n",
       "  </tbody>\n",
       "</table>\n",
       "</div>"
      ],
      "text/plain": [
       "   index Note                                        Commentaire  key  \\\n",
       "0      0  5,0  cette suite de sonic est incroyable  le fan qu...    0   \n",
       "1      1  4,0  une bonne suite pour les aventures de sonic au...    1   \n",
       "2      2  3,0  malgré deux nouveaux personnages de l univers ...    2   \n",
       "3      3  4,0  très bon film ont retrouve ce qui fait l espri...    3   \n",
       "4      4  4,0  super film de ouf  le fait que knuckles soit d...    4   \n",
       "\n",
       "                                 Commentaire_sans_SW  \\\n",
       "0  cette suite sonic incroyable fan ravi quand jo...   \n",
       "1  bonne suite aventures sonic cinéma deja premie...   \n",
       "2  malgré deux nouveaux personnages univers jeu v...   \n",
       "3  très bon film retrouve fait esprit sonic film ...   \n",
       "4  super film ouf fait knuckles côté eggman début...   \n",
       "\n",
       "                                          lemmatizer  \n",
       "0  ce suite sonic incroyable fan ravir quand joue...  \n",
       "1  bon suite aventure sonic cinéma deja premier f...  \n",
       "2  malgré deux nouveau personnage univer jeu vidé...  \n",
       "3  très bon film retrouve faire esprit sonic film...  \n",
       "4  super film ouf faire knuckles côté eggman débu...  "
      ]
     },
     "execution_count": 22,
     "metadata": {},
     "output_type": "execute_result"
    }
   ],
   "source": [
    "df_films['lemmatizer'] = df_films[\"lemmatizer\"].apply(lambda x: ' '.join(str(y) for y in x))\n",
    "df_films.head()"
   ]
  },
  {
   "cell_type": "markdown",
   "id": "1c19ac9c",
   "metadata": {},
   "source": [
    "#### Remplacement des accents"
   ]
  },
  {
   "cell_type": "code",
   "execution_count": 23,
   "id": "de79f1f7",
   "metadata": {},
   "outputs": [],
   "source": [
    "df_films['lemmatizer'] = df_films['lemmatizer'].str.normalize('NFKD').str.encode('ascii', errors='ignore').str.decode('utf-8')"
   ]
  },
  {
   "cell_type": "code",
   "execution_count": 195,
   "id": "cf6313fa",
   "metadata": {
    "scrolled": true
   },
   "outputs": [
    {
     "data": {
      "text/html": [
       "<div>\n",
       "<style scoped>\n",
       "    .dataframe tbody tr th:only-of-type {\n",
       "        vertical-align: middle;\n",
       "    }\n",
       "\n",
       "    .dataframe tbody tr th {\n",
       "        vertical-align: top;\n",
       "    }\n",
       "\n",
       "    .dataframe thead th {\n",
       "        text-align: right;\n",
       "    }\n",
       "</style>\n",
       "<table border=\"1\" class=\"dataframe\">\n",
       "  <thead>\n",
       "    <tr style=\"text-align: right;\">\n",
       "      <th></th>\n",
       "      <th>index</th>\n",
       "      <th>Note</th>\n",
       "      <th>Commentaire</th>\n",
       "      <th>key</th>\n",
       "      <th>Commentaire_sans_SW</th>\n",
       "      <th>lemmatizer</th>\n",
       "    </tr>\n",
       "  </thead>\n",
       "  <tbody>\n",
       "    <tr>\n",
       "      <th>0</th>\n",
       "      <td>0</td>\n",
       "      <td>5,0</td>\n",
       "      <td>cette suite de sonic est incroyable  le fan qu...</td>\n",
       "      <td>0</td>\n",
       "      <td>cette suite sonic incroyable fan ravi quand jo...</td>\n",
       "      <td>ce suite sonic incroyable fan ravir quand joue...</td>\n",
       "    </tr>\n",
       "    <tr>\n",
       "      <th>1</th>\n",
       "      <td>1</td>\n",
       "      <td>4,0</td>\n",
       "      <td>une bonne suite pour les aventures de sonic au...</td>\n",
       "      <td>1</td>\n",
       "      <td>bonne suite aventures sonic cinéma deja premie...</td>\n",
       "      <td>bon suite aventure sonic cinema deja premier f...</td>\n",
       "    </tr>\n",
       "    <tr>\n",
       "      <th>2</th>\n",
       "      <td>2</td>\n",
       "      <td>3,0</td>\n",
       "      <td>malgré deux nouveaux personnages de l univers ...</td>\n",
       "      <td>2</td>\n",
       "      <td>malgré deux nouveaux personnages univers jeu v...</td>\n",
       "      <td>malgre deux nouveau personnage univer jeu vide...</td>\n",
       "    </tr>\n",
       "    <tr>\n",
       "      <th>3</th>\n",
       "      <td>3</td>\n",
       "      <td>4,0</td>\n",
       "      <td>très bon film ont retrouve ce qui fait l espri...</td>\n",
       "      <td>3</td>\n",
       "      <td>très bon film retrouve fait esprit sonic film ...</td>\n",
       "      <td>tres bon film retrouve faire esprit sonic film...</td>\n",
       "    </tr>\n",
       "    <tr>\n",
       "      <th>4</th>\n",
       "      <td>4</td>\n",
       "      <td>4,0</td>\n",
       "      <td>super film de ouf  le fait que knuckles soit d...</td>\n",
       "      <td>4</td>\n",
       "      <td>super film ouf fait knuckles côté eggman début...</td>\n",
       "      <td>super film ouf faire knuckles cote eggman debu...</td>\n",
       "    </tr>\n",
       "  </tbody>\n",
       "</table>\n",
       "</div>"
      ],
      "text/plain": [
       "   index Note                                        Commentaire  key  \\\n",
       "0      0  5,0  cette suite de sonic est incroyable  le fan qu...    0   \n",
       "1      1  4,0  une bonne suite pour les aventures de sonic au...    1   \n",
       "2      2  3,0  malgré deux nouveaux personnages de l univers ...    2   \n",
       "3      3  4,0  très bon film ont retrouve ce qui fait l espri...    3   \n",
       "4      4  4,0  super film de ouf  le fait que knuckles soit d...    4   \n",
       "\n",
       "                                 Commentaire_sans_SW  \\\n",
       "0  cette suite sonic incroyable fan ravi quand jo...   \n",
       "1  bonne suite aventures sonic cinéma deja premie...   \n",
       "2  malgré deux nouveaux personnages univers jeu v...   \n",
       "3  très bon film retrouve fait esprit sonic film ...   \n",
       "4  super film ouf fait knuckles côté eggman début...   \n",
       "\n",
       "                                          lemmatizer  \n",
       "0  ce suite sonic incroyable fan ravir quand joue...  \n",
       "1  bon suite aventure sonic cinema deja premier f...  \n",
       "2  malgre deux nouveau personnage univer jeu vide...  \n",
       "3  tres bon film retrouve faire esprit sonic film...  \n",
       "4  super film ouf faire knuckles cote eggman debu...  "
      ]
     },
     "execution_count": 195,
     "metadata": {},
     "output_type": "execute_result"
    }
   ],
   "source": [
    "df_films.head()"
   ]
  },
  {
   "cell_type": "markdown",
   "id": "29391c70",
   "metadata": {},
   "source": [
    "#### Stemmatiser"
   ]
  },
  {
   "cell_type": "code",
   "execution_count": 25,
   "id": "397af10f",
   "metadata": {},
   "outputs": [],
   "source": [
    "#Méthode non utilisé pour éviter de perdre le sens des mots\n",
    "#stemmer = SnowballStemmer(\"french\")\n",
    "#df_films['stemmed'] = df_films['Commentaire_sans_SW'].str.split().apply(lambda x: [stemmer.stem(y) for y in x]) # Stem every word.\n",
    "#df_films.head()"
   ]
  },
  {
   "cell_type": "markdown",
   "id": "20645298",
   "metadata": {},
   "source": [
    "#### Définition des features et de la target"
   ]
  },
  {
   "cell_type": "code",
   "execution_count": 26,
   "id": "e641dc7a",
   "metadata": {},
   "outputs": [
    {
     "data": {
      "text/plain": [
       "dtype('float64')"
      ]
     },
     "execution_count": 26,
     "metadata": {},
     "output_type": "execute_result"
    }
   ],
   "source": [
    "X = df_films['lemmatizer']\n",
    "y = df_films['Note'].replace(',', '.', regex=True).astype('float')\n",
    "\n",
    "y.dtype"
   ]
  },
  {
   "cell_type": "code",
   "execution_count": 27,
   "id": "9603fea7",
   "metadata": {},
   "outputs": [
    {
     "data": {
      "text/plain": [
       "1.0    2226\n",
       "0.0     319\n",
       "Name: Note, dtype: int64"
      ]
     },
     "execution_count": 27,
     "metadata": {},
     "output_type": "execute_result"
    }
   ],
   "source": [
    "y = y.mask(y<3.0, 0)\n",
    "y = y.mask(y>=3.0, 1)\n",
    "\n",
    "y.value_counts()"
   ]
  },
  {
   "cell_type": "markdown",
   "id": "4c8ead4a",
   "metadata": {},
   "source": [
    "#### Fractionnement du jeu de données en train et test"
   ]
  },
  {
   "cell_type": "code",
   "execution_count": 28,
   "id": "6e835ba0",
   "metadata": {},
   "outputs": [
    {
     "name": "stdout",
     "output_type": "stream",
     "text": [
      "1.0    1781\n",
      "0.0     255\n",
      "Name: Note, dtype: int64\n",
      "1.0    445\n",
      "0.0     64\n",
      "Name: Note, dtype: int64\n"
     ]
    }
   ],
   "source": [
    "X_train, X_test, y_train, y_test = train_test_split(X, y, test_size=0.2, random_state=0, stratify=y)\n",
    "print(y_train.value_counts())\n",
    "print(y_test.value_counts())"
   ]
  },
  {
   "cell_type": "code",
   "execution_count": 29,
   "id": "41af32ed",
   "metadata": {
    "scrolled": true
   },
   "outputs": [
    {
     "data": {
      "text/plain": [
       "(2036,)"
      ]
     },
     "execution_count": 29,
     "metadata": {},
     "output_type": "execute_result"
    }
   ],
   "source": [
    "y_train.shape"
   ]
  },
  {
   "cell_type": "code",
   "execution_count": 30,
   "id": "3fb41033",
   "metadata": {},
   "outputs": [
    {
     "data": {
      "text/plain": [
       "(509,)"
      ]
     },
     "execution_count": 30,
     "metadata": {},
     "output_type": "execute_result"
    }
   ],
   "source": [
    "y_test.shape"
   ]
  },
  {
   "cell_type": "markdown",
   "id": "8d5c4adf",
   "metadata": {},
   "source": [
    "#### Data augmentation par remplacement de synonymes"
   ]
  },
  {
   "cell_type": "code",
   "execution_count": 196,
   "id": "dab81832",
   "metadata": {},
   "outputs": [
    {
     "data": {
      "text/plain": [
       "'adorer film beaucoup mieux premier loin trop aimer combat entre sonic knuckles beaucoup plus reference rapport sonic sah cela faire plaisirtails toujours mignonj aime aussi moment snowboard ou knuckles raconte passer team sonic reunir let godeath egg robot super realiste donc tant mieuxsuper sonic avoir mettre tout monde accordet scene post credit apparition shadowdonc donner note etoile regarder sonic film'"
      ]
     },
     "execution_count": 196,
     "metadata": {},
     "output_type": "execute_result"
    }
   ],
   "source": [
    "import nlpaug.augmenter.word as naw\n",
    "aug = naw.SynonymAug(aug_src='wordnet', lang='fra', aug_min=10)\n",
    "\n",
    "#Test\n",
    "X_train.iloc[0]"
   ]
  },
  {
   "cell_type": "code",
   "execution_count": 197,
   "id": "cfb2a240",
   "metadata": {
    "scrolled": true
   },
   "outputs": [
    {
     "data": {
      "text/plain": [
       "'adorer film beaucoup mieux premier loin trop aimer combat entre sonic knuckles beaucoup plus reference rapport sonic sah cela faire plaisirtails toujours mignonj aime aussi moment snowboard ou knuckles raconte passer team sonic reunir let godeath egg robot super realiste donc tant mieuxsuper sonic avoir mettre tout planète accordet scene post credit apparition shadowdonc donner distinction etoile regarder sonic film'"
      ]
     },
     "execution_count": 197,
     "metadata": {},
     "output_type": "execute_result"
    }
   ],
   "source": [
    "augmented = aug.augment(X_train.iloc[0])\n",
    "\n",
    "augmented"
   ]
  },
  {
   "cell_type": "code",
   "execution_count": 198,
   "id": "01be5f18",
   "metadata": {},
   "outputs": [],
   "source": [
    "augmented_data = []\n",
    "for i in X_train[y_train == 0]:\n",
    "    data_augmented = aug.augment(i)\n",
    "    augmented_data.append(data_augmented)\n",
    "\n",
    "len(augmented_data)\n",
    "augmented_label = np.zeros(len(augmented_data))"
   ]
  },
  {
   "cell_type": "code",
   "execution_count": 179,
   "id": "13f66273",
   "metadata": {},
   "outputs": [],
   "source": [
    "#Transformation des listes en Séries\n",
    "augmented_data = pd.Series(augmented_data)\n",
    "augmented_label = pd.Series(augmented_label)"
   ]
  },
  {
   "cell_type": "code",
   "execution_count": 184,
   "id": "ee399fe9",
   "metadata": {},
   "outputs": [],
   "source": [
    "#Concaténation du X_train avec la data augmentée et pareil pour le y_train\n",
    "X_train = pd.concat([X_train, augmented_data])\n",
    "y_train = pd.concat([y_train, augmented_label])\n",
    "X_train.shape"
   ]
  },
  {
   "cell_type": "code",
   "execution_count": 201,
   "id": "398cd31a",
   "metadata": {},
   "outputs": [
    {
     "data": {
      "text/plain": [
       "1.0    1781\n",
       "0.0     765\n",
       "dtype: int64"
      ]
     },
     "execution_count": 201,
     "metadata": {},
     "output_type": "execute_result"
    }
   ],
   "source": [
    "y_train.value_counts()"
   ]
  },
  {
   "cell_type": "code",
   "execution_count": 185,
   "id": "aa86a14a",
   "metadata": {},
   "outputs": [],
   "source": [
    "#index_neg = y_train[y_train==0].index\n",
    "\n",
    "#augmented_data = []\n",
    "#for i in index_neg:\n",
    "#    print(i)\n",
    "#    print(X_train.iloc[i])\n",
    "#    data_augmented = aug.augment(X_train.iloc[i])\n",
    "    #augmented_data.append(data_augmented)\n"
   ]
  },
  {
   "cell_type": "markdown",
   "id": "44066fa8",
   "metadata": {},
   "source": [
    "### Visualisation des avis positifs et négatifs : word cloud\n",
    "-------------------"
   ]
  },
  {
   "cell_type": "code",
   "execution_count": 104,
   "id": "1bd06c44",
   "metadata": {},
   "outputs": [
    {
     "data": {
      "text/html": [
       "<div>\n",
       "<style scoped>\n",
       "    .dataframe tbody tr th:only-of-type {\n",
       "        vertical-align: middle;\n",
       "    }\n",
       "\n",
       "    .dataframe tbody tr th {\n",
       "        vertical-align: top;\n",
       "    }\n",
       "\n",
       "    .dataframe thead th {\n",
       "        text-align: right;\n",
       "    }\n",
       "</style>\n",
       "<table border=\"1\" class=\"dataframe\">\n",
       "  <thead>\n",
       "    <tr style=\"text-align: right;\">\n",
       "      <th></th>\n",
       "      <th>lemmatizer</th>\n",
       "      <th>Note</th>\n",
       "    </tr>\n",
       "  </thead>\n",
       "  <tbody>\n",
       "    <tr>\n",
       "      <th>0</th>\n",
       "      <td>ce suite sonic incroyable fan ravir quand joue...</td>\n",
       "      <td>1.0</td>\n",
       "    </tr>\n",
       "    <tr>\n",
       "      <th>1</th>\n",
       "      <td>bon suite aventure sonic cinema deja premier f...</td>\n",
       "      <td>1.0</td>\n",
       "    </tr>\n",
       "    <tr>\n",
       "      <th>2</th>\n",
       "      <td>malgre deux nouveau personnage univer jeu vide...</td>\n",
       "      <td>1.0</td>\n",
       "    </tr>\n",
       "    <tr>\n",
       "      <th>3</th>\n",
       "      <td>tres bon film retrouve faire esprit sonic film...</td>\n",
       "      <td>1.0</td>\n",
       "    </tr>\n",
       "    <tr>\n",
       "      <th>4</th>\n",
       "      <td>super film ouf faire knuckles cote eggman debu...</td>\n",
       "      <td>1.0</td>\n",
       "    </tr>\n",
       "  </tbody>\n",
       "</table>\n",
       "</div>"
      ],
      "text/plain": [
       "                                          lemmatizer  Note\n",
       "0  ce suite sonic incroyable fan ravir quand joue...   1.0\n",
       "1  bon suite aventure sonic cinema deja premier f...   1.0\n",
       "2  malgre deux nouveau personnage univer jeu vide...   1.0\n",
       "3  tres bon film retrouve faire esprit sonic film...   1.0\n",
       "4  super film ouf faire knuckles cote eggman debu...   1.0"
      ]
     },
     "execution_count": 104,
     "metadata": {},
     "output_type": "execute_result"
    }
   ],
   "source": [
    "df_wc = pd.concat([X, y], axis = 1)\n",
    "df_wc.head()"
   ]
  },
  {
   "cell_type": "markdown",
   "id": "a5aef59a",
   "metadata": {},
   "source": [
    "#### Avis positifs"
   ]
  },
  {
   "cell_type": "code",
   "execution_count": 105,
   "id": "8d02b85f",
   "metadata": {},
   "outputs": [
    {
     "data": {
      "text/plain": [
       "0       ce suite sonic incroyable fan ravir quand joue...\n",
       "1       bon suite aventure sonic cinema deja premier f...\n",
       "2       malgre deux nouveau personnage univer jeu vide...\n",
       "3       tres bon film retrouve faire esprit sonic film...\n",
       "4       super film ouf faire knuckles cote eggman debu...\n",
       "                              ...                        \n",
       "2538    voir avant premier pathe quai ivry ima film ge...\n",
       "2539    suite succes interplanetaire the dark knight c...\n",
       "2540    film monde reve soupcon film action apocalypti...\n",
       "2542    tout bonnement fabuleux film pur merveille all...\n",
       "2543    film reflexion originalite inegalable si film ...\n",
       "Name: lemmatizer, Length: 2226, dtype: object"
      ]
     },
     "execution_count": 105,
     "metadata": {},
     "output_type": "execute_result"
    }
   ],
   "source": [
    "#Récupération des avis positifs\n",
    "avis_positif = df_wc[\"lemmatizer\"][df_wc[\"Note\"] == 1.0]\n",
    "\n",
    "avis_positif"
   ]
  },
  {
   "cell_type": "code",
   "execution_count": 106,
   "id": "86ba2773",
   "metadata": {
    "scrolled": true
   },
   "outputs": [
    {
     "data": {
      "image/png": "[encoded data removed]",
      "text/plain": [
       "<Figure size 432x288 with 1 Axes>"
      ]
     },
     "metadata": {
      "needs_background": "light"
     },
     "output_type": "display_data"
    }
   ],
   "source": [
    "from PIL import Image\n",
    "import numpy as np\n",
    "\n",
    "mask_pos = np.array(Image.open(\"thumb_up.png\"))\n",
    "mask_pos[mask_pos == 1] = 255\n",
    "\n",
    "WC_pos = WordCloud(background_color=\"white\", mask = mask_pos).generate(str(avis_positif))\n",
    "plt.imshow(WC_pos)\n",
    "plt.axis('off')\n",
    "plt.show()"
   ]
  },
  {
   "cell_type": "markdown",
   "id": "a95f75b3",
   "metadata": {},
   "source": [
    "#### Avis négatifs"
   ]
  },
  {
   "cell_type": "code",
   "execution_count": 107,
   "id": "a0d595be",
   "metadata": {
    "scrolled": true
   },
   "outputs": [
    {
     "data": {
      "image/png": "[encoded data removed]",
      "text/plain": [
       "<Figure size 432x288 with 1 Axes>"
      ]
     },
     "metadata": {
      "needs_background": "light"
     },
     "output_type": "display_data"
    }
   ],
   "source": [
    "mask_neg = np.array(Image.open(\"thumb_down.png\"))\n",
    "mask_neg[mask_neg == 1] = 255\n",
    "\n",
    "WC_neg = WordCloud(background_color=\"white\", mask = mask_neg).generate(str(df_wc[\"lemmatizer\"][df_wc[\"Note\"]==0.0]))\n",
    "plt.imshow(WC_neg)\n",
    "plt.axis('off')\n",
    "plt.show()"
   ]
  },
  {
   "cell_type": "code",
   "execution_count": 108,
   "id": "d9f31baa",
   "metadata": {},
   "outputs": [
    {
     "data": {
      "text/html": [
       "<div>\n",
       "<style scoped>\n",
       "    .dataframe tbody tr th:only-of-type {\n",
       "        vertical-align: middle;\n",
       "    }\n",
       "\n",
       "    .dataframe tbody tr th {\n",
       "        vertical-align: top;\n",
       "    }\n",
       "\n",
       "    .dataframe thead th {\n",
       "        text-align: right;\n",
       "    }\n",
       "</style>\n",
       "<table border=\"1\" class=\"dataframe\">\n",
       "  <thead>\n",
       "    <tr style=\"text-align: right;\">\n",
       "      <th></th>\n",
       "      <th>lemmatizer</th>\n",
       "      <th>Note</th>\n",
       "    </tr>\n",
       "  </thead>\n",
       "  <tbody>\n",
       "    <tr>\n",
       "      <th>0</th>\n",
       "      <td>ce suite sonic incroyable fan ravir quand joue...</td>\n",
       "      <td>1.0</td>\n",
       "    </tr>\n",
       "    <tr>\n",
       "      <th>1</th>\n",
       "      <td>bon suite aventure sonic cinema deja premier f...</td>\n",
       "      <td>1.0</td>\n",
       "    </tr>\n",
       "    <tr>\n",
       "      <th>2</th>\n",
       "      <td>malgre deux nouveau personnage univer jeu vide...</td>\n",
       "      <td>1.0</td>\n",
       "    </tr>\n",
       "    <tr>\n",
       "      <th>3</th>\n",
       "      <td>tres bon film retrouve faire esprit sonic film...</td>\n",
       "      <td>1.0</td>\n",
       "    </tr>\n",
       "    <tr>\n",
       "      <th>4</th>\n",
       "      <td>super film ouf faire knuckles cote eggman debu...</td>\n",
       "      <td>1.0</td>\n",
       "    </tr>\n",
       "    <tr>\n",
       "      <th>...</th>\n",
       "      <td>...</td>\n",
       "      <td>...</td>\n",
       "    </tr>\n",
       "    <tr>\n",
       "      <th>2540</th>\n",
       "      <td>film monde reve soupcon film action apocalypti...</td>\n",
       "      <td>1.0</td>\n",
       "    </tr>\n",
       "    <tr>\n",
       "      <th>2541</th>\n",
       "      <td>scenario sans consistance acteur principal peu...</td>\n",
       "      <td>0.0</td>\n",
       "    </tr>\n",
       "    <tr>\n",
       "      <th>2542</th>\n",
       "      <td>tout bonnement fabuleux film pur merveille all...</td>\n",
       "      <td>1.0</td>\n",
       "    </tr>\n",
       "    <tr>\n",
       "      <th>2543</th>\n",
       "      <td>film reflexion originalite inegalable si film ...</td>\n",
       "      <td>1.0</td>\n",
       "    </tr>\n",
       "    <tr>\n",
       "      <th>2544</th>\n",
       "      <td>agreablement surprendre effet special impressi...</td>\n",
       "      <td>0.0</td>\n",
       "    </tr>\n",
       "  </tbody>\n",
       "</table>\n",
       "<p>2545 rows × 2 columns</p>\n",
       "</div>"
      ],
      "text/plain": [
       "                                             lemmatizer  Note\n",
       "0     ce suite sonic incroyable fan ravir quand joue...   1.0\n",
       "1     bon suite aventure sonic cinema deja premier f...   1.0\n",
       "2     malgre deux nouveau personnage univer jeu vide...   1.0\n",
       "3     tres bon film retrouve faire esprit sonic film...   1.0\n",
       "4     super film ouf faire knuckles cote eggman debu...   1.0\n",
       "...                                                 ...   ...\n",
       "2540  film monde reve soupcon film action apocalypti...   1.0\n",
       "2541  scenario sans consistance acteur principal peu...   0.0\n",
       "2542  tout bonnement fabuleux film pur merveille all...   1.0\n",
       "2543  film reflexion originalite inegalable si film ...   1.0\n",
       "2544  agreablement surprendre effet special impressi...   0.0\n",
       "\n",
       "[2545 rows x 2 columns]"
      ]
     },
     "execution_count": 108,
     "metadata": {},
     "output_type": "execute_result"
    }
   ],
   "source": [
    "df_wc"
   ]
  },
  {
   "cell_type": "markdown",
   "id": "fc5a29ac",
   "metadata": {},
   "source": [
    "### Régression logistique\n",
    "--------------\n",
    "#### Count Vectorizer"
   ]
  },
  {
   "cell_type": "code",
   "execution_count": 186,
   "id": "04ca7937",
   "metadata": {},
   "outputs": [
    {
     "data": {
      "text/plain": [
       "(2546, 96)"
      ]
     },
     "execution_count": 186,
     "metadata": {},
     "output_type": "execute_result"
    }
   ],
   "source": [
    "cv = CountVectorizer(lowercase=False, min_df=0.1)\n",
    "cv = cv.fit(X_train)\n",
    "cv_matrix = cv.transform(X_train)\n",
    "cv_matrix.shape"
   ]
  },
  {
   "cell_type": "code",
   "execution_count": 187,
   "id": "0a22fbcb",
   "metadata": {},
   "outputs": [
    {
     "data": {
      "text/html": [
       "<div>\n",
       "<style scoped>\n",
       "    .dataframe tbody tr th:only-of-type {\n",
       "        vertical-align: middle;\n",
       "    }\n",
       "\n",
       "    .dataframe tbody tr th {\n",
       "        vertical-align: top;\n",
       "    }\n",
       "\n",
       "    .dataframe thead th {\n",
       "        text-align: right;\n",
       "    }\n",
       "</style>\n",
       "<table border=\"1\" class=\"dataframe\">\n",
       "  <thead>\n",
       "    <tr style=\"text-align: right;\">\n",
       "      <th></th>\n",
       "      <th>acteur</th>\n",
       "      <th>action</th>\n",
       "      <th>adorer</th>\n",
       "      <th>aimer</th>\n",
       "      <th>aller</th>\n",
       "      <th>alors</th>\n",
       "      <th>apres</th>\n",
       "      <th>assez</th>\n",
       "      <th>aussi</th>\n",
       "      <th>autre</th>\n",
       "      <th>...</th>\n",
       "      <th>super</th>\n",
       "      <th>tail</th>\n",
       "      <th>temps</th>\n",
       "      <th>toujours</th>\n",
       "      <th>tout</th>\n",
       "      <th>tres</th>\n",
       "      <th>trop</th>\n",
       "      <th>voir</th>\n",
       "      <th>vouloir</th>\n",
       "      <th>vraiment</th>\n",
       "    </tr>\n",
       "  </thead>\n",
       "  <tbody>\n",
       "    <tr>\n",
       "      <th>640</th>\n",
       "      <td>0</td>\n",
       "      <td>0</td>\n",
       "      <td>1</td>\n",
       "      <td>1</td>\n",
       "      <td>0</td>\n",
       "      <td>0</td>\n",
       "      <td>0</td>\n",
       "      <td>0</td>\n",
       "      <td>1</td>\n",
       "      <td>0</td>\n",
       "      <td>...</td>\n",
       "      <td>1</td>\n",
       "      <td>0</td>\n",
       "      <td>0</td>\n",
       "      <td>1</td>\n",
       "      <td>1</td>\n",
       "      <td>0</td>\n",
       "      <td>1</td>\n",
       "      <td>0</td>\n",
       "      <td>0</td>\n",
       "      <td>0</td>\n",
       "    </tr>\n",
       "    <tr>\n",
       "      <th>1474</th>\n",
       "      <td>0</td>\n",
       "      <td>0</td>\n",
       "      <td>0</td>\n",
       "      <td>0</td>\n",
       "      <td>0</td>\n",
       "      <td>0</td>\n",
       "      <td>0</td>\n",
       "      <td>0</td>\n",
       "      <td>0</td>\n",
       "      <td>0</td>\n",
       "      <td>...</td>\n",
       "      <td>0</td>\n",
       "      <td>0</td>\n",
       "      <td>0</td>\n",
       "      <td>0</td>\n",
       "      <td>0</td>\n",
       "      <td>0</td>\n",
       "      <td>0</td>\n",
       "      <td>0</td>\n",
       "      <td>0</td>\n",
       "      <td>0</td>\n",
       "    </tr>\n",
       "    <tr>\n",
       "      <th>869</th>\n",
       "      <td>0</td>\n",
       "      <td>0</td>\n",
       "      <td>0</td>\n",
       "      <td>0</td>\n",
       "      <td>1</td>\n",
       "      <td>1</td>\n",
       "      <td>0</td>\n",
       "      <td>1</td>\n",
       "      <td>0</td>\n",
       "      <td>1</td>\n",
       "      <td>...</td>\n",
       "      <td>0</td>\n",
       "      <td>0</td>\n",
       "      <td>0</td>\n",
       "      <td>0</td>\n",
       "      <td>1</td>\n",
       "      <td>2</td>\n",
       "      <td>0</td>\n",
       "      <td>0</td>\n",
       "      <td>0</td>\n",
       "      <td>1</td>\n",
       "    </tr>\n",
       "    <tr>\n",
       "      <th>26</th>\n",
       "      <td>0</td>\n",
       "      <td>0</td>\n",
       "      <td>0</td>\n",
       "      <td>0</td>\n",
       "      <td>0</td>\n",
       "      <td>0</td>\n",
       "      <td>0</td>\n",
       "      <td>0</td>\n",
       "      <td>0</td>\n",
       "      <td>0</td>\n",
       "      <td>...</td>\n",
       "      <td>0</td>\n",
       "      <td>0</td>\n",
       "      <td>0</td>\n",
       "      <td>0</td>\n",
       "      <td>0</td>\n",
       "      <td>1</td>\n",
       "      <td>0</td>\n",
       "      <td>0</td>\n",
       "      <td>0</td>\n",
       "      <td>0</td>\n",
       "    </tr>\n",
       "    <tr>\n",
       "      <th>1792</th>\n",
       "      <td>0</td>\n",
       "      <td>0</td>\n",
       "      <td>0</td>\n",
       "      <td>0</td>\n",
       "      <td>0</td>\n",
       "      <td>0</td>\n",
       "      <td>0</td>\n",
       "      <td>0</td>\n",
       "      <td>0</td>\n",
       "      <td>0</td>\n",
       "      <td>...</td>\n",
       "      <td>0</td>\n",
       "      <td>0</td>\n",
       "      <td>0</td>\n",
       "      <td>0</td>\n",
       "      <td>0</td>\n",
       "      <td>0</td>\n",
       "      <td>0</td>\n",
       "      <td>1</td>\n",
       "      <td>0</td>\n",
       "      <td>0</td>\n",
       "    </tr>\n",
       "    <tr>\n",
       "      <th>...</th>\n",
       "      <td>...</td>\n",
       "      <td>...</td>\n",
       "      <td>...</td>\n",
       "      <td>...</td>\n",
       "      <td>...</td>\n",
       "      <td>...</td>\n",
       "      <td>...</td>\n",
       "      <td>...</td>\n",
       "      <td>...</td>\n",
       "      <td>...</td>\n",
       "      <td>...</td>\n",
       "      <td>...</td>\n",
       "      <td>...</td>\n",
       "      <td>...</td>\n",
       "      <td>...</td>\n",
       "      <td>...</td>\n",
       "      <td>...</td>\n",
       "      <td>...</td>\n",
       "      <td>...</td>\n",
       "      <td>...</td>\n",
       "      <td>...</td>\n",
       "    </tr>\n",
       "    <tr>\n",
       "      <th>250</th>\n",
       "      <td>0</td>\n",
       "      <td>2</td>\n",
       "      <td>0</td>\n",
       "      <td>0</td>\n",
       "      <td>0</td>\n",
       "      <td>1</td>\n",
       "      <td>1</td>\n",
       "      <td>0</td>\n",
       "      <td>0</td>\n",
       "      <td>1</td>\n",
       "      <td>...</td>\n",
       "      <td>0</td>\n",
       "      <td>0</td>\n",
       "      <td>0</td>\n",
       "      <td>0</td>\n",
       "      <td>1</td>\n",
       "      <td>2</td>\n",
       "      <td>1</td>\n",
       "      <td>1</td>\n",
       "      <td>0</td>\n",
       "      <td>2</td>\n",
       "    </tr>\n",
       "    <tr>\n",
       "      <th>251</th>\n",
       "      <td>0</td>\n",
       "      <td>0</td>\n",
       "      <td>0</td>\n",
       "      <td>0</td>\n",
       "      <td>0</td>\n",
       "      <td>0</td>\n",
       "      <td>0</td>\n",
       "      <td>3</td>\n",
       "      <td>1</td>\n",
       "      <td>0</td>\n",
       "      <td>...</td>\n",
       "      <td>0</td>\n",
       "      <td>0</td>\n",
       "      <td>0</td>\n",
       "      <td>1</td>\n",
       "      <td>0</td>\n",
       "      <td>0</td>\n",
       "      <td>0</td>\n",
       "      <td>0</td>\n",
       "      <td>0</td>\n",
       "      <td>0</td>\n",
       "    </tr>\n",
       "    <tr>\n",
       "      <th>252</th>\n",
       "      <td>1</td>\n",
       "      <td>1</td>\n",
       "      <td>0</td>\n",
       "      <td>0</td>\n",
       "      <td>0</td>\n",
       "      <td>0</td>\n",
       "      <td>0</td>\n",
       "      <td>0</td>\n",
       "      <td>1</td>\n",
       "      <td>0</td>\n",
       "      <td>...</td>\n",
       "      <td>0</td>\n",
       "      <td>0</td>\n",
       "      <td>0</td>\n",
       "      <td>0</td>\n",
       "      <td>1</td>\n",
       "      <td>2</td>\n",
       "      <td>0</td>\n",
       "      <td>0</td>\n",
       "      <td>0</td>\n",
       "      <td>0</td>\n",
       "    </tr>\n",
       "    <tr>\n",
       "      <th>253</th>\n",
       "      <td>1</td>\n",
       "      <td>0</td>\n",
       "      <td>0</td>\n",
       "      <td>0</td>\n",
       "      <td>0</td>\n",
       "      <td>0</td>\n",
       "      <td>0</td>\n",
       "      <td>0</td>\n",
       "      <td>0</td>\n",
       "      <td>0</td>\n",
       "      <td>...</td>\n",
       "      <td>0</td>\n",
       "      <td>0</td>\n",
       "      <td>0</td>\n",
       "      <td>0</td>\n",
       "      <td>1</td>\n",
       "      <td>2</td>\n",
       "      <td>1</td>\n",
       "      <td>1</td>\n",
       "      <td>0</td>\n",
       "      <td>0</td>\n",
       "    </tr>\n",
       "    <tr>\n",
       "      <th>254</th>\n",
       "      <td>0</td>\n",
       "      <td>0</td>\n",
       "      <td>0</td>\n",
       "      <td>0</td>\n",
       "      <td>0</td>\n",
       "      <td>0</td>\n",
       "      <td>0</td>\n",
       "      <td>0</td>\n",
       "      <td>0</td>\n",
       "      <td>0</td>\n",
       "      <td>...</td>\n",
       "      <td>0</td>\n",
       "      <td>0</td>\n",
       "      <td>0</td>\n",
       "      <td>0</td>\n",
       "      <td>0</td>\n",
       "      <td>0</td>\n",
       "      <td>0</td>\n",
       "      <td>0</td>\n",
       "      <td>0</td>\n",
       "      <td>0</td>\n",
       "    </tr>\n",
       "  </tbody>\n",
       "</table>\n",
       "<p>2546 rows × 96 columns</p>\n",
       "</div>"
      ],
      "text/plain": [
       "      acteur  action  adorer  aimer  aller  alors  apres  assez  aussi  autre  \\\n",
       "640        0       0       1      1      0      0      0      0      1      0   \n",
       "1474       0       0       0      0      0      0      0      0      0      0   \n",
       "869        0       0       0      0      1      1      0      1      0      1   \n",
       "26         0       0       0      0      0      0      0      0      0      0   \n",
       "1792       0       0       0      0      0      0      0      0      0      0   \n",
       "...      ...     ...     ...    ...    ...    ...    ...    ...    ...    ...   \n",
       "250        0       2       0      0      0      1      1      0      0      1   \n",
       "251        0       0       0      0      0      0      0      3      1      0   \n",
       "252        1       1       0      0      0      0      0      0      1      0   \n",
       "253        1       0       0      0      0      0      0      0      0      0   \n",
       "254        0       0       0      0      0      0      0      0      0      0   \n",
       "\n",
       "      ...  super  tail  temps  toujours  tout  tres  trop  voir  vouloir  \\\n",
       "640   ...      1     0      0         1     1     0     1     0        0   \n",
       "1474  ...      0     0      0         0     0     0     0     0        0   \n",
       "869   ...      0     0      0         0     1     2     0     0        0   \n",
       "26    ...      0     0      0         0     0     1     0     0        0   \n",
       "1792  ...      0     0      0         0     0     0     0     1        0   \n",
       "...   ...    ...   ...    ...       ...   ...   ...   ...   ...      ...   \n",
       "250   ...      0     0      0         0     1     2     1     1        0   \n",
       "251   ...      0     0      0         1     0     0     0     0        0   \n",
       "252   ...      0     0      0         0     1     2     0     0        0   \n",
       "253   ...      0     0      0         0     1     2     1     1        0   \n",
       "254   ...      0     0      0         0     0     0     0     0        0   \n",
       "\n",
       "      vraiment  \n",
       "640          0  \n",
       "1474         0  \n",
       "869          1  \n",
       "26           0  \n",
       "1792         0  \n",
       "...        ...  \n",
       "250          2  \n",
       "251          0  \n",
       "252          0  \n",
       "253          0  \n",
       "254          0  \n",
       "\n",
       "[2546 rows x 96 columns]"
      ]
     },
     "execution_count": 187,
     "metadata": {},
     "output_type": "execute_result"
    }
   ],
   "source": [
    "#Create bag of words\n",
    "X_train_bow = pd.DataFrame(cv_matrix.toarray(), index = X_train.index.values, columns = cv.get_feature_names_out())\n",
    "X_train_bow"
   ]
  },
  {
   "cell_type": "markdown",
   "id": "6bb41da5",
   "metadata": {},
   "source": [
    "#### Modèle de régression logistique"
   ]
  },
  {
   "cell_type": "code",
   "execution_count": 188,
   "id": "23c19498",
   "metadata": {},
   "outputs": [
    {
     "data": {
      "text/plain": [
       "LogisticRegression(random_state=0, solver='liblinear')"
      ]
     },
     "execution_count": 188,
     "metadata": {},
     "output_type": "execute_result"
    }
   ],
   "source": [
    "model_LR = LogisticRegression(solver=\"liblinear\", random_state=0)\n",
    "\n",
    "#Entrainement du modèle\n",
    "model_LR.fit(X_train_bow, y_train)"
   ]
  },
  {
   "cell_type": "markdown",
   "id": "027e18ef",
   "metadata": {},
   "source": [
    "#### Conversion du X_test en matrice"
   ]
  },
  {
   "cell_type": "code",
   "execution_count": 189,
   "id": "4880449a",
   "metadata": {},
   "outputs": [
    {
     "data": {
      "text/plain": [
       "(509, 96)"
      ]
     },
     "execution_count": 189,
     "metadata": {},
     "output_type": "execute_result"
    }
   ],
   "source": [
    "#cv2 = CountVectorizer(lowercase=False, min_df=0.1)\n",
    "\n",
    "cv_X_test = cv.transform(X_test)\n",
    "cv_X_test.shape"
   ]
  },
  {
   "cell_type": "code",
   "execution_count": 190,
   "id": "2691153f",
   "metadata": {},
   "outputs": [
    {
     "data": {
      "text/html": [
       "<div>\n",
       "<style scoped>\n",
       "    .dataframe tbody tr th:only-of-type {\n",
       "        vertical-align: middle;\n",
       "    }\n",
       "\n",
       "    .dataframe tbody tr th {\n",
       "        vertical-align: top;\n",
       "    }\n",
       "\n",
       "    .dataframe thead th {\n",
       "        text-align: right;\n",
       "    }\n",
       "</style>\n",
       "<table border=\"1\" class=\"dataframe\">\n",
       "  <thead>\n",
       "    <tr style=\"text-align: right;\">\n",
       "      <th></th>\n",
       "      <th>acteur</th>\n",
       "      <th>action</th>\n",
       "      <th>adorer</th>\n",
       "      <th>aimer</th>\n",
       "      <th>aller</th>\n",
       "      <th>alors</th>\n",
       "      <th>apres</th>\n",
       "      <th>assez</th>\n",
       "      <th>aussi</th>\n",
       "      <th>autre</th>\n",
       "      <th>...</th>\n",
       "      <th>super</th>\n",
       "      <th>tail</th>\n",
       "      <th>temps</th>\n",
       "      <th>toujours</th>\n",
       "      <th>tout</th>\n",
       "      <th>tres</th>\n",
       "      <th>trop</th>\n",
       "      <th>voir</th>\n",
       "      <th>vouloir</th>\n",
       "      <th>vraiment</th>\n",
       "    </tr>\n",
       "  </thead>\n",
       "  <tbody>\n",
       "    <tr>\n",
       "      <th>2086</th>\n",
       "      <td>0</td>\n",
       "      <td>0</td>\n",
       "      <td>0</td>\n",
       "      <td>0</td>\n",
       "      <td>0</td>\n",
       "      <td>0</td>\n",
       "      <td>0</td>\n",
       "      <td>0</td>\n",
       "      <td>0</td>\n",
       "      <td>0</td>\n",
       "      <td>...</td>\n",
       "      <td>0</td>\n",
       "      <td>0</td>\n",
       "      <td>0</td>\n",
       "      <td>0</td>\n",
       "      <td>0</td>\n",
       "      <td>1</td>\n",
       "      <td>1</td>\n",
       "      <td>0</td>\n",
       "      <td>0</td>\n",
       "      <td>0</td>\n",
       "    </tr>\n",
       "    <tr>\n",
       "      <th>766</th>\n",
       "      <td>0</td>\n",
       "      <td>1</td>\n",
       "      <td>0</td>\n",
       "      <td>0</td>\n",
       "      <td>0</td>\n",
       "      <td>0</td>\n",
       "      <td>0</td>\n",
       "      <td>0</td>\n",
       "      <td>0</td>\n",
       "      <td>0</td>\n",
       "      <td>...</td>\n",
       "      <td>0</td>\n",
       "      <td>0</td>\n",
       "      <td>0</td>\n",
       "      <td>0</td>\n",
       "      <td>1</td>\n",
       "      <td>0</td>\n",
       "      <td>0</td>\n",
       "      <td>1</td>\n",
       "      <td>0</td>\n",
       "      <td>0</td>\n",
       "    </tr>\n",
       "    <tr>\n",
       "      <th>1787</th>\n",
       "      <td>1</td>\n",
       "      <td>0</td>\n",
       "      <td>0</td>\n",
       "      <td>0</td>\n",
       "      <td>0</td>\n",
       "      <td>0</td>\n",
       "      <td>0</td>\n",
       "      <td>0</td>\n",
       "      <td>0</td>\n",
       "      <td>0</td>\n",
       "      <td>...</td>\n",
       "      <td>0</td>\n",
       "      <td>0</td>\n",
       "      <td>0</td>\n",
       "      <td>0</td>\n",
       "      <td>0</td>\n",
       "      <td>1</td>\n",
       "      <td>0</td>\n",
       "      <td>0</td>\n",
       "      <td>0</td>\n",
       "      <td>0</td>\n",
       "    </tr>\n",
       "    <tr>\n",
       "      <th>1347</th>\n",
       "      <td>0</td>\n",
       "      <td>0</td>\n",
       "      <td>0</td>\n",
       "      <td>0</td>\n",
       "      <td>0</td>\n",
       "      <td>0</td>\n",
       "      <td>0</td>\n",
       "      <td>0</td>\n",
       "      <td>0</td>\n",
       "      <td>0</td>\n",
       "      <td>...</td>\n",
       "      <td>0</td>\n",
       "      <td>0</td>\n",
       "      <td>0</td>\n",
       "      <td>0</td>\n",
       "      <td>0</td>\n",
       "      <td>0</td>\n",
       "      <td>0</td>\n",
       "      <td>0</td>\n",
       "      <td>0</td>\n",
       "      <td>0</td>\n",
       "    </tr>\n",
       "    <tr>\n",
       "      <th>1931</th>\n",
       "      <td>0</td>\n",
       "      <td>0</td>\n",
       "      <td>0</td>\n",
       "      <td>0</td>\n",
       "      <td>1</td>\n",
       "      <td>0</td>\n",
       "      <td>0</td>\n",
       "      <td>0</td>\n",
       "      <td>0</td>\n",
       "      <td>1</td>\n",
       "      <td>...</td>\n",
       "      <td>0</td>\n",
       "      <td>0</td>\n",
       "      <td>0</td>\n",
       "      <td>0</td>\n",
       "      <td>0</td>\n",
       "      <td>0</td>\n",
       "      <td>0</td>\n",
       "      <td>0</td>\n",
       "      <td>0</td>\n",
       "      <td>0</td>\n",
       "    </tr>\n",
       "    <tr>\n",
       "      <th>...</th>\n",
       "      <td>...</td>\n",
       "      <td>...</td>\n",
       "      <td>...</td>\n",
       "      <td>...</td>\n",
       "      <td>...</td>\n",
       "      <td>...</td>\n",
       "      <td>...</td>\n",
       "      <td>...</td>\n",
       "      <td>...</td>\n",
       "      <td>...</td>\n",
       "      <td>...</td>\n",
       "      <td>...</td>\n",
       "      <td>...</td>\n",
       "      <td>...</td>\n",
       "      <td>...</td>\n",
       "      <td>...</td>\n",
       "      <td>...</td>\n",
       "      <td>...</td>\n",
       "      <td>...</td>\n",
       "      <td>...</td>\n",
       "      <td>...</td>\n",
       "    </tr>\n",
       "    <tr>\n",
       "      <th>1694</th>\n",
       "      <td>3</td>\n",
       "      <td>0</td>\n",
       "      <td>0</td>\n",
       "      <td>0</td>\n",
       "      <td>0</td>\n",
       "      <td>0</td>\n",
       "      <td>0</td>\n",
       "      <td>0</td>\n",
       "      <td>0</td>\n",
       "      <td>1</td>\n",
       "      <td>...</td>\n",
       "      <td>0</td>\n",
       "      <td>0</td>\n",
       "      <td>0</td>\n",
       "      <td>0</td>\n",
       "      <td>1</td>\n",
       "      <td>1</td>\n",
       "      <td>0</td>\n",
       "      <td>1</td>\n",
       "      <td>1</td>\n",
       "      <td>0</td>\n",
       "    </tr>\n",
       "    <tr>\n",
       "      <th>2311</th>\n",
       "      <td>0</td>\n",
       "      <td>0</td>\n",
       "      <td>0</td>\n",
       "      <td>0</td>\n",
       "      <td>0</td>\n",
       "      <td>0</td>\n",
       "      <td>0</td>\n",
       "      <td>0</td>\n",
       "      <td>0</td>\n",
       "      <td>0</td>\n",
       "      <td>...</td>\n",
       "      <td>0</td>\n",
       "      <td>0</td>\n",
       "      <td>0</td>\n",
       "      <td>0</td>\n",
       "      <td>0</td>\n",
       "      <td>0</td>\n",
       "      <td>0</td>\n",
       "      <td>0</td>\n",
       "      <td>0</td>\n",
       "      <td>0</td>\n",
       "    </tr>\n",
       "    <tr>\n",
       "      <th>2502</th>\n",
       "      <td>1</td>\n",
       "      <td>0</td>\n",
       "      <td>0</td>\n",
       "      <td>0</td>\n",
       "      <td>0</td>\n",
       "      <td>0</td>\n",
       "      <td>0</td>\n",
       "      <td>0</td>\n",
       "      <td>0</td>\n",
       "      <td>0</td>\n",
       "      <td>...</td>\n",
       "      <td>0</td>\n",
       "      <td>0</td>\n",
       "      <td>0</td>\n",
       "      <td>0</td>\n",
       "      <td>0</td>\n",
       "      <td>0</td>\n",
       "      <td>0</td>\n",
       "      <td>0</td>\n",
       "      <td>0</td>\n",
       "      <td>0</td>\n",
       "    </tr>\n",
       "    <tr>\n",
       "      <th>1493</th>\n",
       "      <td>0</td>\n",
       "      <td>0</td>\n",
       "      <td>0</td>\n",
       "      <td>0</td>\n",
       "      <td>0</td>\n",
       "      <td>0</td>\n",
       "      <td>0</td>\n",
       "      <td>0</td>\n",
       "      <td>0</td>\n",
       "      <td>0</td>\n",
       "      <td>...</td>\n",
       "      <td>0</td>\n",
       "      <td>0</td>\n",
       "      <td>0</td>\n",
       "      <td>0</td>\n",
       "      <td>0</td>\n",
       "      <td>0</td>\n",
       "      <td>0</td>\n",
       "      <td>0</td>\n",
       "      <td>0</td>\n",
       "      <td>1</td>\n",
       "    </tr>\n",
       "    <tr>\n",
       "      <th>2423</th>\n",
       "      <td>0</td>\n",
       "      <td>0</td>\n",
       "      <td>0</td>\n",
       "      <td>0</td>\n",
       "      <td>0</td>\n",
       "      <td>0</td>\n",
       "      <td>0</td>\n",
       "      <td>0</td>\n",
       "      <td>1</td>\n",
       "      <td>0</td>\n",
       "      <td>...</td>\n",
       "      <td>0</td>\n",
       "      <td>0</td>\n",
       "      <td>1</td>\n",
       "      <td>0</td>\n",
       "      <td>1</td>\n",
       "      <td>0</td>\n",
       "      <td>0</td>\n",
       "      <td>0</td>\n",
       "      <td>0</td>\n",
       "      <td>0</td>\n",
       "    </tr>\n",
       "  </tbody>\n",
       "</table>\n",
       "<p>509 rows × 96 columns</p>\n",
       "</div>"
      ],
      "text/plain": [
       "      acteur  action  adorer  aimer  aller  alors  apres  assez  aussi  autre  \\\n",
       "2086       0       0       0      0      0      0      0      0      0      0   \n",
       "766        0       1       0      0      0      0      0      0      0      0   \n",
       "1787       1       0       0      0      0      0      0      0      0      0   \n",
       "1347       0       0       0      0      0      0      0      0      0      0   \n",
       "1931       0       0       0      0      1      0      0      0      0      1   \n",
       "...      ...     ...     ...    ...    ...    ...    ...    ...    ...    ...   \n",
       "1694       3       0       0      0      0      0      0      0      0      1   \n",
       "2311       0       0       0      0      0      0      0      0      0      0   \n",
       "2502       1       0       0      0      0      0      0      0      0      0   \n",
       "1493       0       0       0      0      0      0      0      0      0      0   \n",
       "2423       0       0       0      0      0      0      0      0      1      0   \n",
       "\n",
       "      ...  super  tail  temps  toujours  tout  tres  trop  voir  vouloir  \\\n",
       "2086  ...      0     0      0         0     0     1     1     0        0   \n",
       "766   ...      0     0      0         0     1     0     0     1        0   \n",
       "1787  ...      0     0      0         0     0     1     0     0        0   \n",
       "1347  ...      0     0      0         0     0     0     0     0        0   \n",
       "1931  ...      0     0      0         0     0     0     0     0        0   \n",
       "...   ...    ...   ...    ...       ...   ...   ...   ...   ...      ...   \n",
       "1694  ...      0     0      0         0     1     1     0     1        1   \n",
       "2311  ...      0     0      0         0     0     0     0     0        0   \n",
       "2502  ...      0     0      0         0     0     0     0     0        0   \n",
       "1493  ...      0     0      0         0     0     0     0     0        0   \n",
       "2423  ...      0     0      1         0     1     0     0     0        0   \n",
       "\n",
       "      vraiment  \n",
       "2086         0  \n",
       "766          0  \n",
       "1787         0  \n",
       "1347         0  \n",
       "1931         0  \n",
       "...        ...  \n",
       "1694         0  \n",
       "2311         0  \n",
       "2502         0  \n",
       "1493         1  \n",
       "2423         0  \n",
       "\n",
       "[509 rows x 96 columns]"
      ]
     },
     "execution_count": 190,
     "metadata": {},
     "output_type": "execute_result"
    }
   ],
   "source": [
    "X_test_bow = pd.DataFrame(cv_X_test.toarray(), index = X_test.index, columns = cv.get_feature_names_out())\n",
    "X_test_bow"
   ]
  },
  {
   "cell_type": "code",
   "execution_count": 191,
   "id": "563a39b9",
   "metadata": {},
   "outputs": [],
   "source": [
    "#Prédiction du y\n",
    "y_pred = model_LR.predict(X_test_bow)"
   ]
  },
  {
   "cell_type": "markdown",
   "id": "bf6ff1a6",
   "metadata": {},
   "source": [
    "#### Accuracy"
   ]
  },
  {
   "cell_type": "code",
   "execution_count": 192,
   "id": "fa227d18",
   "metadata": {},
   "outputs": [
    {
     "name": "stdout",
     "output_type": "stream",
     "text": [
      "La précision est de 0.8467583497053045\n"
     ]
    }
   ],
   "source": [
    "accuracy = model_LR.score(X_test_bow, y_test)\n",
    "print(f\"La précision est de {accuracy}\")"
   ]
  },
  {
   "cell_type": "markdown",
   "id": "f8dece31",
   "metadata": {},
   "source": [
    "#### Matrice de confusion"
   ]
  },
  {
   "cell_type": "code",
   "execution_count": 193,
   "id": "f121e5ac",
   "metadata": {
    "scrolled": true
   },
   "outputs": [
    {
     "data": {
      "text/plain": [
       "array([[ 41,  23],\n",
       "       [ 55, 390]])"
      ]
     },
     "execution_count": 193,
     "metadata": {},
     "output_type": "execute_result"
    }
   ],
   "source": [
    "matrice_confusion = confusion_matrix(y_test, y_pred)\n",
    "matrice_confusion"
   ]
  },
  {
   "cell_type": "code",
   "execution_count": 194,
   "id": "7953ec81",
   "metadata": {},
   "outputs": [
    {
     "name": "stdout",
     "output_type": "stream",
     "text": [
      "True negative = 41, \n",
      "False positive = 23, \n",
      "False negative = 55, \n",
      "True positive = 390\n"
     ]
    }
   ],
   "source": [
    "tn, fp, fn, tp = matrice_confusion.ravel()\n",
    "\n",
    "print(f\"True negative = {tn}, \\nFalse positive = {fp}, \\nFalse negative = {fn}, \\nTrue positive = {tp}\")"
   ]
  },
  {
   "cell_type": "markdown",
   "id": "15c7355e",
   "metadata": {},
   "source": [
    "### Word embedding\n",
    "---------------------"
   ]
  },
  {
   "cell_type": "code",
   "execution_count": 44,
   "id": "f3224097",
   "metadata": {},
   "outputs": [],
   "source": [
    "from gensim.models import Word2Vec, KeyedVectors #To load the model\n",
    "import warnings\n",
    "warnings.filterwarnings('ignore') #ignore any generated warnings\n",
    "import os\n",
    "from sklearn.manifold import TSNE #scikit learn's TSNE "
   ]
  },
  {
   "cell_type": "code",
   "execution_count": 48,
   "id": "04116bc5",
   "metadata": {},
   "outputs": [],
   "source": [
    "# Load the model\n",
    "try:\n",
    "    #import google.colab\n",
    "    model = KeyedVectors.load_word2vec_format('word2vec_cbow.bin',binary=True)\n",
    "except ModuleNotFoundError:\n",
    "    cwd=os.getcwd() \n",
    "    model = KeyedVectors.load_word2vec_format(cwd+'\\Models\\word2vec_cbow.bin', binary=True)"
   ]
  },
  {
   "cell_type": "code",
   "execution_count": 73,
   "id": "c9455154",
   "metadata": {},
   "outputs": [
    {
     "data": {
      "text/plain": [
       "137205"
      ]
     },
     "execution_count": 73,
     "metadata": {},
     "output_type": "execute_result"
    }
   ],
   "source": [
    "#Récupération de tous les mots lemmantisés dans une liste\n",
    "lem_words = []\n",
    "for i in df_wc['lemmatizer']:\n",
    "    for j in i.split():\n",
    "        lem_words.append(j)\n",
    "len(lem_words)"
   ]
  },
  {
   "cell_type": "code",
   "execution_count": 58,
   "id": "6936cc5f",
   "metadata": {},
   "outputs": [
    {
     "data": {
      "text/plain": [
       "[('localized', 0.5681970715522766)]"
      ]
     },
     "execution_count": 58,
     "metadata": {},
     "output_type": "execute_result"
    }
   ],
   "source": [
    "model.most_similar(positive=['negative', 'bird'], negative=['man'], topn = 1)"
   ]
  },
  {
   "cell_type": "code",
   "execution_count": 59,
   "id": "5f93696f",
   "metadata": {},
   "outputs": [],
   "source": [
    "keys = ['positive', 'negative', 'film']\n",
    "#keys = ['school', 'year', 'college', 'city', 'states', 'university', 'team', 'film']\n",
    "embedding_cluster = []\n",
    "words_cluster = []\n",
    "\n",
    "for word in keys :\n",
    "    embeddings = []\n",
    "    words = []\n",
    "    for similar_word, _ in model.most_similar(word, topn=30):\n",
    "        words.append(similar_word)\n",
    "        embeddings.append(model[similar_word])\n",
    "    embedding_cluster.append(embeddings) #apending access vector of all similar words\n",
    "    words_cluster.append(words) #appending list of all smiliar words"
   ]
  },
  {
   "cell_type": "code",
   "execution_count": 81,
   "id": "4f47d19a",
   "metadata": {},
   "outputs": [
    {
     "name": "stdout",
     "output_type": "stream",
     "text": [
      "Embedding clusters: [ 0.36088547 -3.1332264  -0.06153435 -0.61246485 -0.80768806 -0.8371202\n",
      "  1.0593033   0.3068827   1.6431762   0.7520422   2.1674433  -1.9197233\n",
      " -0.79090387  1.1006339  -1.7400944   0.8813881   1.3174818   0.94298893\n",
      "  0.06689654 -1.0822556  -0.10947102 -1.8360969  -2.3878515   0.21770738\n",
      " -2.3002317   2.419421   -0.9591381  -3.4237325   2.9981098  -4.0774493\n",
      "  0.01078644  0.84831595 -0.96117043  0.63802284 -0.35265294 -0.28235444\n",
      "  0.7301104  -1.974097    1.9789728   2.2485085  -0.39138255 -1.7413374\n",
      "  0.35678783 -1.7168614  -0.5658367   3.798959   -0.3051753   0.7108856\n",
      " -0.23381627  2.693441    0.8875558   0.26892227  0.13772608  0.48111036\n",
      " -1.1024251  -1.217945   -1.3157183  -1.1661698   0.6784949   2.6282861\n",
      "  3.8881588   1.3265886   1.6789842   3.4789982  -1.0287496   3.0636985\n",
      "  1.7191972   1.4072284   1.4234765  -1.3009055  -1.2499199   0.03651512\n",
      " -2.2455788   0.30492812  0.34724063 -0.43861753  1.0137143   0.42935792\n",
      " -1.3615006  -0.1817193   1.9507194  -1.239207    1.1438537   0.4449905\n",
      "  2.9868605  -0.38212478  0.6994033   0.42628324 -0.21448983 -3.4371166\n",
      "  1.6282535   2.9924445  -0.4523425   0.4707845  -1.22856    -2.3048263\n",
      " -0.97068083  3.1713274  -0.8348871  -0.900225  ]\n",
      "Word Clusters: [['negative', 'favorable', 'positively', 'critical', 'favourable', 'responses', 'unfavorable', 'feedback', 'reviews', 'subjective', 'biased', 'reactions', 'weak', 'comparisons', 'lukewarm', 'critics', 'damning', 'outcomes', 'favorably', 'unfavourable', 'bias', 'spontaneous', 'compelling', 'deviance', 'predictable', 'stimuli', 'emotional', 'criticism', 'sensitivity', 'strong'], ['positive', 'biased', 'positively', 'favorable', 'bias', 'reactions', 'unfavorable', 'weak', 'responses', 'subjective', 'polarized', 'feedback', 'critical', 'predictable', 'distortions', 'sensitivity', 'deviance', 'exaggerated', 'adverse', 'negatively', 'misleading', 'spontaneous', 'incoherent', 'urgency', 'stimuli', 'undesirable', 'emotional', 'specificity', 'negativity', 'favourable']]\n"
     ]
    }
   ],
   "source": [
    "print(\"Embedding clusters:\",embedding_cluster[0][0])#Access vector of the first word only\n",
    "print(\"Word Clusters:\",words_cluster[:2])\n"
   ]
  },
  {
   "cell_type": "code",
   "execution_count": 61,
   "id": "39267b76",
   "metadata": {},
   "outputs": [],
   "source": [
    "from sklearn.manifold import TSNE"
   ]
  },
  {
   "cell_type": "code",
   "execution_count": 63,
   "id": "ae17483a",
   "metadata": {},
   "outputs": [],
   "source": [
    "embedding_cluster = np.array(embedding_cluster)\n",
    "n, m, k = embedding_cluster.shape\n",
    "tsne_model_en_2D = TSNE(perplexity=5, n_components = 2, init='pca', n_iter = 1500, random_state=2020)\n",
    "embedding_en_2D = np.array(tsne_model_en_2D.fit_transform(embedding_cluster.reshape(n*m, k))).reshape(n, m, 2)"
   ]
  },
  {
   "cell_type": "code",
   "execution_count": 87,
   "id": "8808c912",
   "metadata": {},
   "outputs": [
    {
     "name": "stdout",
     "output_type": "stream",
     "text": [
      "a\n",
      "[1, 2, 3]\n",
      "b\n",
      "[2, 3, 4]\n",
      "c\n",
      "[3, 4, 5]\n"
     ]
    }
   ],
   "source": [
    "a = ['a', 'b', 'c']\n",
    "b = [[1, 2, 3], [2, 3, 4], [3, 4, 5]]\n",
    "\n",
    "for i, j in zip(a, b):\n",
    "    print(i)\n",
    "    print(j)\n"
   ]
  },
  {
   "cell_type": "code",
   "execution_count": 98,
   "id": "0418ad3a",
   "metadata": {},
   "outputs": [],
   "source": [
    "import matplotlib.pyplot as plt\n",
    "import matplotlib.cm as cm\n",
    "\n",
    "#script for constructing two-dimensional graphics using Matplotlib\n",
    "def tsne_plot_similar_words(labels, embeddings_clusters, words_clusters, a=0.7):\n",
    "    plt.figure(figsize=(16,9))\n",
    "    \n",
    "    for label, embeddings, words in zip(labels, embeddings_clusters, words_clusters):\n",
    "        print(len(labels))\n",
    "        print(label)\n",
    "        print(len(embeddings_clusters))\n",
    "        print(len(words_clusters))\n",
    "        x = embeddings[:, 0]\n",
    "        y = embeddings[:, 1]\n",
    "        plt.scatter(x, y, alpha=a, label = label)\n",
    "        for i, word in enumerate(words):\n",
    "            plt.annotate(word, alpha = 0.5, xy=(x[i], y[i]), xytext=(5,2), textcoords='offset points', ha='right', va='bottom', size=8)\n",
    "        \n",
    "    plt.legend(loc=4)\n",
    "    plt.grid(False)\n",
    "    plt.show()\n"
   ]
  },
  {
   "cell_type": "code",
   "execution_count": 99,
   "id": "cf850357",
   "metadata": {},
   "outputs": [
    {
     "name": "stdout",
     "output_type": "stream",
     "text": [
      "137205\n",
      "bon\n",
      "3\n",
      "3\n",
      "137205\n",
      "suite\n",
      "3\n",
      "3\n",
      "137205\n",
      "aventure\n",
      "3\n",
      "3\n"
     ]
    },
    {
     "data": {
      "image/png": "[encoded data removed]",
      "text/plain": [
       "<Figure size 1152x648 with 1 Axes>"
      ]
     },
     "metadata": {
      "needs_background": "light"
     },
     "output_type": "display_data"
    }
   ],
   "source": [
    "tsne_plot_similar_words(lem_words, embedding_en_2D, words_cluster)"
   ]
  },
  {
   "cell_type": "markdown",
   "id": "ecedf4f7",
   "metadata": {},
   "source": [
    "### Clustering des mots"
   ]
  },
  {
   "cell_type": "code",
   "execution_count": 100,
   "id": "4069f673",
   "metadata": {},
   "outputs": [],
   "source": [
    "from sklearn.cluster import MiniBatchKMeans\n",
    "from sklearn.feature_extraction.text import TfidfVectorizer\n",
    "from sklearn.decomposition import PCA"
   ]
  },
  {
   "cell_type": "markdown",
   "id": "ab6a67ae",
   "metadata": {},
   "source": [
    "#### Features extractions : TF-IDF"
   ]
  },
  {
   "cell_type": "code",
   "execution_count": 101,
   "id": "8ad6a8d4",
   "metadata": {},
   "outputs": [],
   "source": [
    "vec = TfidfVectorizer()\n",
    "vec.fit(df_wc['lemmatizer'])\n",
    "features = vec.transform(df_wc['lemmatizer'])"
   ]
  },
  {
   "cell_type": "code",
   "execution_count": 118,
   "id": "aaa72011",
   "metadata": {},
   "outputs": [
    {
     "data": {
      "text/plain": [
       "MiniBatchKMeans(n_clusters=2, random_state=0)"
      ]
     },
     "execution_count": 118,
     "metadata": {},
     "output_type": "execute_result"
    }
   ],
   "source": [
    "cls = MiniBatchKMeans(n_clusters=2, random_state=0)\n",
    "cls.fit(features)\n"
   ]
  },
  {
   "cell_type": "code",
   "execution_count": 120,
   "id": "a3f54fd9",
   "metadata": {},
   "outputs": [],
   "source": [
    "# predict cluster labels for new dataset\n",
    "y_predict = cls.predict(features)\n"
   ]
  },
  {
   "cell_type": "code",
   "execution_count": 121,
   "id": "3aec8ec8",
   "metadata": {},
   "outputs": [],
   "source": [
    "#reduce dimensions to 2D\n",
    "pca = PCA(n_components=2, random_state=0)\n",
    "reduced_features = pca.fit_transform(features.toarray())\n",
    "\n",
    "#reduce the cluster center to 2D\n",
    "reduced_cluster_centers = pca.transform(cls.cluster_centers_)\n"
   ]
  },
  {
   "cell_type": "code",
   "execution_count": 122,
   "id": "77619b97",
   "metadata": {},
   "outputs": [
    {
     "data": {
      "image/png": "[encoded data removed]",
      "text/plain": [
       "<Figure size 1152x648 with 1 Axes>"
      ]
     },
     "metadata": {
      "needs_background": "light"
     },
     "output_type": "display_data"
    }
   ],
   "source": [
    "plt.figure(figsize=(16,9))\n",
    "plt.scatter(reduced_features[:,0], reduced_features[:, 1], c = y_predict)\n",
    "plt.scatter(reduced_cluster_centers[:, 0], reduced_cluster_centers[:, 1], marker = 'x', c='red')\n",
    "plt.show()"
   ]
  },
  {
   "cell_type": "markdown",
   "id": "eae4b2c8",
   "metadata": {},
   "source": [
    "#### Evaluation du modèle"
   ]
  },
  {
   "cell_type": "code",
   "execution_count": 123,
   "id": "1a201094",
   "metadata": {},
   "outputs": [],
   "source": [
    "from sklearn.metrics import homogeneity_score"
   ]
  },
  {
   "cell_type": "code",
   "execution_count": 124,
   "id": "7ff8295f",
   "metadata": {},
   "outputs": [
    {
     "data": {
      "text/plain": [
       "0.06797275329471977"
      ]
     },
     "execution_count": 124,
     "metadata": {},
     "output_type": "execute_result"
    }
   ],
   "source": [
    "homogeneity_score(df_wc['Note'], y_predict)"
   ]
  },
  {
   "cell_type": "markdown",
   "id": "f2e440e6",
   "metadata": {},
   "source": [
    "#### Test d'un word cloud"
   ]
  },
  {
   "cell_type": "code",
   "execution_count": 52,
   "id": "7b9d389a",
   "metadata": {},
   "outputs": [],
   "source": [
    "com_1 = df_sonic.iloc[0, 1]"
   ]
  },
  {
   "cell_type": "code",
   "execution_count": 64,
   "id": "35bf8f37",
   "metadata": {},
   "outputs": [
    {
     "name": "stderr",
     "output_type": "stream",
     "text": [
      "[nltk_data] Downloading package stopwords to\n",
      "[nltk_data]     /home/perrine/nltk_data...\n",
      "[nltk_data]   Unzipping corpora/stopwords.zip.\n"
     ]
    },
    {
     "data": {
      "text/plain": [
       "True"
      ]
     },
     "execution_count": 64,
     "metadata": {},
     "output_type": "execute_result"
    }
   ],
   "source": [
    "nltk.download('stopwords')"
   ]
  },
  {
   "cell_type": "code",
   "execution_count": 74,
   "id": "22aadd38",
   "metadata": {},
   "outputs": [],
   "source": [
    "\n",
    "SW = stopwords.words('french')\n",
    "#SW.append('Cette')\n",
    "#SW.append('fille')\n",
    "sw2 = ['déjà', 'formeune', 'toute', 'trop', 'suite']"
   ]
  },
  {
   "cell_type": "code",
   "execution_count": 72,
   "id": "67bd66bb",
   "metadata": {},
   "outputs": [],
   "source": [
    "for i in sw2:\n",
    "    SW.append(i)"
   ]
  },
  {
   "cell_type": "code",
   "execution_count": 73,
   "id": "a29d685f",
   "metadata": {},
   "outputs": [
    {
     "name": "stdout",
     "output_type": "stream",
     "text": [
      "['au', 'aux', 'avec', 'ce', 'ces', 'dans', 'de', 'des', 'du', 'elle', 'en', 'et', 'eux', 'il', 'ils', 'je', 'la', 'le', 'les', 'leur', 'lui', 'ma', 'mais', 'me', 'même', 'mes', 'moi', 'mon', 'ne', 'nos', 'notre', 'nous', 'on', 'ou', 'par', 'pas', 'pour', 'qu', 'que', 'qui', 'sa', 'se', 'ses', 'son', 'sur', 'ta', 'te', 'tes', 'toi', 'ton', 'tu', 'un', 'une', 'vos', 'votre', 'vous', 'c', 'd', 'j', 'l', 'à', 'm', 'n', 's', 't', 'y', 'été', 'étée', 'étées', 'étés', 'étant', 'étante', 'étants', 'étantes', 'suis', 'es', 'est', 'sommes', 'êtes', 'sont', 'serai', 'seras', 'sera', 'serons', 'serez', 'seront', 'serais', 'serait', 'serions', 'seriez', 'seraient', 'étais', 'était', 'étions', 'étiez', 'étaient', 'fus', 'fut', 'fûmes', 'fûtes', 'furent', 'sois', 'soit', 'soyons', 'soyez', 'soient', 'fusse', 'fusses', 'fût', 'fussions', 'fussiez', 'fussent', 'ayant', 'ayante', 'ayantes', 'ayants', 'eu', 'eue', 'eues', 'eus', 'ai', 'as', 'avons', 'avez', 'ont', 'aurai', 'auras', 'aura', 'aurons', 'aurez', 'auront', 'aurais', 'aurait', 'aurions', 'auriez', 'auraient', 'avais', 'avait', 'avions', 'aviez', 'avaient', 'eut', 'eûmes', 'eûtes', 'eurent', 'aie', 'aies', 'ait', 'ayons', 'ayez', 'aient', 'eusse', 'eusses', 'eût', 'eussions', 'eussiez', 'eussent', 'déjà', 'formeune', 'toute', 'trop', 'suite']\n"
     ]
    }
   ],
   "source": [
    "print(SW)"
   ]
  },
  {
   "cell_type": "code",
   "execution_count": 67,
   "id": "9f52c6e7",
   "metadata": {},
   "outputs": [
    {
     "data": {
      "image/png": "[encoded data removed]",
      "text/plain": [
       "<Figure size 432x288 with 1 Axes>"
      ]
     },
     "metadata": {
      "needs_background": "light"
     },
     "output_type": "display_data"
    }
   ],
   "source": [
    "\n",
    "WC=WordCloud(background_color = 'white',stopwords = SW).generate(com_1)\n",
    "\n",
    "plt.imshow(WC)\n",
    "plt.axis(\"off\")\n",
    "plt.show()"
   ]
  },
  {
   "cell_type": "code",
   "execution_count": null,
   "id": "ad243596",
   "metadata": {},
   "outputs": [],
   "source": []
  }
 ],
 "metadata": {
  "kernelspec": {
   "display_name": "Python 3 (ipykernel)",
   "language": "python",
   "name": "python3"
  },
  "language_info": {
   "codemirror_mode": {
    "name": "ipython",
    "version": 3
   },
   "file_extension": ".py",
   "mimetype": "text/x-python",
   "name": "python",
   "nbconvert_exporter": "python",
   "pygments_lexer": "ipython3",
   "version": "3.10.4"
  }
 },
 "nbformat": 4,
 "nbformat_minor": 5
}
