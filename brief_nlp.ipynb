{
 "cells": [
  {
   "cell_type": "markdown",
   "id": "ca6e838d",
   "metadata": {},
   "source": [
    "### Librairies"
   ]
  },
  {
   "cell_type": "code",
   "execution_count": 1,
   "id": "e95893c5",
   "metadata": {},
   "outputs": [],
   "source": [
    "import requests\n",
    "import lxml.html as lh\n",
    "import pandas as pd\n",
    "from wordcloud import WordCloud\n",
    "import nltk\n",
    "from nltk.corpus import stopwords\n",
    "import matplotlib.pyplot as plt\n",
    "from nltk.stem.snowball import SnowballStemmer\n",
    "from nltk.stem import WordNetLemmatizer\n",
    "import pandas as pd\n",
    "from sklearn.feature_extraction.text import CountVectorizer\n",
    "from sklearn.model_selection import train_test_split\n",
    "from sklearn.linear_model import LogisticRegression\n",
    "from sklearn.metrics import confusion_matrix"
   ]
  },
  {
   "cell_type": "code",
   "execution_count": 2,
   "id": "6c2d6b2c",
   "metadata": {},
   "outputs": [],
   "source": [
    "# URL\n",
    "url_inception = 'https://www.allocine.fr/film/fichefilm-143692/critiques/spectateurs/'\n",
    "url_sonic = 'https://www.allocine.fr/film/fichefilm-281203/critiques/spectateurs/'\n",
    "# URI-SUFFIX\n",
    "uri_pages = '?page='\n",
    "# Number of pages to read\n",
    "nbPages = 100\n",
    "\n",
    "tags = ['//span[@class=\"stareval-note\"]', \\\n",
    "       '//div[@class=\"content-txt review-card-content\"]']\n",
    "cols = ['Note', \\\n",
    "        'Commentaire']"
   ]
  },
  {
   "cell_type": "code",
   "execution_count": 3,
   "id": "f0eec947",
   "metadata": {},
   "outputs": [],
   "source": [
    "def get_page(url):\n",
    "    page = requests.get(url)\n",
    "    doc = lh.fromstring(page.content)\n",
    "    \n",
    "    #Get the web data via xpath\n",
    "    content = []\n",
    "    for i in range(len(tags)):\n",
    "        content.append(doc.xpath(tags[i]))\n",
    "    \n",
    "    # Gather the data into a Pandas DataFrame array\n",
    "    df_liste = []\n",
    "    for j in range(len(tags)):\n",
    "        tmp = pd.DataFrame([content[j][i].text_content().strip() for i in range(len(content[i]))], columns=[cols[j]])\n",
    "        tmp['key'] = tmp.index\n",
    "        df_liste.append(tmp)\n",
    " \n",
    "    # Build the unique Dataframe with one tag (xpath) content per column\n",
    "    liste = df_liste[0]\n",
    "    for j in range(len(tags)-1):\n",
    "        liste = liste.join(df_liste[j+1], on='key', how='left', lsuffix='_l', rsuffix='_r')\n",
    "        liste['key'] = liste.index\n",
    "        del liste['key_l']\n",
    "        del liste['key_r']\n",
    " \n",
    "    return liste        "
   ]
  },
  {
   "cell_type": "code",
   "execution_count": 4,
   "id": "8fef659a",
   "metadata": {},
   "outputs": [],
   "source": [
    "def getPages(_nbPages, _url):\n",
    "    liste_finale = pd.DataFrame()\n",
    "    for i in range (_nbPages):\n",
    "        liste = get_page(_url + uri_pages + str(i+1))\n",
    "        liste_finale = pd.concat([liste_finale, liste], ignore_index=True)\n",
    "    return liste_finale\n",
    " \n",
    "df_inception = getPages(nbPages, url_inception)"
   ]
  },
  {
   "cell_type": "code",
   "execution_count": 6,
   "id": "f033fa23",
   "metadata": {},
   "outputs": [
    {
     "data": {
      "text/html": [
       "<div>\n",
       "<style scoped>\n",
       "    .dataframe tbody tr th:only-of-type {\n",
       "        vertical-align: middle;\n",
       "    }\n",
       "\n",
       "    .dataframe tbody tr th {\n",
       "        vertical-align: top;\n",
       "    }\n",
       "\n",
       "    .dataframe thead th {\n",
       "        text-align: right;\n",
       "    }\n",
       "</style>\n",
       "<table border=\"1\" class=\"dataframe\">\n",
       "  <thead>\n",
       "    <tr style=\"text-align: right;\">\n",
       "      <th></th>\n",
       "      <th>Note</th>\n",
       "      <th>Commentaire</th>\n",
       "      <th>key</th>\n",
       "    </tr>\n",
       "  </thead>\n",
       "  <tbody>\n",
       "    <tr>\n",
       "      <th>0</th>\n",
       "      <td>5,0</td>\n",
       "      <td>Après le chef d'oeuvre super-héroïque The Dark...</td>\n",
       "      <td>0</td>\n",
       "    </tr>\n",
       "    <tr>\n",
       "      <th>1</th>\n",
       "      <td>5,0</td>\n",
       "      <td>C’est fou ce qu’on aime détester Christopher N...</td>\n",
       "      <td>1</td>\n",
       "    </tr>\n",
       "    <tr>\n",
       "      <th>2</th>\n",
       "      <td>5,0</td>\n",
       "      <td>CHEF D’ŒUVRE ! Le film est absolument parfait ...</td>\n",
       "      <td>2</td>\n",
       "    </tr>\n",
       "    <tr>\n",
       "      <th>3</th>\n",
       "      <td>5,0</td>\n",
       "      <td>Un film aussi novateur que complexe, dont la m...</td>\n",
       "      <td>3</td>\n",
       "    </tr>\n",
       "    <tr>\n",
       "      <th>4</th>\n",
       "      <td>3,5</td>\n",
       "      <td>Le meilleur blockbuster de 2010 a pour thème l...</td>\n",
       "      <td>4</td>\n",
       "    </tr>\n",
       "  </tbody>\n",
       "</table>\n",
       "</div>"
      ],
      "text/plain": [
       "  Note                                        Commentaire  key\n",
       "0  5,0  Après le chef d'oeuvre super-héroïque The Dark...    0\n",
       "1  5,0  C’est fou ce qu’on aime détester Christopher N...    1\n",
       "2  5,0  CHEF D’ŒUVRE ! Le film est absolument parfait ...    2\n",
       "3  5,0  Un film aussi novateur que complexe, dont la m...    3\n",
       "4  3,5  Le meilleur blockbuster de 2010 a pour thème l...    4"
      ]
     },
     "execution_count": 6,
     "metadata": {},
     "output_type": "execute_result"
    }
   ],
   "source": [
    "df_inception.head()"
   ]
  },
  {
   "cell_type": "code",
   "execution_count": 7,
   "id": "f17e5ee8",
   "metadata": {
    "scrolled": true
   },
   "outputs": [
    {
     "data": {
      "text/html": [
       "<div>\n",
       "<style scoped>\n",
       "    .dataframe tbody tr th:only-of-type {\n",
       "        vertical-align: middle;\n",
       "    }\n",
       "\n",
       "    .dataframe tbody tr th {\n",
       "        vertical-align: top;\n",
       "    }\n",
       "\n",
       "    .dataframe thead th {\n",
       "        text-align: right;\n",
       "    }\n",
       "</style>\n",
       "<table border=\"1\" class=\"dataframe\">\n",
       "  <thead>\n",
       "    <tr style=\"text-align: right;\">\n",
       "      <th></th>\n",
       "      <th>Note</th>\n",
       "      <th>Commentaire</th>\n",
       "      <th>key</th>\n",
       "    </tr>\n",
       "  </thead>\n",
       "  <tbody>\n",
       "    <tr>\n",
       "      <th>0</th>\n",
       "      <td>4,0</td>\n",
       "      <td>une bonne suite pour les aventures de sonic au...</td>\n",
       "      <td>0</td>\n",
       "    </tr>\n",
       "    <tr>\n",
       "      <th>1</th>\n",
       "      <td>5,0</td>\n",
       "      <td>Cette suite de sonic est incroyable !Le fan qu...</td>\n",
       "      <td>1</td>\n",
       "    </tr>\n",
       "    <tr>\n",
       "      <th>2</th>\n",
       "      <td>3,0</td>\n",
       "      <td>Malgré deux nouveaux personnages de l'univers ...</td>\n",
       "      <td>2</td>\n",
       "    </tr>\n",
       "    <tr>\n",
       "      <th>3</th>\n",
       "      <td>4,0</td>\n",
       "      <td>Très bon film ont retrouve ce qui fait l’espri...</td>\n",
       "      <td>3</td>\n",
       "    </tr>\n",
       "    <tr>\n",
       "      <th>4</th>\n",
       "      <td>4,0</td>\n",
       "      <td>Super film de ouf, le fait que Knuckles soit d...</td>\n",
       "      <td>4</td>\n",
       "    </tr>\n",
       "  </tbody>\n",
       "</table>\n",
       "</div>"
      ],
      "text/plain": [
       "  Note                                        Commentaire  key\n",
       "0  4,0  une bonne suite pour les aventures de sonic au...    0\n",
       "1  5,0  Cette suite de sonic est incroyable !Le fan qu...    1\n",
       "2  3,0  Malgré deux nouveaux personnages de l'univers ...    2\n",
       "3  4,0  Très bon film ont retrouve ce qui fait l’espri...    3\n",
       "4  4,0  Super film de ouf, le fait que Knuckles soit d...    4"
      ]
     },
     "execution_count": 7,
     "metadata": {},
     "output_type": "execute_result"
    }
   ],
   "source": [
    "df_sonic = getPages(nbPages, url_sonic)\n",
    "df_sonic.head()"
   ]
  },
  {
   "cell_type": "markdown",
   "id": "6a4f9c12",
   "metadata": {},
   "source": [
    "### Concaténation des dataframes"
   ]
  },
  {
   "cell_type": "code",
   "execution_count": 8,
   "id": "998fa06f",
   "metadata": {},
   "outputs": [
    {
     "data": {
      "text/plain": [
       "(1221, 3)"
      ]
     },
     "execution_count": 8,
     "metadata": {},
     "output_type": "execute_result"
    }
   ],
   "source": [
    "df_sonic.shape"
   ]
  },
  {
   "cell_type": "code",
   "execution_count": 9,
   "id": "74816077",
   "metadata": {},
   "outputs": [
    {
     "data": {
      "text/plain": [
       "(1500, 3)"
      ]
     },
     "execution_count": 9,
     "metadata": {},
     "output_type": "execute_result"
    }
   ],
   "source": [
    "df_inception.shape"
   ]
  },
  {
   "cell_type": "code",
   "execution_count": 10,
   "id": "52dea49f",
   "metadata": {},
   "outputs": [],
   "source": [
    "df_films = pd.concat([df_sonic, df_inception])"
   ]
  },
  {
   "cell_type": "code",
   "execution_count": 11,
   "id": "c94e798b",
   "metadata": {},
   "outputs": [],
   "source": [
    "df_films.reset_index(inplace=True)"
   ]
  },
  {
   "cell_type": "code",
   "execution_count": 12,
   "id": "a003df90",
   "metadata": {},
   "outputs": [
    {
     "data": {
      "text/html": [
       "<div>\n",
       "<style scoped>\n",
       "    .dataframe tbody tr th:only-of-type {\n",
       "        vertical-align: middle;\n",
       "    }\n",
       "\n",
       "    .dataframe tbody tr th {\n",
       "        vertical-align: top;\n",
       "    }\n",
       "\n",
       "    .dataframe thead th {\n",
       "        text-align: right;\n",
       "    }\n",
       "</style>\n",
       "<table border=\"1\" class=\"dataframe\">\n",
       "  <thead>\n",
       "    <tr style=\"text-align: right;\">\n",
       "      <th></th>\n",
       "      <th>index</th>\n",
       "      <th>Note</th>\n",
       "      <th>Commentaire</th>\n",
       "      <th>key</th>\n",
       "    </tr>\n",
       "  </thead>\n",
       "  <tbody>\n",
       "    <tr>\n",
       "      <th>2716</th>\n",
       "      <td>1495</td>\n",
       "      <td>2,5</td>\n",
       "      <td>Agréablement surpris! Des effets spéciaux impr...</td>\n",
       "      <td>10</td>\n",
       "    </tr>\n",
       "    <tr>\n",
       "      <th>2717</th>\n",
       "      <td>1496</td>\n",
       "      <td>4,0</td>\n",
       "      <td>E-NOR-ME !!!!Le jeu de TOUS les acteurs est tr...</td>\n",
       "      <td>11</td>\n",
       "    </tr>\n",
       "    <tr>\n",
       "      <th>2718</th>\n",
       "      <td>1497</td>\n",
       "      <td>5,0</td>\n",
       "      <td>Qu'elle film!!Je conseil a tous ce chef d'oeuv...</td>\n",
       "      <td>12</td>\n",
       "    </tr>\n",
       "    <tr>\n",
       "      <th>2719</th>\n",
       "      <td>1498</td>\n",
       "      <td>5,0</td>\n",
       "      <td>Bon, DiCaprio commence vraiment à me gonfler! ...</td>\n",
       "      <td>13</td>\n",
       "    </tr>\n",
       "    <tr>\n",
       "      <th>2720</th>\n",
       "      <td>1499</td>\n",
       "      <td>5,0</td>\n",
       "      <td>Après avoir vu ce film, je n'ai qu'une conclus...</td>\n",
       "      <td>14</td>\n",
       "    </tr>\n",
       "  </tbody>\n",
       "</table>\n",
       "</div>"
      ],
      "text/plain": [
       "      index Note                                        Commentaire  key\n",
       "2716   1495  2,5  Agréablement surpris! Des effets spéciaux impr...   10\n",
       "2717   1496  4,0  E-NOR-ME !!!!Le jeu de TOUS les acteurs est tr...   11\n",
       "2718   1497  5,0  Qu'elle film!!Je conseil a tous ce chef d'oeuv...   12\n",
       "2719   1498  5,0  Bon, DiCaprio commence vraiment à me gonfler! ...   13\n",
       "2720   1499  5,0  Après avoir vu ce film, je n'ai qu'une conclus...   14"
      ]
     },
     "execution_count": 12,
     "metadata": {},
     "output_type": "execute_result"
    }
   ],
   "source": [
    "df_films.tail()"
   ]
  },
  {
   "cell_type": "code",
   "execution_count": 13,
   "id": "7c057cb8",
   "metadata": {},
   "outputs": [
    {
     "data": {
      "text/plain": [
       "(2721, 4)"
      ]
     },
     "execution_count": 13,
     "metadata": {},
     "output_type": "execute_result"
    }
   ],
   "source": [
    "df_films.shape"
   ]
  },
  {
   "cell_type": "markdown",
   "id": "1af72857",
   "metadata": {},
   "source": [
    "### Nettoyage des commentaires"
   ]
  },
  {
   "cell_type": "markdown",
   "id": "6b552f52",
   "metadata": {},
   "source": [
    "#### Elimination de la ponctuation (regex) et transformation en minuscule"
   ]
  },
  {
   "cell_type": "code",
   "execution_count": 14,
   "id": "1bc7590b",
   "metadata": {},
   "outputs": [],
   "source": [
    "df_films['Commentaire'] = df_films['Commentaire'].replace(\"[^\\w\\s]\", \" \", regex = True).str.replace(\"\\d+\", '', regex=True).str.lower()"
   ]
  },
  {
   "cell_type": "code",
   "execution_count": 15,
   "id": "9aafb553",
   "metadata": {
    "scrolled": true
   },
   "outputs": [
    {
     "data": {
      "text/html": [
       "<div>\n",
       "<style scoped>\n",
       "    .dataframe tbody tr th:only-of-type {\n",
       "        vertical-align: middle;\n",
       "    }\n",
       "\n",
       "    .dataframe tbody tr th {\n",
       "        vertical-align: top;\n",
       "    }\n",
       "\n",
       "    .dataframe thead th {\n",
       "        text-align: right;\n",
       "    }\n",
       "</style>\n",
       "<table border=\"1\" class=\"dataframe\">\n",
       "  <thead>\n",
       "    <tr style=\"text-align: right;\">\n",
       "      <th></th>\n",
       "      <th>index</th>\n",
       "      <th>Note</th>\n",
       "      <th>Commentaire</th>\n",
       "      <th>key</th>\n",
       "    </tr>\n",
       "  </thead>\n",
       "  <tbody>\n",
       "    <tr>\n",
       "      <th>0</th>\n",
       "      <td>0</td>\n",
       "      <td>4,0</td>\n",
       "      <td>une bonne suite pour les aventures de sonic au...</td>\n",
       "      <td>0</td>\n",
       "    </tr>\n",
       "    <tr>\n",
       "      <th>1</th>\n",
       "      <td>1</td>\n",
       "      <td>5,0</td>\n",
       "      <td>cette suite de sonic est incroyable  le fan qu...</td>\n",
       "      <td>1</td>\n",
       "    </tr>\n",
       "    <tr>\n",
       "      <th>2</th>\n",
       "      <td>2</td>\n",
       "      <td>3,0</td>\n",
       "      <td>malgré deux nouveaux personnages de l univers ...</td>\n",
       "      <td>2</td>\n",
       "    </tr>\n",
       "    <tr>\n",
       "      <th>3</th>\n",
       "      <td>3</td>\n",
       "      <td>4,0</td>\n",
       "      <td>très bon film ont retrouve ce qui fait l espri...</td>\n",
       "      <td>3</td>\n",
       "    </tr>\n",
       "    <tr>\n",
       "      <th>4</th>\n",
       "      <td>4</td>\n",
       "      <td>4,0</td>\n",
       "      <td>super film de ouf  le fait que knuckles soit d...</td>\n",
       "      <td>4</td>\n",
       "    </tr>\n",
       "  </tbody>\n",
       "</table>\n",
       "</div>"
      ],
      "text/plain": [
       "   index Note                                        Commentaire  key\n",
       "0      0  4,0  une bonne suite pour les aventures de sonic au...    0\n",
       "1      1  5,0  cette suite de sonic est incroyable  le fan qu...    1\n",
       "2      2  3,0  malgré deux nouveaux personnages de l univers ...    2\n",
       "3      3  4,0  très bon film ont retrouve ce qui fait l espri...    3\n",
       "4      4  4,0  super film de ouf  le fait que knuckles soit d...    4"
      ]
     },
     "execution_count": 15,
     "metadata": {},
     "output_type": "execute_result"
    }
   ],
   "source": [
    "df_films.head()"
   ]
  },
  {
   "cell_type": "markdown",
   "id": "d5cb3677",
   "metadata": {},
   "source": [
    "#### Enlever les stop words"
   ]
  },
  {
   "cell_type": "code",
   "execution_count": 16,
   "id": "cd8623d1",
   "metadata": {},
   "outputs": [],
   "source": [
    "SW = stopwords.words('french')\n",
    "df_films['Commentaire_sans_SW'] = df_films['Commentaire'].apply(lambda x:' '.join([word for word in x.split() if word not in SW]))\n"
   ]
  },
  {
   "cell_type": "code",
   "execution_count": 17,
   "id": "b4731091",
   "metadata": {},
   "outputs": [
    {
     "data": {
      "text/html": [
       "<div>\n",
       "<style scoped>\n",
       "    .dataframe tbody tr th:only-of-type {\n",
       "        vertical-align: middle;\n",
       "    }\n",
       "\n",
       "    .dataframe tbody tr th {\n",
       "        vertical-align: top;\n",
       "    }\n",
       "\n",
       "    .dataframe thead th {\n",
       "        text-align: right;\n",
       "    }\n",
       "</style>\n",
       "<table border=\"1\" class=\"dataframe\">\n",
       "  <thead>\n",
       "    <tr style=\"text-align: right;\">\n",
       "      <th></th>\n",
       "      <th>index</th>\n",
       "      <th>Note</th>\n",
       "      <th>Commentaire</th>\n",
       "      <th>key</th>\n",
       "      <th>Commentaire_sans_SW</th>\n",
       "    </tr>\n",
       "  </thead>\n",
       "  <tbody>\n",
       "    <tr>\n",
       "      <th>0</th>\n",
       "      <td>0</td>\n",
       "      <td>4,0</td>\n",
       "      <td>une bonne suite pour les aventures de sonic au...</td>\n",
       "      <td>0</td>\n",
       "      <td>bonne suite aventures sonic cinéma deja premie...</td>\n",
       "    </tr>\n",
       "    <tr>\n",
       "      <th>1</th>\n",
       "      <td>1</td>\n",
       "      <td>5,0</td>\n",
       "      <td>cette suite de sonic est incroyable  le fan qu...</td>\n",
       "      <td>1</td>\n",
       "      <td>cette suite sonic incroyable fan ravi quand jo...</td>\n",
       "    </tr>\n",
       "    <tr>\n",
       "      <th>2</th>\n",
       "      <td>2</td>\n",
       "      <td>3,0</td>\n",
       "      <td>malgré deux nouveaux personnages de l univers ...</td>\n",
       "      <td>2</td>\n",
       "      <td>malgré deux nouveaux personnages univers jeu v...</td>\n",
       "    </tr>\n",
       "    <tr>\n",
       "      <th>3</th>\n",
       "      <td>3</td>\n",
       "      <td>4,0</td>\n",
       "      <td>très bon film ont retrouve ce qui fait l espri...</td>\n",
       "      <td>3</td>\n",
       "      <td>très bon film retrouve fait esprit sonic film ...</td>\n",
       "    </tr>\n",
       "    <tr>\n",
       "      <th>4</th>\n",
       "      <td>4</td>\n",
       "      <td>4,0</td>\n",
       "      <td>super film de ouf  le fait que knuckles soit d...</td>\n",
       "      <td>4</td>\n",
       "      <td>super film ouf fait knuckles côté eggman début...</td>\n",
       "    </tr>\n",
       "    <tr>\n",
       "      <th>...</th>\n",
       "      <td>...</td>\n",
       "      <td>...</td>\n",
       "      <td>...</td>\n",
       "      <td>...</td>\n",
       "      <td>...</td>\n",
       "    </tr>\n",
       "    <tr>\n",
       "      <th>2716</th>\n",
       "      <td>1495</td>\n",
       "      <td>2,5</td>\n",
       "      <td>agréablement surpris  des effets spéciaux impr...</td>\n",
       "      <td>10</td>\n",
       "      <td>agréablement surpris effets spéciaux impressio...</td>\n",
       "    </tr>\n",
       "    <tr>\n",
       "      <th>2717</th>\n",
       "      <td>1496</td>\n",
       "      <td>4,0</td>\n",
       "      <td>e nor me     le jeu de tous les acteurs est tr...</td>\n",
       "      <td>11</td>\n",
       "      <td>e nor jeu tous acteurs très bien mario cotilla...</td>\n",
       "    </tr>\n",
       "    <tr>\n",
       "      <th>2718</th>\n",
       "      <td>1497</td>\n",
       "      <td>5,0</td>\n",
       "      <td>qu elle film  je conseil a tous ce chef d oeuv...</td>\n",
       "      <td>12</td>\n",
       "      <td>film conseil a tous chef oeuvre fera passer h ...</td>\n",
       "    </tr>\n",
       "    <tr>\n",
       "      <th>2719</th>\n",
       "      <td>1498</td>\n",
       "      <td>5,0</td>\n",
       "      <td>bon  dicaprio commence vraiment à me gonfler  ...</td>\n",
       "      <td>13</td>\n",
       "      <td>bon dicaprio commence vraiment gonfler fais pa...</td>\n",
       "    </tr>\n",
       "    <tr>\n",
       "      <th>2720</th>\n",
       "      <td>1499</td>\n",
       "      <td>5,0</td>\n",
       "      <td>après avoir vu ce film  je n ai qu une conclus...</td>\n",
       "      <td>14</td>\n",
       "      <td>après avoir vu film conclusion christopher nol...</td>\n",
       "    </tr>\n",
       "  </tbody>\n",
       "</table>\n",
       "<p>2721 rows × 5 columns</p>\n",
       "</div>"
      ],
      "text/plain": [
       "      index Note                                        Commentaire  key  \\\n",
       "0         0  4,0  une bonne suite pour les aventures de sonic au...    0   \n",
       "1         1  5,0  cette suite de sonic est incroyable  le fan qu...    1   \n",
       "2         2  3,0  malgré deux nouveaux personnages de l univers ...    2   \n",
       "3         3  4,0  très bon film ont retrouve ce qui fait l espri...    3   \n",
       "4         4  4,0  super film de ouf  le fait que knuckles soit d...    4   \n",
       "...     ...  ...                                                ...  ...   \n",
       "2716   1495  2,5  agréablement surpris  des effets spéciaux impr...   10   \n",
       "2717   1496  4,0  e nor me     le jeu de tous les acteurs est tr...   11   \n",
       "2718   1497  5,0  qu elle film  je conseil a tous ce chef d oeuv...   12   \n",
       "2719   1498  5,0  bon  dicaprio commence vraiment à me gonfler  ...   13   \n",
       "2720   1499  5,0  après avoir vu ce film  je n ai qu une conclus...   14   \n",
       "\n",
       "                                    Commentaire_sans_SW  \n",
       "0     bonne suite aventures sonic cinéma deja premie...  \n",
       "1     cette suite sonic incroyable fan ravi quand jo...  \n",
       "2     malgré deux nouveaux personnages univers jeu v...  \n",
       "3     très bon film retrouve fait esprit sonic film ...  \n",
       "4     super film ouf fait knuckles côté eggman début...  \n",
       "...                                                 ...  \n",
       "2716  agréablement surpris effets spéciaux impressio...  \n",
       "2717  e nor jeu tous acteurs très bien mario cotilla...  \n",
       "2718  film conseil a tous chef oeuvre fera passer h ...  \n",
       "2719  bon dicaprio commence vraiment gonfler fais pa...  \n",
       "2720  après avoir vu film conclusion christopher nol...  \n",
       "\n",
       "[2721 rows x 5 columns]"
      ]
     },
     "execution_count": 17,
     "metadata": {},
     "output_type": "execute_result"
    }
   ],
   "source": [
    "df_films"
   ]
  },
  {
   "cell_type": "markdown",
   "id": "d98fe543",
   "metadata": {},
   "source": [
    "#### Lemmentiser"
   ]
  },
  {
   "cell_type": "code",
   "execution_count": 18,
   "id": "38130a41",
   "metadata": {},
   "outputs": [
    {
     "name": "stderr",
     "output_type": "stream",
     "text": [
      "2022-05-03 20:59:21.209082: W tensorflow/stream_executor/platform/default/dso_loader.cc:64] Could not load dynamic library 'libcudart.so.11.0'; dlerror: libcudart.so.11.0: cannot open shared object file: No such file or directory\n",
      "2022-05-03 20:59:21.209141: I tensorflow/stream_executor/cuda/cudart_stub.cc:29] Ignore above cudart dlerror if you do not have a GPU set up on your machine.\n"
     ]
    }
   ],
   "source": [
    "import spacy\n",
    "nlp = spacy.load('fr_core_news_md')"
   ]
  },
  {
   "cell_type": "code",
   "execution_count": 19,
   "id": "cd7defbf",
   "metadata": {},
   "outputs": [],
   "source": [
    "df_films['lemmatizer'] = df_films['Commentaire_sans_SW'].apply(lambda x: [y.lemma_ for y in nlp(x)])"
   ]
  },
  {
   "cell_type": "code",
   "execution_count": 20,
   "id": "3f9e2b68",
   "metadata": {},
   "outputs": [
    {
     "data": {
      "text/html": [
       "<div>\n",
       "<style scoped>\n",
       "    .dataframe tbody tr th:only-of-type {\n",
       "        vertical-align: middle;\n",
       "    }\n",
       "\n",
       "    .dataframe tbody tr th {\n",
       "        vertical-align: top;\n",
       "    }\n",
       "\n",
       "    .dataframe thead th {\n",
       "        text-align: right;\n",
       "    }\n",
       "</style>\n",
       "<table border=\"1\" class=\"dataframe\">\n",
       "  <thead>\n",
       "    <tr style=\"text-align: right;\">\n",
       "      <th></th>\n",
       "      <th>index</th>\n",
       "      <th>Note</th>\n",
       "      <th>Commentaire</th>\n",
       "      <th>key</th>\n",
       "      <th>Commentaire_sans_SW</th>\n",
       "      <th>lemmatizer</th>\n",
       "    </tr>\n",
       "  </thead>\n",
       "  <tbody>\n",
       "    <tr>\n",
       "      <th>0</th>\n",
       "      <td>0</td>\n",
       "      <td>4,0</td>\n",
       "      <td>une bonne suite pour les aventures de sonic au...</td>\n",
       "      <td>0</td>\n",
       "      <td>bonne suite aventures sonic cinéma deja premie...</td>\n",
       "      <td>[bon, suite, aventure, sonic, cinéma, deja, pr...</td>\n",
       "    </tr>\n",
       "    <tr>\n",
       "      <th>1</th>\n",
       "      <td>1</td>\n",
       "      <td>5,0</td>\n",
       "      <td>cette suite de sonic est incroyable  le fan qu...</td>\n",
       "      <td>1</td>\n",
       "      <td>cette suite sonic incroyable fan ravi quand jo...</td>\n",
       "      <td>[ce, suite, sonic, incroyable, fan, ravir, qua...</td>\n",
       "    </tr>\n",
       "    <tr>\n",
       "      <th>2</th>\n",
       "      <td>2</td>\n",
       "      <td>3,0</td>\n",
       "      <td>malgré deux nouveaux personnages de l univers ...</td>\n",
       "      <td>2</td>\n",
       "      <td>malgré deux nouveaux personnages univers jeu v...</td>\n",
       "      <td>[malgré, deux, nouveau, personnage, univer, je...</td>\n",
       "    </tr>\n",
       "    <tr>\n",
       "      <th>3</th>\n",
       "      <td>3</td>\n",
       "      <td>4,0</td>\n",
       "      <td>très bon film ont retrouve ce qui fait l espri...</td>\n",
       "      <td>3</td>\n",
       "      <td>très bon film retrouve fait esprit sonic film ...</td>\n",
       "      <td>[très, bon, film, retrouve, faire, esprit, son...</td>\n",
       "    </tr>\n",
       "    <tr>\n",
       "      <th>4</th>\n",
       "      <td>4</td>\n",
       "      <td>4,0</td>\n",
       "      <td>super film de ouf  le fait que knuckles soit d...</td>\n",
       "      <td>4</td>\n",
       "      <td>super film ouf fait knuckles côté eggman début...</td>\n",
       "      <td>[super, film, ouf, faire, knuckles, côté, eggm...</td>\n",
       "    </tr>\n",
       "  </tbody>\n",
       "</table>\n",
       "</div>"
      ],
      "text/plain": [
       "   index Note                                        Commentaire  key  \\\n",
       "0      0  4,0  une bonne suite pour les aventures de sonic au...    0   \n",
       "1      1  5,0  cette suite de sonic est incroyable  le fan qu...    1   \n",
       "2      2  3,0  malgré deux nouveaux personnages de l univers ...    2   \n",
       "3      3  4,0  très bon film ont retrouve ce qui fait l espri...    3   \n",
       "4      4  4,0  super film de ouf  le fait que knuckles soit d...    4   \n",
       "\n",
       "                                 Commentaire_sans_SW  \\\n",
       "0  bonne suite aventures sonic cinéma deja premie...   \n",
       "1  cette suite sonic incroyable fan ravi quand jo...   \n",
       "2  malgré deux nouveaux personnages univers jeu v...   \n",
       "3  très bon film retrouve fait esprit sonic film ...   \n",
       "4  super film ouf fait knuckles côté eggman début...   \n",
       "\n",
       "                                          lemmatizer  \n",
       "0  [bon, suite, aventure, sonic, cinéma, deja, pr...  \n",
       "1  [ce, suite, sonic, incroyable, fan, ravir, qua...  \n",
       "2  [malgré, deux, nouveau, personnage, univer, je...  \n",
       "3  [très, bon, film, retrouve, faire, esprit, son...  \n",
       "4  [super, film, ouf, faire, knuckles, côté, eggm...  "
      ]
     },
     "execution_count": 20,
     "metadata": {},
     "output_type": "execute_result"
    }
   ],
   "source": [
    "df_films.head()"
   ]
  },
  {
   "cell_type": "markdown",
   "id": "88257315",
   "metadata": {},
   "source": [
    "##### Transformation des listes dans la colonne \"lemmatizer\" en chaine de caractères"
   ]
  },
  {
   "cell_type": "code",
   "execution_count": 21,
   "id": "45dc32e6",
   "metadata": {},
   "outputs": [
    {
     "data": {
      "text/html": [
       "<div>\n",
       "<style scoped>\n",
       "    .dataframe tbody tr th:only-of-type {\n",
       "        vertical-align: middle;\n",
       "    }\n",
       "\n",
       "    .dataframe tbody tr th {\n",
       "        vertical-align: top;\n",
       "    }\n",
       "\n",
       "    .dataframe thead th {\n",
       "        text-align: right;\n",
       "    }\n",
       "</style>\n",
       "<table border=\"1\" class=\"dataframe\">\n",
       "  <thead>\n",
       "    <tr style=\"text-align: right;\">\n",
       "      <th></th>\n",
       "      <th>index</th>\n",
       "      <th>Note</th>\n",
       "      <th>Commentaire</th>\n",
       "      <th>key</th>\n",
       "      <th>Commentaire_sans_SW</th>\n",
       "      <th>lemmatizer</th>\n",
       "    </tr>\n",
       "  </thead>\n",
       "  <tbody>\n",
       "    <tr>\n",
       "      <th>0</th>\n",
       "      <td>0</td>\n",
       "      <td>4,0</td>\n",
       "      <td>une bonne suite pour les aventures de sonic au...</td>\n",
       "      <td>0</td>\n",
       "      <td>bonne suite aventures sonic cinéma deja premie...</td>\n",
       "      <td>bon suite aventure sonic cinéma deja premier f...</td>\n",
       "    </tr>\n",
       "    <tr>\n",
       "      <th>1</th>\n",
       "      <td>1</td>\n",
       "      <td>5,0</td>\n",
       "      <td>cette suite de sonic est incroyable  le fan qu...</td>\n",
       "      <td>1</td>\n",
       "      <td>cette suite sonic incroyable fan ravi quand jo...</td>\n",
       "      <td>ce suite sonic incroyable fan ravir quand joue...</td>\n",
       "    </tr>\n",
       "    <tr>\n",
       "      <th>2</th>\n",
       "      <td>2</td>\n",
       "      <td>3,0</td>\n",
       "      <td>malgré deux nouveaux personnages de l univers ...</td>\n",
       "      <td>2</td>\n",
       "      <td>malgré deux nouveaux personnages univers jeu v...</td>\n",
       "      <td>malgré deux nouveau personnage univer jeu vidé...</td>\n",
       "    </tr>\n",
       "    <tr>\n",
       "      <th>3</th>\n",
       "      <td>3</td>\n",
       "      <td>4,0</td>\n",
       "      <td>très bon film ont retrouve ce qui fait l espri...</td>\n",
       "      <td>3</td>\n",
       "      <td>très bon film retrouve fait esprit sonic film ...</td>\n",
       "      <td>très bon film retrouve faire esprit sonic film...</td>\n",
       "    </tr>\n",
       "    <tr>\n",
       "      <th>4</th>\n",
       "      <td>4</td>\n",
       "      <td>4,0</td>\n",
       "      <td>super film de ouf  le fait que knuckles soit d...</td>\n",
       "      <td>4</td>\n",
       "      <td>super film ouf fait knuckles côté eggman début...</td>\n",
       "      <td>super film ouf faire knuckles côté eggman débu...</td>\n",
       "    </tr>\n",
       "  </tbody>\n",
       "</table>\n",
       "</div>"
      ],
      "text/plain": [
       "   index Note                                        Commentaire  key  \\\n",
       "0      0  4,0  une bonne suite pour les aventures de sonic au...    0   \n",
       "1      1  5,0  cette suite de sonic est incroyable  le fan qu...    1   \n",
       "2      2  3,0  malgré deux nouveaux personnages de l univers ...    2   \n",
       "3      3  4,0  très bon film ont retrouve ce qui fait l espri...    3   \n",
       "4      4  4,0  super film de ouf  le fait que knuckles soit d...    4   \n",
       "\n",
       "                                 Commentaire_sans_SW  \\\n",
       "0  bonne suite aventures sonic cinéma deja premie...   \n",
       "1  cette suite sonic incroyable fan ravi quand jo...   \n",
       "2  malgré deux nouveaux personnages univers jeu v...   \n",
       "3  très bon film retrouve fait esprit sonic film ...   \n",
       "4  super film ouf fait knuckles côté eggman début...   \n",
       "\n",
       "                                          lemmatizer  \n",
       "0  bon suite aventure sonic cinéma deja premier f...  \n",
       "1  ce suite sonic incroyable fan ravir quand joue...  \n",
       "2  malgré deux nouveau personnage univer jeu vidé...  \n",
       "3  très bon film retrouve faire esprit sonic film...  \n",
       "4  super film ouf faire knuckles côté eggman débu...  "
      ]
     },
     "execution_count": 21,
     "metadata": {},
     "output_type": "execute_result"
    }
   ],
   "source": [
    "df_films['lemmatizer'] = df_films[\"lemmatizer\"].apply(lambda x: ' '.join(str(y) for y in x))\n",
    "df_films.head()"
   ]
  },
  {
   "cell_type": "markdown",
   "id": "1c19ac9c",
   "metadata": {},
   "source": [
    "#### Remplacement des accents"
   ]
  },
  {
   "cell_type": "code",
   "execution_count": 22,
   "id": "de79f1f7",
   "metadata": {},
   "outputs": [],
   "source": [
    "df_films['lemmatizer'] = df_films['lemmatizer'].str.normalize('NFKD').str.encode('ascii', errors='ignore').str.decode('utf-8')"
   ]
  },
  {
   "cell_type": "code",
   "execution_count": 23,
   "id": "cf6313fa",
   "metadata": {
    "scrolled": true
   },
   "outputs": [
    {
     "data": {
      "text/html": [
       "<div>\n",
       "<style scoped>\n",
       "    .dataframe tbody tr th:only-of-type {\n",
       "        vertical-align: middle;\n",
       "    }\n",
       "\n",
       "    .dataframe tbody tr th {\n",
       "        vertical-align: top;\n",
       "    }\n",
       "\n",
       "    .dataframe thead th {\n",
       "        text-align: right;\n",
       "    }\n",
       "</style>\n",
       "<table border=\"1\" class=\"dataframe\">\n",
       "  <thead>\n",
       "    <tr style=\"text-align: right;\">\n",
       "      <th></th>\n",
       "      <th>index</th>\n",
       "      <th>Note</th>\n",
       "      <th>Commentaire</th>\n",
       "      <th>key</th>\n",
       "      <th>Commentaire_sans_SW</th>\n",
       "      <th>lemmatizer</th>\n",
       "    </tr>\n",
       "  </thead>\n",
       "  <tbody>\n",
       "    <tr>\n",
       "      <th>0</th>\n",
       "      <td>0</td>\n",
       "      <td>4,0</td>\n",
       "      <td>une bonne suite pour les aventures de sonic au...</td>\n",
       "      <td>0</td>\n",
       "      <td>bonne suite aventures sonic cinéma deja premie...</td>\n",
       "      <td>bon suite aventure sonic cinema deja premier f...</td>\n",
       "    </tr>\n",
       "    <tr>\n",
       "      <th>1</th>\n",
       "      <td>1</td>\n",
       "      <td>5,0</td>\n",
       "      <td>cette suite de sonic est incroyable  le fan qu...</td>\n",
       "      <td>1</td>\n",
       "      <td>cette suite sonic incroyable fan ravi quand jo...</td>\n",
       "      <td>ce suite sonic incroyable fan ravir quand joue...</td>\n",
       "    </tr>\n",
       "    <tr>\n",
       "      <th>2</th>\n",
       "      <td>2</td>\n",
       "      <td>3,0</td>\n",
       "      <td>malgré deux nouveaux personnages de l univers ...</td>\n",
       "      <td>2</td>\n",
       "      <td>malgré deux nouveaux personnages univers jeu v...</td>\n",
       "      <td>malgre deux nouveau personnage univer jeu vide...</td>\n",
       "    </tr>\n",
       "    <tr>\n",
       "      <th>3</th>\n",
       "      <td>3</td>\n",
       "      <td>4,0</td>\n",
       "      <td>très bon film ont retrouve ce qui fait l espri...</td>\n",
       "      <td>3</td>\n",
       "      <td>très bon film retrouve fait esprit sonic film ...</td>\n",
       "      <td>tres bon film retrouve faire esprit sonic film...</td>\n",
       "    </tr>\n",
       "    <tr>\n",
       "      <th>4</th>\n",
       "      <td>4</td>\n",
       "      <td>4,0</td>\n",
       "      <td>super film de ouf  le fait que knuckles soit d...</td>\n",
       "      <td>4</td>\n",
       "      <td>super film ouf fait knuckles côté eggman début...</td>\n",
       "      <td>super film ouf faire knuckles cote eggman debu...</td>\n",
       "    </tr>\n",
       "    <tr>\n",
       "      <th>...</th>\n",
       "      <td>...</td>\n",
       "      <td>...</td>\n",
       "      <td>...</td>\n",
       "      <td>...</td>\n",
       "      <td>...</td>\n",
       "      <td>...</td>\n",
       "    </tr>\n",
       "    <tr>\n",
       "      <th>2716</th>\n",
       "      <td>1495</td>\n",
       "      <td>2,5</td>\n",
       "      <td>agréablement surpris  des effets spéciaux impr...</td>\n",
       "      <td>10</td>\n",
       "      <td>agréablement surpris effets spéciaux impressio...</td>\n",
       "      <td>agreablement surprendre effet special impressi...</td>\n",
       "    </tr>\n",
       "    <tr>\n",
       "      <th>2717</th>\n",
       "      <td>1496</td>\n",
       "      <td>4,0</td>\n",
       "      <td>e nor me     le jeu de tous les acteurs est tr...</td>\n",
       "      <td>11</td>\n",
       "      <td>e nor jeu tous acteurs très bien mario cotilla...</td>\n",
       "      <td>e nor jeu tout acteur tres bien mario cotillar...</td>\n",
       "    </tr>\n",
       "    <tr>\n",
       "      <th>2718</th>\n",
       "      <td>1497</td>\n",
       "      <td>5,0</td>\n",
       "      <td>qu elle film  je conseil a tous ce chef d oeuv...</td>\n",
       "      <td>12</td>\n",
       "      <td>film conseil a tous chef oeuvre fera passer h ...</td>\n",
       "      <td>film conseil avoir tout chef oeuvre faire pass...</td>\n",
       "    </tr>\n",
       "    <tr>\n",
       "      <th>2719</th>\n",
       "      <td>1498</td>\n",
       "      <td>5,0</td>\n",
       "      <td>bon  dicaprio commence vraiment à me gonfler  ...</td>\n",
       "      <td>13</td>\n",
       "      <td>bon dicaprio commence vraiment gonfler fais pa...</td>\n",
       "      <td>bon dicaprio commencer vraiment gonfler fai pa...</td>\n",
       "    </tr>\n",
       "    <tr>\n",
       "      <th>2720</th>\n",
       "      <td>1499</td>\n",
       "      <td>5,0</td>\n",
       "      <td>après avoir vu ce film  je n ai qu une conclus...</td>\n",
       "      <td>14</td>\n",
       "      <td>après avoir vu film conclusion christopher nol...</td>\n",
       "      <td>apres avoir voir film conclusion christopher n...</td>\n",
       "    </tr>\n",
       "  </tbody>\n",
       "</table>\n",
       "<p>2721 rows × 6 columns</p>\n",
       "</div>"
      ],
      "text/plain": [
       "      index Note                                        Commentaire  key  \\\n",
       "0         0  4,0  une bonne suite pour les aventures de sonic au...    0   \n",
       "1         1  5,0  cette suite de sonic est incroyable  le fan qu...    1   \n",
       "2         2  3,0  malgré deux nouveaux personnages de l univers ...    2   \n",
       "3         3  4,0  très bon film ont retrouve ce qui fait l espri...    3   \n",
       "4         4  4,0  super film de ouf  le fait que knuckles soit d...    4   \n",
       "...     ...  ...                                                ...  ...   \n",
       "2716   1495  2,5  agréablement surpris  des effets spéciaux impr...   10   \n",
       "2717   1496  4,0  e nor me     le jeu de tous les acteurs est tr...   11   \n",
       "2718   1497  5,0  qu elle film  je conseil a tous ce chef d oeuv...   12   \n",
       "2719   1498  5,0  bon  dicaprio commence vraiment à me gonfler  ...   13   \n",
       "2720   1499  5,0  après avoir vu ce film  je n ai qu une conclus...   14   \n",
       "\n",
       "                                    Commentaire_sans_SW  \\\n",
       "0     bonne suite aventures sonic cinéma deja premie...   \n",
       "1     cette suite sonic incroyable fan ravi quand jo...   \n",
       "2     malgré deux nouveaux personnages univers jeu v...   \n",
       "3     très bon film retrouve fait esprit sonic film ...   \n",
       "4     super film ouf fait knuckles côté eggman début...   \n",
       "...                                                 ...   \n",
       "2716  agréablement surpris effets spéciaux impressio...   \n",
       "2717  e nor jeu tous acteurs très bien mario cotilla...   \n",
       "2718  film conseil a tous chef oeuvre fera passer h ...   \n",
       "2719  bon dicaprio commence vraiment gonfler fais pa...   \n",
       "2720  après avoir vu film conclusion christopher nol...   \n",
       "\n",
       "                                             lemmatizer  \n",
       "0     bon suite aventure sonic cinema deja premier f...  \n",
       "1     ce suite sonic incroyable fan ravir quand joue...  \n",
       "2     malgre deux nouveau personnage univer jeu vide...  \n",
       "3     tres bon film retrouve faire esprit sonic film...  \n",
       "4     super film ouf faire knuckles cote eggman debu...  \n",
       "...                                                 ...  \n",
       "2716  agreablement surprendre effet special impressi...  \n",
       "2717  e nor jeu tout acteur tres bien mario cotillar...  \n",
       "2718  film conseil avoir tout chef oeuvre faire pass...  \n",
       "2719  bon dicaprio commencer vraiment gonfler fai pa...  \n",
       "2720  apres avoir voir film conclusion christopher n...  \n",
       "\n",
       "[2721 rows x 6 columns]"
      ]
     },
     "execution_count": 23,
     "metadata": {},
     "output_type": "execute_result"
    }
   ],
   "source": [
    "df_films"
   ]
  },
  {
   "cell_type": "markdown",
   "id": "29391c70",
   "metadata": {},
   "source": [
    "#### Stemmatiser"
   ]
  },
  {
   "cell_type": "code",
   "execution_count": 246,
   "id": "397af10f",
   "metadata": {},
   "outputs": [],
   "source": [
    "#Méthode non utilisé pour éviter de perdre le sens des mots\n",
    "#stemmer = SnowballStemmer(\"french\")\n",
    "#df_films['stemmed'] = df_films['Commentaire_sans_SW'].str.split().apply(lambda x: [stemmer.stem(y) for y in x]) # Stem every word.\n",
    "#df_films.head()"
   ]
  },
  {
   "cell_type": "markdown",
   "id": "20645298",
   "metadata": {},
   "source": [
    "#### Définition des features et de la target"
   ]
  },
  {
   "cell_type": "code",
   "execution_count": 24,
   "id": "e641dc7a",
   "metadata": {},
   "outputs": [
    {
     "data": {
      "text/plain": [
       "dtype('float64')"
      ]
     },
     "execution_count": 24,
     "metadata": {},
     "output_type": "execute_result"
    }
   ],
   "source": [
    "X = df_films['lemmatizer']\n",
    "y = df_films['Note'].replace(',', '.', regex=True).astype('float')\n",
    "\n",
    "y.dtype"
   ]
  },
  {
   "cell_type": "code",
   "execution_count": 25,
   "id": "9603fea7",
   "metadata": {},
   "outputs": [
    {
     "data": {
      "text/plain": [
       "1.0    2409\n",
       "0.0     312\n",
       "Name: Note, dtype: int64"
      ]
     },
     "execution_count": 25,
     "metadata": {},
     "output_type": "execute_result"
    }
   ],
   "source": [
    "y = y.mask(y<3.0, 0)\n",
    "y = y.mask(y>=3.0, 1)\n",
    "\n",
    "y.value_counts()"
   ]
  },
  {
   "cell_type": "markdown",
   "id": "4c8ead4a",
   "metadata": {},
   "source": [
    "#### Fractionnement du jeu de données en train et test"
   ]
  },
  {
   "cell_type": "code",
   "execution_count": 26,
   "id": "6e835ba0",
   "metadata": {},
   "outputs": [
    {
     "data": {
      "text/plain": [
       "1.0    483\n",
       "0.0     62\n",
       "Name: Note, dtype: int64"
      ]
     },
     "execution_count": 26,
     "metadata": {},
     "output_type": "execute_result"
    }
   ],
   "source": [
    "X_train, X_test, y_train, y_test = train_test_split(X, y, test_size=0.2, random_state=0, stratify=y)\n",
    "y_train.value_counts()\n",
    "y_test.value_counts()"
   ]
  },
  {
   "cell_type": "code",
   "execution_count": 27,
   "id": "41af32ed",
   "metadata": {
    "scrolled": true
   },
   "outputs": [
    {
     "data": {
      "text/plain": [
       "(2176,)"
      ]
     },
     "execution_count": 27,
     "metadata": {},
     "output_type": "execute_result"
    }
   ],
   "source": [
    "y_train.shape"
   ]
  },
  {
   "cell_type": "code",
   "execution_count": 28,
   "id": "3fb41033",
   "metadata": {},
   "outputs": [
    {
     "data": {
      "text/plain": [
       "(545,)"
      ]
     },
     "execution_count": 28,
     "metadata": {},
     "output_type": "execute_result"
    }
   ],
   "source": [
    "y_test.shape"
   ]
  },
  {
   "cell_type": "markdown",
   "id": "44066fa8",
   "metadata": {},
   "source": [
    "### Word Cloud"
   ]
  },
  {
   "cell_type": "code",
   "execution_count": 29,
   "id": "1bd06c44",
   "metadata": {},
   "outputs": [
    {
     "data": {
      "text/html": [
       "<div>\n",
       "<style scoped>\n",
       "    .dataframe tbody tr th:only-of-type {\n",
       "        vertical-align: middle;\n",
       "    }\n",
       "\n",
       "    .dataframe tbody tr th {\n",
       "        vertical-align: top;\n",
       "    }\n",
       "\n",
       "    .dataframe thead th {\n",
       "        text-align: right;\n",
       "    }\n",
       "</style>\n",
       "<table border=\"1\" class=\"dataframe\">\n",
       "  <thead>\n",
       "    <tr style=\"text-align: right;\">\n",
       "      <th></th>\n",
       "      <th>lemmatizer</th>\n",
       "      <th>Note</th>\n",
       "    </tr>\n",
       "  </thead>\n",
       "  <tbody>\n",
       "    <tr>\n",
       "      <th>0</th>\n",
       "      <td>bon suite aventure sonic cinema deja premier f...</td>\n",
       "      <td>1.0</td>\n",
       "    </tr>\n",
       "    <tr>\n",
       "      <th>1</th>\n",
       "      <td>ce suite sonic incroyable fan ravir quand joue...</td>\n",
       "      <td>1.0</td>\n",
       "    </tr>\n",
       "    <tr>\n",
       "      <th>2</th>\n",
       "      <td>malgre deux nouveau personnage univer jeu vide...</td>\n",
       "      <td>1.0</td>\n",
       "    </tr>\n",
       "    <tr>\n",
       "      <th>3</th>\n",
       "      <td>tres bon film retrouve faire esprit sonic film...</td>\n",
       "      <td>1.0</td>\n",
       "    </tr>\n",
       "    <tr>\n",
       "      <th>4</th>\n",
       "      <td>super film ouf faire knuckles cote eggman debu...</td>\n",
       "      <td>1.0</td>\n",
       "    </tr>\n",
       "  </tbody>\n",
       "</table>\n",
       "</div>"
      ],
      "text/plain": [
       "                                          lemmatizer  Note\n",
       "0  bon suite aventure sonic cinema deja premier f...   1.0\n",
       "1  ce suite sonic incroyable fan ravir quand joue...   1.0\n",
       "2  malgre deux nouveau personnage univer jeu vide...   1.0\n",
       "3  tres bon film retrouve faire esprit sonic film...   1.0\n",
       "4  super film ouf faire knuckles cote eggman debu...   1.0"
      ]
     },
     "execution_count": 29,
     "metadata": {},
     "output_type": "execute_result"
    }
   ],
   "source": [
    "df_wc = pd.concat([X, y], axis = 1)\n",
    "df_wc.head()"
   ]
  },
  {
   "cell_type": "markdown",
   "id": "a5aef59a",
   "metadata": {},
   "source": [
    "#### Avis positifs"
   ]
  },
  {
   "cell_type": "code",
   "execution_count": 30,
   "id": "8d02b85f",
   "metadata": {},
   "outputs": [
    {
     "data": {
      "text/plain": [
       "0       bon suite aventure sonic cinema deja premier f...\n",
       "1       ce suite sonic incroyable fan ravir quand joue...\n",
       "2       malgre deux nouveau personnage univer jeu vide...\n",
       "3       tres bon film retrouve faire esprit sonic film...\n",
       "4       super film ouf faire knuckles cote eggman debu...\n",
       "                              ...                        \n",
       "2715    film reflexion originalite inegalable si film ...\n",
       "2717    e nor jeu tout acteur tres bien mario cotillar...\n",
       "2718    film conseil avoir tout chef oeuvre faire pass...\n",
       "2719    bon dicaprio commencer vraiment gonfler fai pa...\n",
       "2720    apres avoir voir film conclusion christopher n...\n",
       "Name: lemmatizer, Length: 2409, dtype: object"
      ]
     },
     "execution_count": 30,
     "metadata": {},
     "output_type": "execute_result"
    }
   ],
   "source": [
    "#Récupération des avis positifs\n",
    "avis_positif = df_wc[\"lemmatizer\"][df_wc[\"Note\"] == 1.0]\n",
    "\n",
    "avis_positif"
   ]
  },
  {
   "cell_type": "code",
   "execution_count": 31,
   "id": "86ba2773",
   "metadata": {
    "scrolled": true
   },
   "outputs": [
    {
     "data": {
      "image/png": "[encoded data removed]",
      "text/plain": [
       "<Figure size 432x288 with 1 Axes>"
      ]
     },
     "metadata": {
      "needs_background": "light"
     },
     "output_type": "display_data"
    }
   ],
   "source": [
    "from PIL import Image\n",
    "import numpy as np\n",
    "\n",
    "mask_pos = np.array(Image.open(\"thumb_up.png\"))\n",
    "mask_pos[mask_pos == 1] = 255\n",
    "\n",
    "WC_pos = WordCloud(background_color=\"white\", mask = mask_pos).generate(str(avis_positif))\n",
    "plt.imshow(WC_pos)\n",
    "plt.axis('off')\n",
    "plt.show()"
   ]
  },
  {
   "cell_type": "markdown",
   "id": "a95f75b3",
   "metadata": {},
   "source": [
    "#### Avis négatifs"
   ]
  },
  {
   "cell_type": "code",
   "execution_count": 32,
   "id": "a0d595be",
   "metadata": {},
   "outputs": [
    {
     "data": {
      "image/png": "[encoded data removed]",
      "text/plain": [
       "<Figure size 432x288 with 1 Axes>"
      ]
     },
     "metadata": {
      "needs_background": "light"
     },
     "output_type": "display_data"
    }
   ],
   "source": [
    "mask_neg = np.array(Image.open(\"thumb_down.png\"))\n",
    "mask_neg[mask_neg == 1] = 255\n",
    "\n",
    "WC_neg = WordCloud(background_color=\"white\", mask = mask_neg).generate(str(df_wc[\"lemmatizer\"][df_wc[\"Note\"]==0.0]))\n",
    "plt.imshow(WC_neg)\n",
    "plt.axis('off')\n",
    "plt.show()"
   ]
  },
  {
   "cell_type": "markdown",
   "id": "fc5a29ac",
   "metadata": {},
   "source": [
    "#### Count Vectorizer"
   ]
  },
  {
   "cell_type": "code",
   "execution_count": 63,
   "id": "04ca7937",
   "metadata": {},
   "outputs": [
    {
     "data": {
      "text/plain": [
       "(2102, 91)"
      ]
     },
     "execution_count": 63,
     "metadata": {},
     "output_type": "execute_result"
    }
   ],
   "source": [
    "cv = CountVectorizer(lowercase=False, min_df=0.1)\n",
    "cv = cv.fit(X_train)\n",
    "cv_matrix = cv.transform(X_train)\n",
    "cv_matrix.shape"
   ]
  },
  {
   "cell_type": "code",
   "execution_count": 64,
   "id": "0a22fbcb",
   "metadata": {},
   "outputs": [
    {
     "data": {
      "text/html": [
       "<div>\n",
       "<style scoped>\n",
       "    .dataframe tbody tr th:only-of-type {\n",
       "        vertical-align: middle;\n",
       "    }\n",
       "\n",
       "    .dataframe tbody tr th {\n",
       "        vertical-align: top;\n",
       "    }\n",
       "\n",
       "    .dataframe thead th {\n",
       "        text-align: right;\n",
       "    }\n",
       "</style>\n",
       "<table border=\"1\" class=\"dataframe\">\n",
       "  <thead>\n",
       "    <tr style=\"text-align: right;\">\n",
       "      <th></th>\n",
       "      <th>acteur</th>\n",
       "      <th>action</th>\n",
       "      <th>adorer</th>\n",
       "      <th>aller</th>\n",
       "      <th>apprecier</th>\n",
       "      <th>apres</th>\n",
       "      <th>attendre</th>\n",
       "      <th>aussi</th>\n",
       "      <th>autre</th>\n",
       "      <th>avoir</th>\n",
       "      <th>...</th>\n",
       "      <th>superbe</th>\n",
       "      <th>tail</th>\n",
       "      <th>tant</th>\n",
       "      <th>toujours</th>\n",
       "      <th>tout</th>\n",
       "      <th>tres</th>\n",
       "      <th>trop</th>\n",
       "      <th>voir</th>\n",
       "      <th>vouloir</th>\n",
       "      <th>vraiment</th>\n",
       "    </tr>\n",
       "  </thead>\n",
       "  <tbody>\n",
       "    <tr>\n",
       "      <th>2383</th>\n",
       "      <td>0</td>\n",
       "      <td>0</td>\n",
       "      <td>0</td>\n",
       "      <td>0</td>\n",
       "      <td>0</td>\n",
       "      <td>0</td>\n",
       "      <td>0</td>\n",
       "      <td>0</td>\n",
       "      <td>0</td>\n",
       "      <td>0</td>\n",
       "      <td>...</td>\n",
       "      <td>0</td>\n",
       "      <td>0</td>\n",
       "      <td>0</td>\n",
       "      <td>1</td>\n",
       "      <td>1</td>\n",
       "      <td>0</td>\n",
       "      <td>0</td>\n",
       "      <td>0</td>\n",
       "      <td>0</td>\n",
       "      <td>0</td>\n",
       "    </tr>\n",
       "    <tr>\n",
       "      <th>2024</th>\n",
       "      <td>0</td>\n",
       "      <td>1</td>\n",
       "      <td>0</td>\n",
       "      <td>0</td>\n",
       "      <td>0</td>\n",
       "      <td>0</td>\n",
       "      <td>0</td>\n",
       "      <td>0</td>\n",
       "      <td>0</td>\n",
       "      <td>0</td>\n",
       "      <td>...</td>\n",
       "      <td>0</td>\n",
       "      <td>0</td>\n",
       "      <td>0</td>\n",
       "      <td>0</td>\n",
       "      <td>0</td>\n",
       "      <td>0</td>\n",
       "      <td>0</td>\n",
       "      <td>0</td>\n",
       "      <td>0</td>\n",
       "      <td>0</td>\n",
       "    </tr>\n",
       "    <tr>\n",
       "      <th>2373</th>\n",
       "      <td>0</td>\n",
       "      <td>0</td>\n",
       "      <td>0</td>\n",
       "      <td>0</td>\n",
       "      <td>0</td>\n",
       "      <td>0</td>\n",
       "      <td>0</td>\n",
       "      <td>0</td>\n",
       "      <td>0</td>\n",
       "      <td>1</td>\n",
       "      <td>...</td>\n",
       "      <td>0</td>\n",
       "      <td>0</td>\n",
       "      <td>0</td>\n",
       "      <td>0</td>\n",
       "      <td>0</td>\n",
       "      <td>0</td>\n",
       "      <td>0</td>\n",
       "      <td>1</td>\n",
       "      <td>0</td>\n",
       "      <td>0</td>\n",
       "    </tr>\n",
       "    <tr>\n",
       "      <th>805</th>\n",
       "      <td>0</td>\n",
       "      <td>0</td>\n",
       "      <td>0</td>\n",
       "      <td>1</td>\n",
       "      <td>1</td>\n",
       "      <td>0</td>\n",
       "      <td>0</td>\n",
       "      <td>0</td>\n",
       "      <td>1</td>\n",
       "      <td>1</td>\n",
       "      <td>...</td>\n",
       "      <td>0</td>\n",
       "      <td>0</td>\n",
       "      <td>0</td>\n",
       "      <td>0</td>\n",
       "      <td>1</td>\n",
       "      <td>2</td>\n",
       "      <td>0</td>\n",
       "      <td>0</td>\n",
       "      <td>0</td>\n",
       "      <td>1</td>\n",
       "    </tr>\n",
       "    <tr>\n",
       "      <th>975</th>\n",
       "      <td>0</td>\n",
       "      <td>0</td>\n",
       "      <td>0</td>\n",
       "      <td>0</td>\n",
       "      <td>0</td>\n",
       "      <td>0</td>\n",
       "      <td>0</td>\n",
       "      <td>0</td>\n",
       "      <td>0</td>\n",
       "      <td>0</td>\n",
       "      <td>...</td>\n",
       "      <td>0</td>\n",
       "      <td>0</td>\n",
       "      <td>0</td>\n",
       "      <td>0</td>\n",
       "      <td>0</td>\n",
       "      <td>0</td>\n",
       "      <td>0</td>\n",
       "      <td>0</td>\n",
       "      <td>0</td>\n",
       "      <td>0</td>\n",
       "    </tr>\n",
       "    <tr>\n",
       "      <th>...</th>\n",
       "      <td>...</td>\n",
       "      <td>...</td>\n",
       "      <td>...</td>\n",
       "      <td>...</td>\n",
       "      <td>...</td>\n",
       "      <td>...</td>\n",
       "      <td>...</td>\n",
       "      <td>...</td>\n",
       "      <td>...</td>\n",
       "      <td>...</td>\n",
       "      <td>...</td>\n",
       "      <td>...</td>\n",
       "      <td>...</td>\n",
       "      <td>...</td>\n",
       "      <td>...</td>\n",
       "      <td>...</td>\n",
       "      <td>...</td>\n",
       "      <td>...</td>\n",
       "      <td>...</td>\n",
       "      <td>...</td>\n",
       "      <td>...</td>\n",
       "    </tr>\n",
       "    <tr>\n",
       "      <th>163</th>\n",
       "      <td>0</td>\n",
       "      <td>0</td>\n",
       "      <td>0</td>\n",
       "      <td>0</td>\n",
       "      <td>1</td>\n",
       "      <td>0</td>\n",
       "      <td>0</td>\n",
       "      <td>1</td>\n",
       "      <td>1</td>\n",
       "      <td>0</td>\n",
       "      <td>...</td>\n",
       "      <td>0</td>\n",
       "      <td>1</td>\n",
       "      <td>1</td>\n",
       "      <td>0</td>\n",
       "      <td>2</td>\n",
       "      <td>0</td>\n",
       "      <td>0</td>\n",
       "      <td>0</td>\n",
       "      <td>0</td>\n",
       "      <td>0</td>\n",
       "    </tr>\n",
       "    <tr>\n",
       "      <th>1095</th>\n",
       "      <td>0</td>\n",
       "      <td>0</td>\n",
       "      <td>0</td>\n",
       "      <td>0</td>\n",
       "      <td>0</td>\n",
       "      <td>0</td>\n",
       "      <td>1</td>\n",
       "      <td>0</td>\n",
       "      <td>0</td>\n",
       "      <td>0</td>\n",
       "      <td>...</td>\n",
       "      <td>0</td>\n",
       "      <td>0</td>\n",
       "      <td>0</td>\n",
       "      <td>0</td>\n",
       "      <td>0</td>\n",
       "      <td>0</td>\n",
       "      <td>1</td>\n",
       "      <td>1</td>\n",
       "      <td>0</td>\n",
       "      <td>0</td>\n",
       "    </tr>\n",
       "    <tr>\n",
       "      <th>1964</th>\n",
       "      <td>0</td>\n",
       "      <td>2</td>\n",
       "      <td>0</td>\n",
       "      <td>0</td>\n",
       "      <td>0</td>\n",
       "      <td>0</td>\n",
       "      <td>0</td>\n",
       "      <td>1</td>\n",
       "      <td>0</td>\n",
       "      <td>4</td>\n",
       "      <td>...</td>\n",
       "      <td>0</td>\n",
       "      <td>0</td>\n",
       "      <td>0</td>\n",
       "      <td>0</td>\n",
       "      <td>2</td>\n",
       "      <td>1</td>\n",
       "      <td>0</td>\n",
       "      <td>0</td>\n",
       "      <td>0</td>\n",
       "      <td>0</td>\n",
       "    </tr>\n",
       "    <tr>\n",
       "      <th>625</th>\n",
       "      <td>0</td>\n",
       "      <td>0</td>\n",
       "      <td>0</td>\n",
       "      <td>0</td>\n",
       "      <td>1</td>\n",
       "      <td>0</td>\n",
       "      <td>0</td>\n",
       "      <td>1</td>\n",
       "      <td>1</td>\n",
       "      <td>0</td>\n",
       "      <td>...</td>\n",
       "      <td>0</td>\n",
       "      <td>1</td>\n",
       "      <td>1</td>\n",
       "      <td>0</td>\n",
       "      <td>2</td>\n",
       "      <td>0</td>\n",
       "      <td>0</td>\n",
       "      <td>0</td>\n",
       "      <td>0</td>\n",
       "      <td>0</td>\n",
       "    </tr>\n",
       "    <tr>\n",
       "      <th>874</th>\n",
       "      <td>0</td>\n",
       "      <td>0</td>\n",
       "      <td>0</td>\n",
       "      <td>1</td>\n",
       "      <td>0</td>\n",
       "      <td>0</td>\n",
       "      <td>0</td>\n",
       "      <td>0</td>\n",
       "      <td>0</td>\n",
       "      <td>3</td>\n",
       "      <td>...</td>\n",
       "      <td>0</td>\n",
       "      <td>1</td>\n",
       "      <td>0</td>\n",
       "      <td>0</td>\n",
       "      <td>0</td>\n",
       "      <td>2</td>\n",
       "      <td>1</td>\n",
       "      <td>1</td>\n",
       "      <td>1</td>\n",
       "      <td>0</td>\n",
       "    </tr>\n",
       "  </tbody>\n",
       "</table>\n",
       "<p>2102 rows × 91 columns</p>\n",
       "</div>"
      ],
      "text/plain": [
       "      acteur  action  adorer  aller  apprecier  apres  attendre  aussi  autre  \\\n",
       "2383       0       0       0      0          0      0         0      0      0   \n",
       "2024       0       1       0      0          0      0         0      0      0   \n",
       "2373       0       0       0      0          0      0         0      0      0   \n",
       "805        0       0       0      1          1      0         0      0      1   \n",
       "975        0       0       0      0          0      0         0      0      0   \n",
       "...      ...     ...     ...    ...        ...    ...       ...    ...    ...   \n",
       "163        0       0       0      0          1      0         0      1      1   \n",
       "1095       0       0       0      0          0      0         1      0      0   \n",
       "1964       0       2       0      0          0      0         0      1      0   \n",
       "625        0       0       0      0          1      0         0      1      1   \n",
       "874        0       0       0      1          0      0         0      0      0   \n",
       "\n",
       "      avoir  ...  superbe  tail  tant  toujours  tout  tres  trop  voir  \\\n",
       "2383      0  ...        0     0     0         1     1     0     0     0   \n",
       "2024      0  ...        0     0     0         0     0     0     0     0   \n",
       "2373      1  ...        0     0     0         0     0     0     0     1   \n",
       "805       1  ...        0     0     0         0     1     2     0     0   \n",
       "975       0  ...        0     0     0         0     0     0     0     0   \n",
       "...     ...  ...      ...   ...   ...       ...   ...   ...   ...   ...   \n",
       "163       0  ...        0     1     1         0     2     0     0     0   \n",
       "1095      0  ...        0     0     0         0     0     0     1     1   \n",
       "1964      4  ...        0     0     0         0     2     1     0     0   \n",
       "625       0  ...        0     1     1         0     2     0     0     0   \n",
       "874       3  ...        0     1     0         0     0     2     1     1   \n",
       "\n",
       "      vouloir  vraiment  \n",
       "2383        0         0  \n",
       "2024        0         0  \n",
       "2373        0         0  \n",
       "805         0         1  \n",
       "975         0         0  \n",
       "...       ...       ...  \n",
       "163         0         0  \n",
       "1095        0         0  \n",
       "1964        0         0  \n",
       "625         0         0  \n",
       "874         1         0  \n",
       "\n",
       "[2102 rows x 91 columns]"
      ]
     },
     "execution_count": 64,
     "metadata": {},
     "output_type": "execute_result"
    }
   ],
   "source": [
    "#Create bag of words\n",
    "X_train_bow = pd.DataFrame(cv_matrix.toarray(), index = X_train.index.values, columns = cv.get_feature_names_out())\n",
    "X_train_bow"
   ]
  },
  {
   "cell_type": "markdown",
   "id": "fb6c0873",
   "metadata": {},
   "source": [
    "#### A faire\n",
    "- Word Cloud des avis positifs & négatifs\n",
    "- Régression logistique  \n",
    "- Count Vectorize sur le X_test"
   ]
  },
  {
   "cell_type": "markdown",
   "id": "6bb41da5",
   "metadata": {},
   "source": [
    "#### Modèle de régression logistique"
   ]
  },
  {
   "cell_type": "code",
   "execution_count": 69,
   "id": "23c19498",
   "metadata": {},
   "outputs": [
    {
     "data": {
      "text/plain": [
       "LogisticRegression(random_state=0, solver='liblinear')"
      ]
     },
     "execution_count": 69,
     "metadata": {},
     "output_type": "execute_result"
    }
   ],
   "source": [
    "model_LR = LogisticRegression(solver=\"liblinear\", random_state=0)\n",
    "\n",
    "#Entrainement du modèle\n",
    "model_LR.fit(X_train_bow, y_train)"
   ]
  },
  {
   "cell_type": "markdown",
   "id": "027e18ef",
   "metadata": {},
   "source": [
    "#### Conversion du X_test en matrice"
   ]
  },
  {
   "cell_type": "code",
   "execution_count": 65,
   "id": "4880449a",
   "metadata": {},
   "outputs": [
    {
     "data": {
      "text/plain": [
       "(526, 91)"
      ]
     },
     "execution_count": 65,
     "metadata": {},
     "output_type": "execute_result"
    }
   ],
   "source": [
    "#cv2 = CountVectorizer(lowercase=False, min_df=0.1)\n",
    "\n",
    "cv_X_test = cv.transform(X_test)\n",
    "cv_X_test.shape"
   ]
  },
  {
   "cell_type": "code",
   "execution_count": 67,
   "id": "2691153f",
   "metadata": {},
   "outputs": [
    {
     "data": {
      "text/html": [
       "<div>\n",
       "<style scoped>\n",
       "    .dataframe tbody tr th:only-of-type {\n",
       "        vertical-align: middle;\n",
       "    }\n",
       "\n",
       "    .dataframe tbody tr th {\n",
       "        vertical-align: top;\n",
       "    }\n",
       "\n",
       "    .dataframe thead th {\n",
       "        text-align: right;\n",
       "    }\n",
       "</style>\n",
       "<table border=\"1\" class=\"dataframe\">\n",
       "  <thead>\n",
       "    <tr style=\"text-align: right;\">\n",
       "      <th></th>\n",
       "      <th>acteur</th>\n",
       "      <th>action</th>\n",
       "      <th>adorer</th>\n",
       "      <th>aller</th>\n",
       "      <th>apprecier</th>\n",
       "      <th>apres</th>\n",
       "      <th>attendre</th>\n",
       "      <th>aussi</th>\n",
       "      <th>autre</th>\n",
       "      <th>avoir</th>\n",
       "      <th>...</th>\n",
       "      <th>superbe</th>\n",
       "      <th>tail</th>\n",
       "      <th>tant</th>\n",
       "      <th>toujours</th>\n",
       "      <th>tout</th>\n",
       "      <th>tres</th>\n",
       "      <th>trop</th>\n",
       "      <th>voir</th>\n",
       "      <th>vouloir</th>\n",
       "      <th>vraiment</th>\n",
       "    </tr>\n",
       "  </thead>\n",
       "  <tbody>\n",
       "    <tr>\n",
       "      <th>1042</th>\n",
       "      <td>0</td>\n",
       "      <td>1</td>\n",
       "      <td>0</td>\n",
       "      <td>0</td>\n",
       "      <td>3</td>\n",
       "      <td>3</td>\n",
       "      <td>0</td>\n",
       "      <td>2</td>\n",
       "      <td>0</td>\n",
       "      <td>11</td>\n",
       "      <td>...</td>\n",
       "      <td>0</td>\n",
       "      <td>1</td>\n",
       "      <td>0</td>\n",
       "      <td>0</td>\n",
       "      <td>3</td>\n",
       "      <td>7</td>\n",
       "      <td>1</td>\n",
       "      <td>3</td>\n",
       "      <td>2</td>\n",
       "      <td>1</td>\n",
       "    </tr>\n",
       "    <tr>\n",
       "      <th>825</th>\n",
       "      <td>0</td>\n",
       "      <td>0</td>\n",
       "      <td>1</td>\n",
       "      <td>0</td>\n",
       "      <td>0</td>\n",
       "      <td>0</td>\n",
       "      <td>1</td>\n",
       "      <td>0</td>\n",
       "      <td>0</td>\n",
       "      <td>0</td>\n",
       "      <td>...</td>\n",
       "      <td>1</td>\n",
       "      <td>0</td>\n",
       "      <td>0</td>\n",
       "      <td>0</td>\n",
       "      <td>0</td>\n",
       "      <td>0</td>\n",
       "      <td>0</td>\n",
       "      <td>0</td>\n",
       "      <td>0</td>\n",
       "      <td>0</td>\n",
       "    </tr>\n",
       "    <tr>\n",
       "      <th>1920</th>\n",
       "      <td>1</td>\n",
       "      <td>0</td>\n",
       "      <td>0</td>\n",
       "      <td>0</td>\n",
       "      <td>0</td>\n",
       "      <td>0</td>\n",
       "      <td>0</td>\n",
       "      <td>0</td>\n",
       "      <td>0</td>\n",
       "      <td>1</td>\n",
       "      <td>...</td>\n",
       "      <td>0</td>\n",
       "      <td>0</td>\n",
       "      <td>0</td>\n",
       "      <td>0</td>\n",
       "      <td>0</td>\n",
       "      <td>1</td>\n",
       "      <td>0</td>\n",
       "      <td>1</td>\n",
       "      <td>0</td>\n",
       "      <td>0</td>\n",
       "    </tr>\n",
       "    <tr>\n",
       "      <th>1242</th>\n",
       "      <td>0</td>\n",
       "      <td>0</td>\n",
       "      <td>0</td>\n",
       "      <td>0</td>\n",
       "      <td>0</td>\n",
       "      <td>0</td>\n",
       "      <td>0</td>\n",
       "      <td>0</td>\n",
       "      <td>0</td>\n",
       "      <td>2</td>\n",
       "      <td>...</td>\n",
       "      <td>0</td>\n",
       "      <td>0</td>\n",
       "      <td>0</td>\n",
       "      <td>0</td>\n",
       "      <td>1</td>\n",
       "      <td>1</td>\n",
       "      <td>0</td>\n",
       "      <td>0</td>\n",
       "      <td>0</td>\n",
       "      <td>0</td>\n",
       "    </tr>\n",
       "    <tr>\n",
       "      <th>1695</th>\n",
       "      <td>0</td>\n",
       "      <td>1</td>\n",
       "      <td>0</td>\n",
       "      <td>0</td>\n",
       "      <td>0</td>\n",
       "      <td>0</td>\n",
       "      <td>0</td>\n",
       "      <td>0</td>\n",
       "      <td>0</td>\n",
       "      <td>3</td>\n",
       "      <td>...</td>\n",
       "      <td>0</td>\n",
       "      <td>0</td>\n",
       "      <td>0</td>\n",
       "      <td>1</td>\n",
       "      <td>2</td>\n",
       "      <td>0</td>\n",
       "      <td>1</td>\n",
       "      <td>1</td>\n",
       "      <td>0</td>\n",
       "      <td>0</td>\n",
       "    </tr>\n",
       "    <tr>\n",
       "      <th>...</th>\n",
       "      <td>...</td>\n",
       "      <td>...</td>\n",
       "      <td>...</td>\n",
       "      <td>...</td>\n",
       "      <td>...</td>\n",
       "      <td>...</td>\n",
       "      <td>...</td>\n",
       "      <td>...</td>\n",
       "      <td>...</td>\n",
       "      <td>...</td>\n",
       "      <td>...</td>\n",
       "      <td>...</td>\n",
       "      <td>...</td>\n",
       "      <td>...</td>\n",
       "      <td>...</td>\n",
       "      <td>...</td>\n",
       "      <td>...</td>\n",
       "      <td>...</td>\n",
       "      <td>...</td>\n",
       "      <td>...</td>\n",
       "      <td>...</td>\n",
       "    </tr>\n",
       "    <tr>\n",
       "      <th>1816</th>\n",
       "      <td>0</td>\n",
       "      <td>0</td>\n",
       "      <td>0</td>\n",
       "      <td>0</td>\n",
       "      <td>0</td>\n",
       "      <td>0</td>\n",
       "      <td>0</td>\n",
       "      <td>0</td>\n",
       "      <td>0</td>\n",
       "      <td>0</td>\n",
       "      <td>...</td>\n",
       "      <td>0</td>\n",
       "      <td>0</td>\n",
       "      <td>0</td>\n",
       "      <td>0</td>\n",
       "      <td>0</td>\n",
       "      <td>0</td>\n",
       "      <td>1</td>\n",
       "      <td>1</td>\n",
       "      <td>0</td>\n",
       "      <td>0</td>\n",
       "    </tr>\n",
       "    <tr>\n",
       "      <th>364</th>\n",
       "      <td>0</td>\n",
       "      <td>0</td>\n",
       "      <td>1</td>\n",
       "      <td>0</td>\n",
       "      <td>0</td>\n",
       "      <td>0</td>\n",
       "      <td>0</td>\n",
       "      <td>0</td>\n",
       "      <td>0</td>\n",
       "      <td>0</td>\n",
       "      <td>...</td>\n",
       "      <td>0</td>\n",
       "      <td>0</td>\n",
       "      <td>0</td>\n",
       "      <td>0</td>\n",
       "      <td>1</td>\n",
       "      <td>2</td>\n",
       "      <td>0</td>\n",
       "      <td>0</td>\n",
       "      <td>0</td>\n",
       "      <td>0</td>\n",
       "    </tr>\n",
       "    <tr>\n",
       "      <th>113</th>\n",
       "      <td>0</td>\n",
       "      <td>0</td>\n",
       "      <td>1</td>\n",
       "      <td>0</td>\n",
       "      <td>0</td>\n",
       "      <td>0</td>\n",
       "      <td>0</td>\n",
       "      <td>1</td>\n",
       "      <td>0</td>\n",
       "      <td>1</td>\n",
       "      <td>...</td>\n",
       "      <td>0</td>\n",
       "      <td>0</td>\n",
       "      <td>1</td>\n",
       "      <td>1</td>\n",
       "      <td>1</td>\n",
       "      <td>0</td>\n",
       "      <td>1</td>\n",
       "      <td>0</td>\n",
       "      <td>0</td>\n",
       "      <td>0</td>\n",
       "    </tr>\n",
       "    <tr>\n",
       "      <th>2193</th>\n",
       "      <td>0</td>\n",
       "      <td>0</td>\n",
       "      <td>0</td>\n",
       "      <td>0</td>\n",
       "      <td>0</td>\n",
       "      <td>1</td>\n",
       "      <td>0</td>\n",
       "      <td>0</td>\n",
       "      <td>0</td>\n",
       "      <td>1</td>\n",
       "      <td>...</td>\n",
       "      <td>0</td>\n",
       "      <td>0</td>\n",
       "      <td>0</td>\n",
       "      <td>0</td>\n",
       "      <td>1</td>\n",
       "      <td>0</td>\n",
       "      <td>0</td>\n",
       "      <td>2</td>\n",
       "      <td>1</td>\n",
       "      <td>0</td>\n",
       "    </tr>\n",
       "    <tr>\n",
       "      <th>1309</th>\n",
       "      <td>0</td>\n",
       "      <td>0</td>\n",
       "      <td>0</td>\n",
       "      <td>0</td>\n",
       "      <td>1</td>\n",
       "      <td>0</td>\n",
       "      <td>0</td>\n",
       "      <td>0</td>\n",
       "      <td>0</td>\n",
       "      <td>1</td>\n",
       "      <td>...</td>\n",
       "      <td>0</td>\n",
       "      <td>0</td>\n",
       "      <td>0</td>\n",
       "      <td>0</td>\n",
       "      <td>2</td>\n",
       "      <td>1</td>\n",
       "      <td>1</td>\n",
       "      <td>0</td>\n",
       "      <td>0</td>\n",
       "      <td>0</td>\n",
       "    </tr>\n",
       "  </tbody>\n",
       "</table>\n",
       "<p>526 rows × 91 columns</p>\n",
       "</div>"
      ],
      "text/plain": [
       "      acteur  action  adorer  aller  apprecier  apres  attendre  aussi  autre  \\\n",
       "1042       0       1       0      0          3      3         0      2      0   \n",
       "825        0       0       1      0          0      0         1      0      0   \n",
       "1920       1       0       0      0          0      0         0      0      0   \n",
       "1242       0       0       0      0          0      0         0      0      0   \n",
       "1695       0       1       0      0          0      0         0      0      0   \n",
       "...      ...     ...     ...    ...        ...    ...       ...    ...    ...   \n",
       "1816       0       0       0      0          0      0         0      0      0   \n",
       "364        0       0       1      0          0      0         0      0      0   \n",
       "113        0       0       1      0          0      0         0      1      0   \n",
       "2193       0       0       0      0          0      1         0      0      0   \n",
       "1309       0       0       0      0          1      0         0      0      0   \n",
       "\n",
       "      avoir  ...  superbe  tail  tant  toujours  tout  tres  trop  voir  \\\n",
       "1042     11  ...        0     1     0         0     3     7     1     3   \n",
       "825       0  ...        1     0     0         0     0     0     0     0   \n",
       "1920      1  ...        0     0     0         0     0     1     0     1   \n",
       "1242      2  ...        0     0     0         0     1     1     0     0   \n",
       "1695      3  ...        0     0     0         1     2     0     1     1   \n",
       "...     ...  ...      ...   ...   ...       ...   ...   ...   ...   ...   \n",
       "1816      0  ...        0     0     0         0     0     0     1     1   \n",
       "364       0  ...        0     0     0         0     1     2     0     0   \n",
       "113       1  ...        0     0     1         1     1     0     1     0   \n",
       "2193      1  ...        0     0     0         0     1     0     0     2   \n",
       "1309      1  ...        0     0     0         0     2     1     1     0   \n",
       "\n",
       "      vouloir  vraiment  \n",
       "1042        2         1  \n",
       "825         0         0  \n",
       "1920        0         0  \n",
       "1242        0         0  \n",
       "1695        0         0  \n",
       "...       ...       ...  \n",
       "1816        0         0  \n",
       "364         0         0  \n",
       "113         0         0  \n",
       "2193        1         0  \n",
       "1309        0         0  \n",
       "\n",
       "[526 rows x 91 columns]"
      ]
     },
     "execution_count": 67,
     "metadata": {},
     "output_type": "execute_result"
    }
   ],
   "source": [
    "X_test_bow = pd.DataFrame(cv_X_test.toarray(), index = X_test.index, columns = cv.get_feature_names_out())\n",
    "X_test_bow"
   ]
  },
  {
   "cell_type": "code",
   "execution_count": 70,
   "id": "563a39b9",
   "metadata": {},
   "outputs": [],
   "source": [
    "#Prédiction du y\n",
    "y_pred = model_LR.predict(X_test_bow)"
   ]
  },
  {
   "cell_type": "markdown",
   "id": "bf6ff1a6",
   "metadata": {},
   "source": [
    "#### Accuracy"
   ]
  },
  {
   "cell_type": "code",
   "execution_count": 82,
   "id": "fa227d18",
   "metadata": {},
   "outputs": [
    {
     "name": "stdout",
     "output_type": "stream",
     "text": [
      "La précision est de 0.903041825095057\n"
     ]
    }
   ],
   "source": [
    "accuracy = model_LR.score(X_test_bow, y_test)\n",
    "print(f\"La précision est de {accuracy}\")"
   ]
  },
  {
   "cell_type": "markdown",
   "id": "f8dece31",
   "metadata": {},
   "source": [
    "#### Matrice de confusion"
   ]
  },
  {
   "cell_type": "code",
   "execution_count": 84,
   "id": "f121e5ac",
   "metadata": {},
   "outputs": [
    {
     "data": {
      "text/plain": [
       "array([[ 22,  40],\n",
       "       [ 11, 453]])"
      ]
     },
     "execution_count": 84,
     "metadata": {},
     "output_type": "execute_result"
    }
   ],
   "source": [
    "matrice_confusion = confusion_matrix(y_test, y_pred)\n",
    "matrice_confusion"
   ]
  },
  {
   "cell_type": "code",
   "execution_count": 89,
   "id": "7953ec81",
   "metadata": {},
   "outputs": [
    {
     "name": "stdout",
     "output_type": "stream",
     "text": [
      "True negative = 22, \n",
      "False positive = 40, \n",
      "False negative = 11, \n",
      "True positive = 453\n"
     ]
    }
   ],
   "source": [
    "tn, fp, fn, tp = matrice_confusion.ravel()\n",
    "\n",
    "print(f\"True negative = {tn}, \\nFalse positive = {fp}, \\nFalse negative = {fn}, \\nTrue positive = {tp}\")"
   ]
  },
  {
   "cell_type": "markdown",
   "id": "f2e440e6",
   "metadata": {},
   "source": [
    "#### Test d'un word cloud"
   ]
  },
  {
   "cell_type": "code",
   "execution_count": 52,
   "id": "7b9d389a",
   "metadata": {},
   "outputs": [],
   "source": [
    "com_1 = df_sonic.iloc[0, 1]"
   ]
  },
  {
   "cell_type": "code",
   "execution_count": 64,
   "id": "35bf8f37",
   "metadata": {},
   "outputs": [
    {
     "name": "stderr",
     "output_type": "stream",
     "text": [
      "[nltk_data] Downloading package stopwords to\n",
      "[nltk_data]     /home/perrine/nltk_data...\n",
      "[nltk_data]   Unzipping corpora/stopwords.zip.\n"
     ]
    },
    {
     "data": {
      "text/plain": [
       "True"
      ]
     },
     "execution_count": 64,
     "metadata": {},
     "output_type": "execute_result"
    }
   ],
   "source": [
    "nltk.download('stopwords')"
   ]
  },
  {
   "cell_type": "code",
   "execution_count": 74,
   "id": "22aadd38",
   "metadata": {},
   "outputs": [],
   "source": [
    "\n",
    "SW = stopwords.words('french')\n",
    "#SW.append('Cette')\n",
    "#SW.append('fille')\n",
    "sw2 = ['déjà', 'formeune', 'toute', 'trop', 'suite']"
   ]
  },
  {
   "cell_type": "code",
   "execution_count": 72,
   "id": "67bd66bb",
   "metadata": {},
   "outputs": [],
   "source": [
    "for i in sw2:\n",
    "    SW.append(i)"
   ]
  },
  {
   "cell_type": "code",
   "execution_count": 73,
   "id": "a29d685f",
   "metadata": {},
   "outputs": [
    {
     "name": "stdout",
     "output_type": "stream",
     "text": [
      "['au', 'aux', 'avec', 'ce', 'ces', 'dans', 'de', 'des', 'du', 'elle', 'en', 'et', 'eux', 'il', 'ils', 'je', 'la', 'le', 'les', 'leur', 'lui', 'ma', 'mais', 'me', 'même', 'mes', 'moi', 'mon', 'ne', 'nos', 'notre', 'nous', 'on', 'ou', 'par', 'pas', 'pour', 'qu', 'que', 'qui', 'sa', 'se', 'ses', 'son', 'sur', 'ta', 'te', 'tes', 'toi', 'ton', 'tu', 'un', 'une', 'vos', 'votre', 'vous', 'c', 'd', 'j', 'l', 'à', 'm', 'n', 's', 't', 'y', 'été', 'étée', 'étées', 'étés', 'étant', 'étante', 'étants', 'étantes', 'suis', 'es', 'est', 'sommes', 'êtes', 'sont', 'serai', 'seras', 'sera', 'serons', 'serez', 'seront', 'serais', 'serait', 'serions', 'seriez', 'seraient', 'étais', 'était', 'étions', 'étiez', 'étaient', 'fus', 'fut', 'fûmes', 'fûtes', 'furent', 'sois', 'soit', 'soyons', 'soyez', 'soient', 'fusse', 'fusses', 'fût', 'fussions', 'fussiez', 'fussent', 'ayant', 'ayante', 'ayantes', 'ayants', 'eu', 'eue', 'eues', 'eus', 'ai', 'as', 'avons', 'avez', 'ont', 'aurai', 'auras', 'aura', 'aurons', 'aurez', 'auront', 'aurais', 'aurait', 'aurions', 'auriez', 'auraient', 'avais', 'avait', 'avions', 'aviez', 'avaient', 'eut', 'eûmes', 'eûtes', 'eurent', 'aie', 'aies', 'ait', 'ayons', 'ayez', 'aient', 'eusse', 'eusses', 'eût', 'eussions', 'eussiez', 'eussent', 'déjà', 'formeune', 'toute', 'trop', 'suite']\n"
     ]
    }
   ],
   "source": [
    "print(SW)"
   ]
  },
  {
   "cell_type": "code",
   "execution_count": 67,
   "id": "9f52c6e7",
   "metadata": {},
   "outputs": [
    {
     "data": {
      "image/png": "[encoded data removed]",
      "text/plain": [
       "<Figure size 432x288 with 1 Axes>"
      ]
     },
     "metadata": {
      "needs_background": "light"
     },
     "output_type": "display_data"
    }
   ],
   "source": [
    "\n",
    "WC=WordCloud(background_color = 'white',stopwords = SW).generate(com_1)\n",
    "\n",
    "plt.imshow(WC)\n",
    "plt.axis(\"off\")\n",
    "plt.show()"
   ]
  },
  {
   "cell_type": "code",
   "execution_count": null,
   "id": "ad243596",
   "metadata": {},
   "outputs": [],
   "source": []
  }
 ],
 "metadata": {
  "kernelspec": {
   "display_name": "Python 3 (ipykernel)",
   "language": "python",
   "name": "python3"
  },
  "language_info": {
   "codemirror_mode": {
    "name": "ipython",
    "version": 3
   },
   "file_extension": ".py",
   "mimetype": "text/x-python",
   "name": "python",
   "nbconvert_exporter": "python",
   "pygments_lexer": "ipython3",
   "version": "3.10.2"
  }
 },
 "nbformat": 4,
 "nbformat_minor": 5
}
